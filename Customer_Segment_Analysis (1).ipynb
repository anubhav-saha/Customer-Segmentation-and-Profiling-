{
 "cells": [
  {
   "cell_type": "code",
   "execution_count": 1,
   "metadata": {},
   "outputs": [],
   "source": [
    "import pandas as pd\n",
    "import numpy as np\n",
    "import pandas_profiling\n",
    "from scipy.stats import mode\n",
    "import scipy as sc\n",
    "import seaborn as sns #visualisation\n",
    "import matplotlib.pyplot as plt #visualisation\n",
    "%matplotlib inline \n",
    "sns.set(color_codes=True)\n",
    "import tensorflow as tf\n",
    "from sklearn import metrics\n",
    "from sklearn.cluster import KMeans\n",
    "from sklearn.datasets import load_digits\n",
    "from sklearn.decomposition import PCA\n",
    "from sklearn.preprocessing import scale\n",
    "from sklearn.preprocessing import LabelEncoder\n",
    "from sklearn.preprocessing import MinMaxScaler"
   ]
  },
  {
   "cell_type": "code",
   "execution_count": 2,
   "metadata": {},
   "outputs": [
    {
     "data": {
      "text/plain": [
       "'0.25.1'"
      ]
     },
     "execution_count": 2,
     "metadata": {},
     "output_type": "execute_result"
    }
   ],
   "source": [
    "pd.__version__"
   ]
  },
  {
   "cell_type": "code",
   "execution_count": 3,
   "metadata": {},
   "outputs": [
    {
     "name": "stdout",
     "output_type": "stream",
     "text": [
      "Collecting https://github.com/pandas-profiling/pandas-profiling/archive/master.zip\n",
      "  Downloading https://github.com/pandas-profiling/pandas-profiling/archive/master.zip\n",
      "Requirement already satisfied: joblib in c:\\users\\anubh\\anaconda3\\lib\\site-packages (from pandas-profiling==2.12.0) (0.13.2)\n",
      "Requirement already satisfied: scipy>=1.4.1 in c:\\users\\anubh\\anaconda3\\lib\\site-packages (from pandas-profiling==2.12.0) (1.4.1)\n",
      "Collecting pandas!=1.0.0,!=1.0.1,!=1.0.2,!=1.1.0,>=0.25.3\n",
      "  Downloading pandas-1.2.3-cp37-cp37m-win_amd64.whl (9.1 MB)\n",
      "Collecting matplotlib>=3.2.0\n",
      "  Downloading matplotlib-3.4.1-cp37-cp37m-win_amd64.whl (7.1 MB)\n",
      "Collecting confuse>=1.0.0\n",
      "  Downloading confuse-1.4.0-py2.py3-none-any.whl (21 kB)\n",
      "Collecting jinja2>=2.11.1\n",
      "  Downloading Jinja2-2.11.3-py2.py3-none-any.whl (125 kB)\n",
      "Collecting visions[type_image_path]==0.6.0\n",
      "  Downloading visions-0.6.0-py3-none-any.whl (75 kB)\n",
      "Requirement already satisfied: numpy>=1.16.0 in c:\\users\\anubh\\anaconda3\\lib\\site-packages (from pandas-profiling==2.12.0) (1.16.5)\n",
      "Collecting attrs>=19.3.0\n",
      "  Downloading attrs-20.3.0-py2.py3-none-any.whl (49 kB)\n",
      "Collecting htmlmin>=0.1.12\n",
      "  Downloading htmlmin-0.1.12.tar.gz (19 kB)\n",
      "Collecting missingno>=0.4.2\n",
      "  Downloading missingno-0.4.2-py3-none-any.whl (9.7 kB)\n",
      "Collecting phik>=0.10.0\n",
      "  Downloading phik-0.11.2.tar.gz (1.1 MB)\n",
      "Collecting tangled-up-in-unicode>=0.0.6\n",
      "  Downloading tangled_up_in_unicode-0.0.7-py3-none-any.whl (3.1 MB)\n",
      "Collecting requests>=2.24.0\n",
      "  Downloading requests-2.25.1-py2.py3-none-any.whl (61 kB)\n",
      "Collecting tqdm>=4.48.2\n",
      "  Downloading tqdm-4.60.0-py2.py3-none-any.whl (75 kB)\n",
      "Collecting seaborn>=0.10.1\n",
      "  Downloading seaborn-0.11.1-py3-none-any.whl (285 kB)\n",
      "Requirement already satisfied: python-dateutil>=2.7.3 in c:\\users\\anubh\\anaconda3\\lib\\site-packages (from pandas!=1.0.0,!=1.0.1,!=1.0.2,!=1.1.0,>=0.25.3->pandas-profiling==2.12.0) (2.8.0)\n",
      "Requirement already satisfied: pytz>=2017.3 in c:\\users\\anubh\\anaconda3\\lib\\site-packages (from pandas!=1.0.0,!=1.0.1,!=1.0.2,!=1.1.0,>=0.25.3->pandas-profiling==2.12.0) (2019.3)\n",
      "Requirement already satisfied: pillow>=6.2.0 in c:\\users\\anubh\\anaconda3\\lib\\site-packages (from matplotlib>=3.2.0->pandas-profiling==2.12.0) (6.2.0)\n",
      "Requirement already satisfied: cycler>=0.10 in c:\\users\\anubh\\anaconda3\\lib\\site-packages (from matplotlib>=3.2.0->pandas-profiling==2.12.0) (0.10.0)\n",
      "Requirement already satisfied: kiwisolver>=1.0.1 in c:\\users\\anubh\\anaconda3\\lib\\site-packages (from matplotlib>=3.2.0->pandas-profiling==2.12.0) (1.1.0)\n",
      "Requirement already satisfied: pyparsing>=2.2.1 in c:\\users\\anubh\\anaconda3\\lib\\site-packages (from matplotlib>=3.2.0->pandas-profiling==2.12.0) (2.4.2)\n",
      "Requirement already satisfied: pyyaml in c:\\users\\anubh\\anaconda3\\lib\\site-packages (from confuse>=1.0.0->pandas-profiling==2.12.0) (5.1.2)\n",
      "Requirement already satisfied: MarkupSafe>=0.23 in c:\\users\\anubh\\anaconda3\\lib\\site-packages (from jinja2>=2.11.1->pandas-profiling==2.12.0) (1.1.1)\n",
      "Collecting networkx>=2.4\n",
      "  Downloading networkx-2.5.1-py3-none-any.whl (1.6 MB)\n",
      "Collecting imagehash; extra == \"type_image_path\"\n",
      "  Downloading ImageHash-4.2.0-py2.py3-none-any.whl (295 kB)\n",
      "Requirement already satisfied: certifi>=2017.4.17 in c:\\users\\anubh\\anaconda3\\lib\\site-packages (from requests>=2.24.0->pandas-profiling==2.12.0) (2019.9.11)\n",
      "Requirement already satisfied: idna<3,>=2.5 in c:\\users\\anubh\\anaconda3\\lib\\site-packages (from requests>=2.24.0->pandas-profiling==2.12.0) (2.8)\n",
      "Requirement already satisfied: chardet<5,>=3.0.2 in c:\\users\\anubh\\anaconda3\\lib\\site-packages (from requests>=2.24.0->pandas-profiling==2.12.0) (3.0.4)\n",
      "Requirement already satisfied: urllib3<1.27,>=1.21.1 in c:\\users\\anubh\\anaconda3\\lib\\site-packages (from requests>=2.24.0->pandas-profiling==2.12.0) (1.24.2)\n",
      "Requirement already satisfied: six>=1.5 in c:\\users\\anubh\\anaconda3\\lib\\site-packages (from python-dateutil>=2.7.3->pandas!=1.0.0,!=1.0.1,!=1.0.2,!=1.1.0,>=0.25.3->pandas-profiling==2.12.0) (1.12.0)\n",
      "Requirement already satisfied: setuptools in c:\\users\\anubh\\anaconda3\\lib\\site-packages (from kiwisolver>=1.0.1->matplotlib>=3.2.0->pandas-profiling==2.12.0) (41.4.0)\n",
      "Requirement already satisfied: decorator<5,>=4.3 in c:\\users\\anubh\\anaconda3\\lib\\site-packages (from networkx>=2.4->visions[type_image_path]==0.6.0->pandas-profiling==2.12.0) (4.4.0)\n",
      "Requirement already satisfied: PyWavelets in c:\\users\\anubh\\anaconda3\\lib\\site-packages (from imagehash; extra == \"type_image_path\"->visions[type_image_path]==0.6.0->pandas-profiling==2.12.0) (1.0.3)\n",
      "Building wheels for collected packages: pandas-profiling, htmlmin, phik\n",
      "  Building wheel for pandas-profiling (setup.py): started\n",
      "  Building wheel for pandas-profiling (setup.py): finished with status 'done'\n",
      "  Created wheel for pandas-profiling: filename=pandas_profiling-2.12.0-py2.py3-none-any.whl size=243838 sha256=a993b262989b8f4dd394be41fc92fbb87d43b6675477dfd903723e53456eb55c\n",
      "  Stored in directory: C:\\Users\\anubh\\AppData\\Local\\Temp\\pip-ephem-wheel-cache-1v4laout\\wheels\\cc\\d5\\09\\083fb07c9363a2f45854b0e3a7de7d7c560f07da74b9e9769d\n",
      "  Building wheel for htmlmin (setup.py): started\n",
      "  Building wheel for htmlmin (setup.py): finished with status 'done'\n",
      "  Created wheel for htmlmin: filename=htmlmin-0.1.12-py3-none-any.whl size=27089 sha256=efb1ed1525a941bbf2bf7d9c156e28a7536b5174b9f16dc2f9bace34743ec064\n",
      "  Stored in directory: c:\\users\\anubh\\appdata\\local\\pip\\cache\\wheels\\70\\e1\\52\\5b14d250ba868768823940c3229e9950d201a26d0bd3ee8655\n",
      "  Building wheel for phik (setup.py): started\n",
      "  Building wheel for phik (setup.py): finished with status 'done'\n",
      "  Created wheel for phik: filename=phik-0.11.2-py3-none-any.whl size=1107420 sha256=4486de10872c7f463f89f671f0f16c7209e5fbae612f70f7debad84a6b53eb07\n",
      "  Stored in directory: c:\\users\\anubh\\appdata\\local\\pip\\cache\\wheels\\40\\98\\a3\\b654f24edcdcdb87d1f70d65a506fcfdf15289db129c594bcd\n",
      "Successfully built pandas-profiling htmlmin phik\n",
      "Installing collected packages: pandas, matplotlib, confuse, jinja2, tangled-up-in-unicode, attrs, networkx, imagehash, visions, htmlmin, seaborn, missingno, phik, requests, tqdm, pandas-profiling\n",
      "  Attempting uninstall: pandas\n",
      "    Found existing installation: pandas 0.25.1\n",
      "    Uninstalling pandas-0.25.1:\n",
      "      Successfully uninstalled pandas-0.25.1\n"
     ]
    },
    {
     "name": "stderr",
     "output_type": "stream",
     "text": [
      "ERROR: phik 0.11.2 has requirement joblib>=0.14.1, but you'll have joblib 0.13.2 which is incompatible.\n",
      "ERROR: phik 0.11.2 has requirement numpy>=1.18.0, but you'll have numpy 1.16.5 which is incompatible.\n",
      "ERROR: phik 0.11.2 has requirement scipy>=1.5.2, but you'll have scipy 1.4.1 which is incompatible.\n",
      "ERROR: Could not install packages due to an EnvironmentError: [WinError 5] Access is denied: 'c:\\\\users\\\\anubh\\\\anaconda3\\\\lib\\\\site-packages\\\\~andas\\\\io\\\\msgpack\\\\_packer.cp37-win_amd64.pyd'\n",
      "Consider using the `--user` option or check the permissions.\n",
      "\n",
      "WARNING: You are using pip version 20.1.1; however, version 21.0.1 is available.\n",
      "You should consider upgrading via the 'c:\\users\\anubh\\anaconda3\\python.exe -m pip install --upgrade pip' command.\n"
     ]
    }
   ],
   "source": [
    "!pip install https://github.com/pandas-profiling/pandas-profiling/archive/master.zip"
   ]
  },
  {
   "cell_type": "code",
   "execution_count": 4,
   "metadata": {},
   "outputs": [],
   "source": [
    "#To force pyhton to show all output instead of the last output only\n",
    "from IPython.core.interactiveshell import InteractiveShell\n",
    "InteractiveShell.ast_node_interactivity = \"all\""
   ]
  },
  {
   "cell_type": "code",
   "execution_count": 10,
   "metadata": {},
   "outputs": [
    {
     "data": {
      "text/plain": [
       "'C:\\\\Users\\\\anubh\\\\Downloads'"
      ]
     },
     "execution_count": 10,
     "metadata": {},
     "output_type": "execute_result"
    }
   ],
   "source": [
    "import os\n",
    "cwd = os.getcwd()\n",
    "cwd"
   ]
  },
  {
   "cell_type": "code",
   "execution_count": 32,
   "metadata": {},
   "outputs": [],
   "source": [
    "#importing data from local repository\n",
    "customer_data = pd.read_csv(\"Customer_Dataset_File.csv\")"
   ]
  },
  {
   "cell_type": "code",
   "execution_count": 17,
   "metadata": {},
   "outputs": [
    {
     "ename": "ImportError",
     "evalue": "cannot import name 'is_url' from 'pandas.io.common' (C:\\Users\\anubh\\Anaconda3\\lib\\site-packages\\pandas\\io\\common.py)",
     "output_type": "error",
     "traceback": [
      "\u001b[1;31m---------------------------------------------------------------------------\u001b[0m",
      "\u001b[1;31mImportError\u001b[0m                               Traceback (most recent call last)",
      "\u001b[1;32m~\\Anaconda3\\lib\\site-packages\\IPython\\core\\formatters.py\u001b[0m in \u001b[0;36m__call__\u001b[1;34m(self, obj)\u001b[0m\n\u001b[0;32m    343\u001b[0m             \u001b[0mmethod\u001b[0m \u001b[1;33m=\u001b[0m \u001b[0mget_real_method\u001b[0m\u001b[1;33m(\u001b[0m\u001b[0mobj\u001b[0m\u001b[1;33m,\u001b[0m \u001b[0mself\u001b[0m\u001b[1;33m.\u001b[0m\u001b[0mprint_method\u001b[0m\u001b[1;33m)\u001b[0m\u001b[1;33m\u001b[0m\u001b[1;33m\u001b[0m\u001b[0m\n\u001b[0;32m    344\u001b[0m             \u001b[1;32mif\u001b[0m \u001b[0mmethod\u001b[0m \u001b[1;32mis\u001b[0m \u001b[1;32mnot\u001b[0m \u001b[1;32mNone\u001b[0m\u001b[1;33m:\u001b[0m\u001b[1;33m\u001b[0m\u001b[1;33m\u001b[0m\u001b[0m\n\u001b[1;32m--> 345\u001b[1;33m                 \u001b[1;32mreturn\u001b[0m \u001b[0mmethod\u001b[0m\u001b[1;33m(\u001b[0m\u001b[1;33m)\u001b[0m\u001b[1;33m\u001b[0m\u001b[1;33m\u001b[0m\u001b[0m\n\u001b[0m\u001b[0;32m    346\u001b[0m             \u001b[1;32mreturn\u001b[0m \u001b[1;32mNone\u001b[0m\u001b[1;33m\u001b[0m\u001b[1;33m\u001b[0m\u001b[0m\n\u001b[0;32m    347\u001b[0m         \u001b[1;32melse\u001b[0m\u001b[1;33m:\u001b[0m\u001b[1;33m\u001b[0m\u001b[1;33m\u001b[0m\u001b[0m\n",
      "\u001b[1;32m~\\Anaconda3\\lib\\site-packages\\pandas\\core\\frame.py\u001b[0m in \u001b[0;36m_repr_html_\u001b[1;34m(self)\u001b[0m\n\u001b[0;32m    685\u001b[0m         \u001b[1;33m>>\u001b[0m\u001b[1;33m>\u001b[0m \u001b[0mDataFrame\u001b[0m\u001b[1;33m(\u001b[0m\u001b[1;33m{\u001b[0m\u001b[1;34m\"A\"\u001b[0m\u001b[1;33m:\u001b[0m \u001b[1;33m[\u001b[0m\u001b[1;36m1\u001b[0m\u001b[1;33m,\u001b[0m \u001b[1;36m2\u001b[0m\u001b[1;33m]\u001b[0m\u001b[1;33m,\u001b[0m \u001b[1;34m\"B\"\u001b[0m\u001b[1;33m:\u001b[0m \u001b[1;33m[\u001b[0m\u001b[1;36m3\u001b[0m\u001b[1;33m,\u001b[0m \u001b[1;36m4\u001b[0m\u001b[1;33m]\u001b[0m\u001b[1;33m}\u001b[0m\u001b[1;33m)\u001b[0m\u001b[1;33m.\u001b[0m\u001b[0m_is_homogeneous_type\u001b[0m\u001b[1;33m\u001b[0m\u001b[1;33m\u001b[0m\u001b[0m\n\u001b[0;32m    686\u001b[0m         \u001b[1;32mTrue\u001b[0m\u001b[1;33m\u001b[0m\u001b[1;33m\u001b[0m\u001b[0m\n\u001b[1;32m--> 687\u001b[1;33m         \u001b[1;33m>>\u001b[0m\u001b[1;33m>\u001b[0m \u001b[0mDataFrame\u001b[0m\u001b[1;33m(\u001b[0m\u001b[1;33m{\u001b[0m\u001b[1;34m\"A\"\u001b[0m\u001b[1;33m:\u001b[0m \u001b[1;33m[\u001b[0m\u001b[1;36m1\u001b[0m\u001b[1;33m,\u001b[0m \u001b[1;36m2\u001b[0m\u001b[1;33m]\u001b[0m\u001b[1;33m,\u001b[0m \u001b[1;34m\"B\"\u001b[0m\u001b[1;33m:\u001b[0m \u001b[1;33m[\u001b[0m\u001b[1;36m3.0\u001b[0m\u001b[1;33m,\u001b[0m \u001b[1;36m4.0\u001b[0m\u001b[1;33m]\u001b[0m\u001b[1;33m}\u001b[0m\u001b[1;33m)\u001b[0m\u001b[1;33m.\u001b[0m\u001b[0m_is_homogeneous_type\u001b[0m\u001b[1;33m\u001b[0m\u001b[1;33m\u001b[0m\u001b[0m\n\u001b[0m\u001b[0;32m    688\u001b[0m         \u001b[1;32mFalse\u001b[0m\u001b[1;33m\u001b[0m\u001b[1;33m\u001b[0m\u001b[0m\n\u001b[0;32m    689\u001b[0m \u001b[1;33m\u001b[0m\u001b[0m\n",
      "\u001b[1;32m~\\Anaconda3\\lib\\site-packages\\pandas\\io\\formats\\format.py\u001b[0m in \u001b[0;36mto_html\u001b[1;34m(self, classes, notebook, border)\u001b[0m\n\u001b[0;32m    835\u001b[0m             \u001b[1;32mdef\u001b[0m \u001b[0mspace_format\u001b[0m\u001b[1;33m(\u001b[0m\u001b[0mx\u001b[0m\u001b[1;33m,\u001b[0m \u001b[0my\u001b[0m\u001b[1;33m)\u001b[0m\u001b[1;33m:\u001b[0m\u001b[1;33m\u001b[0m\u001b[1;33m\u001b[0m\u001b[0m\n\u001b[0;32m    836\u001b[0m                 if (\n\u001b[1;32m--> 837\u001b[1;33m                     \u001b[0my\u001b[0m \u001b[1;32mnot\u001b[0m \u001b[1;32min\u001b[0m \u001b[0mself\u001b[0m\u001b[1;33m.\u001b[0m\u001b[0mformatters\u001b[0m\u001b[1;33m\u001b[0m\u001b[1;33m\u001b[0m\u001b[0m\n\u001b[0m\u001b[0;32m    838\u001b[0m                     \u001b[1;32mand\u001b[0m \u001b[0mneed_leadsp\u001b[0m\u001b[1;33m[\u001b[0m\u001b[0mx\u001b[0m\u001b[1;33m]\u001b[0m\u001b[1;33m\u001b[0m\u001b[1;33m\u001b[0m\u001b[0m\n\u001b[0;32m    839\u001b[0m                     \u001b[1;32mand\u001b[0m \u001b[1;32mnot\u001b[0m \u001b[0mrestrict_formatting\u001b[0m\u001b[1;33m\u001b[0m\u001b[1;33m\u001b[0m\u001b[0m\n",
      "\u001b[1;32m~\\Anaconda3\\lib\\site-packages\\pandas\\io\\formats\\html.py\u001b[0m in \u001b[0;36m<module>\u001b[1;34m\u001b[0m\n\u001b[0;32m     12\u001b[0m \u001b[1;32mfrom\u001b[0m \u001b[0mpandas\u001b[0m \u001b[1;32mimport\u001b[0m \u001b[0mMultiIndex\u001b[0m\u001b[1;33m,\u001b[0m \u001b[0moption_context\u001b[0m\u001b[1;33m\u001b[0m\u001b[1;33m\u001b[0m\u001b[0m\n\u001b[0;32m     13\u001b[0m \u001b[1;33m\u001b[0m\u001b[0m\n\u001b[1;32m---> 14\u001b[1;33m \u001b[1;32mfrom\u001b[0m \u001b[0mpandas\u001b[0m\u001b[1;33m.\u001b[0m\u001b[0mio\u001b[0m\u001b[1;33m.\u001b[0m\u001b[0mcommon\u001b[0m \u001b[1;32mimport\u001b[0m \u001b[0mis_url\u001b[0m\u001b[1;33m\u001b[0m\u001b[1;33m\u001b[0m\u001b[0m\n\u001b[0m\u001b[0;32m     15\u001b[0m \u001b[1;32mfrom\u001b[0m \u001b[0mpandas\u001b[0m\u001b[1;33m.\u001b[0m\u001b[0mio\u001b[0m\u001b[1;33m.\u001b[0m\u001b[0mformats\u001b[0m\u001b[1;33m.\u001b[0m\u001b[0mformat\u001b[0m \u001b[1;32mimport\u001b[0m \u001b[0mDataFrameFormatter\u001b[0m\u001b[1;33m,\u001b[0m \u001b[0mget_level_lengths\u001b[0m\u001b[1;33m\u001b[0m\u001b[1;33m\u001b[0m\u001b[0m\n\u001b[0;32m     16\u001b[0m \u001b[1;32mfrom\u001b[0m \u001b[0mpandas\u001b[0m\u001b[1;33m.\u001b[0m\u001b[0mio\u001b[0m\u001b[1;33m.\u001b[0m\u001b[0mformats\u001b[0m\u001b[1;33m.\u001b[0m\u001b[0mprinting\u001b[0m \u001b[1;32mimport\u001b[0m \u001b[0mpprint_thing\u001b[0m\u001b[1;33m\u001b[0m\u001b[1;33m\u001b[0m\u001b[0m\n",
      "\u001b[1;31mImportError\u001b[0m: cannot import name 'is_url' from 'pandas.io.common' (C:\\Users\\anubh\\Anaconda3\\lib\\site-packages\\pandas\\io\\common.py)"
     ]
    },
    {
     "data": {
      "text/plain": [
       "        CustomerID  Region TownSize  Gender  Age  EducationYears  \\\n",
       "0  3964-QJWTRG-NPN       1        2  Female   20              15   \n",
       "1  0648-AIPJSP-UVM       5        5    Male   22              17   \n",
       "2  5195-TLUDJE-HVO       3        4  Female   67              14   \n",
       "3  4459-VLPQUH-3OL       4        3    Male   23              16   \n",
       "4  8158-SMTQFB-CNO       2        2    Male   26              16   \n",
       "\n",
       "    JobCategory UnionMember  EmploymentLength Retired  ... CallWait  \\\n",
       "0  Professional         Yes                 0      No  ...      Yes   \n",
       "1         Sales          No                 0      No  ...       No   \n",
       "2         Sales          No                16      No  ...       No   \n",
       "3         Sales          No                 0      No  ...       No   \n",
       "4         Sales          No                 1      No  ...      Yes   \n",
       "\n",
       "   CallForward  ThreeWayCalling  EBilling TVWatchingHours OwnsPC  \\\n",
       "0          Yes              Yes        No              13     No   \n",
       "1          Yes               No       Yes              18    Yes   \n",
       "2           No               No        No              21     No   \n",
       "3           No               No       Yes              26    Yes   \n",
       "4          Yes              Yes        No              27    Yes   \n",
       "\n",
       "   OwnsMobileDevice  OwnsGameSystem  OwnsFax  NewsSubscriber  \n",
       "0               Yes             Yes       No              No  \n",
       "1               Yes             Yes      Yes             Yes  \n",
       "2                No              No       No             Yes  \n",
       "3               Yes             Yes       No             Yes  \n",
       "4                No             Yes       No              No  \n",
       "\n",
       "[5 rows x 59 columns]"
      ]
     },
     "execution_count": 17,
     "metadata": {},
     "output_type": "execute_result"
    },
    {
     "ename": "ImportError",
     "evalue": "cannot import name 'is_url' from 'pandas.io.common' (C:\\Users\\anubh\\Anaconda3\\lib\\site-packages\\pandas\\io\\common.py)",
     "output_type": "error",
     "traceback": [
      "\u001b[1;31m---------------------------------------------------------------------------\u001b[0m",
      "\u001b[1;31mImportError\u001b[0m                               Traceback (most recent call last)",
      "\u001b[1;32m~\\Anaconda3\\lib\\site-packages\\IPython\\core\\formatters.py\u001b[0m in \u001b[0;36m__call__\u001b[1;34m(self, obj)\u001b[0m\n\u001b[0;32m    343\u001b[0m             \u001b[0mmethod\u001b[0m \u001b[1;33m=\u001b[0m \u001b[0mget_real_method\u001b[0m\u001b[1;33m(\u001b[0m\u001b[0mobj\u001b[0m\u001b[1;33m,\u001b[0m \u001b[0mself\u001b[0m\u001b[1;33m.\u001b[0m\u001b[0mprint_method\u001b[0m\u001b[1;33m)\u001b[0m\u001b[1;33m\u001b[0m\u001b[1;33m\u001b[0m\u001b[0m\n\u001b[0;32m    344\u001b[0m             \u001b[1;32mif\u001b[0m \u001b[0mmethod\u001b[0m \u001b[1;32mis\u001b[0m \u001b[1;32mnot\u001b[0m \u001b[1;32mNone\u001b[0m\u001b[1;33m:\u001b[0m\u001b[1;33m\u001b[0m\u001b[1;33m\u001b[0m\u001b[0m\n\u001b[1;32m--> 345\u001b[1;33m                 \u001b[1;32mreturn\u001b[0m \u001b[0mmethod\u001b[0m\u001b[1;33m(\u001b[0m\u001b[1;33m)\u001b[0m\u001b[1;33m\u001b[0m\u001b[1;33m\u001b[0m\u001b[0m\n\u001b[0m\u001b[0;32m    346\u001b[0m             \u001b[1;32mreturn\u001b[0m \u001b[1;32mNone\u001b[0m\u001b[1;33m\u001b[0m\u001b[1;33m\u001b[0m\u001b[0m\n\u001b[0;32m    347\u001b[0m         \u001b[1;32melse\u001b[0m\u001b[1;33m:\u001b[0m\u001b[1;33m\u001b[0m\u001b[1;33m\u001b[0m\u001b[0m\n",
      "\u001b[1;32m~\\Anaconda3\\lib\\site-packages\\pandas\\core\\frame.py\u001b[0m in \u001b[0;36m_repr_html_\u001b[1;34m(self)\u001b[0m\n\u001b[0;32m    685\u001b[0m         \u001b[1;33m>>\u001b[0m\u001b[1;33m>\u001b[0m \u001b[0mDataFrame\u001b[0m\u001b[1;33m(\u001b[0m\u001b[1;33m{\u001b[0m\u001b[1;34m\"A\"\u001b[0m\u001b[1;33m:\u001b[0m \u001b[1;33m[\u001b[0m\u001b[1;36m1\u001b[0m\u001b[1;33m,\u001b[0m \u001b[1;36m2\u001b[0m\u001b[1;33m]\u001b[0m\u001b[1;33m,\u001b[0m \u001b[1;34m\"B\"\u001b[0m\u001b[1;33m:\u001b[0m \u001b[1;33m[\u001b[0m\u001b[1;36m3\u001b[0m\u001b[1;33m,\u001b[0m \u001b[1;36m4\u001b[0m\u001b[1;33m]\u001b[0m\u001b[1;33m}\u001b[0m\u001b[1;33m)\u001b[0m\u001b[1;33m.\u001b[0m\u001b[0m_is_homogeneous_type\u001b[0m\u001b[1;33m\u001b[0m\u001b[1;33m\u001b[0m\u001b[0m\n\u001b[0;32m    686\u001b[0m         \u001b[1;32mTrue\u001b[0m\u001b[1;33m\u001b[0m\u001b[1;33m\u001b[0m\u001b[0m\n\u001b[1;32m--> 687\u001b[1;33m         \u001b[1;33m>>\u001b[0m\u001b[1;33m>\u001b[0m \u001b[0mDataFrame\u001b[0m\u001b[1;33m(\u001b[0m\u001b[1;33m{\u001b[0m\u001b[1;34m\"A\"\u001b[0m\u001b[1;33m:\u001b[0m \u001b[1;33m[\u001b[0m\u001b[1;36m1\u001b[0m\u001b[1;33m,\u001b[0m \u001b[1;36m2\u001b[0m\u001b[1;33m]\u001b[0m\u001b[1;33m,\u001b[0m \u001b[1;34m\"B\"\u001b[0m\u001b[1;33m:\u001b[0m \u001b[1;33m[\u001b[0m\u001b[1;36m3.0\u001b[0m\u001b[1;33m,\u001b[0m \u001b[1;36m4.0\u001b[0m\u001b[1;33m]\u001b[0m\u001b[1;33m}\u001b[0m\u001b[1;33m)\u001b[0m\u001b[1;33m.\u001b[0m\u001b[0m_is_homogeneous_type\u001b[0m\u001b[1;33m\u001b[0m\u001b[1;33m\u001b[0m\u001b[0m\n\u001b[0m\u001b[0;32m    688\u001b[0m         \u001b[1;32mFalse\u001b[0m\u001b[1;33m\u001b[0m\u001b[1;33m\u001b[0m\u001b[0m\n\u001b[0;32m    689\u001b[0m \u001b[1;33m\u001b[0m\u001b[0m\n",
      "\u001b[1;32m~\\Anaconda3\\lib\\site-packages\\pandas\\io\\formats\\format.py\u001b[0m in \u001b[0;36mto_html\u001b[1;34m(self, classes, notebook, border)\u001b[0m\n\u001b[0;32m    835\u001b[0m             \u001b[1;32mdef\u001b[0m \u001b[0mspace_format\u001b[0m\u001b[1;33m(\u001b[0m\u001b[0mx\u001b[0m\u001b[1;33m,\u001b[0m \u001b[0my\u001b[0m\u001b[1;33m)\u001b[0m\u001b[1;33m:\u001b[0m\u001b[1;33m\u001b[0m\u001b[1;33m\u001b[0m\u001b[0m\n\u001b[0;32m    836\u001b[0m                 if (\n\u001b[1;32m--> 837\u001b[1;33m                     \u001b[0my\u001b[0m \u001b[1;32mnot\u001b[0m \u001b[1;32min\u001b[0m \u001b[0mself\u001b[0m\u001b[1;33m.\u001b[0m\u001b[0mformatters\u001b[0m\u001b[1;33m\u001b[0m\u001b[1;33m\u001b[0m\u001b[0m\n\u001b[0m\u001b[0;32m    838\u001b[0m                     \u001b[1;32mand\u001b[0m \u001b[0mneed_leadsp\u001b[0m\u001b[1;33m[\u001b[0m\u001b[0mx\u001b[0m\u001b[1;33m]\u001b[0m\u001b[1;33m\u001b[0m\u001b[1;33m\u001b[0m\u001b[0m\n\u001b[0;32m    839\u001b[0m                     \u001b[1;32mand\u001b[0m \u001b[1;32mnot\u001b[0m \u001b[0mrestrict_formatting\u001b[0m\u001b[1;33m\u001b[0m\u001b[1;33m\u001b[0m\u001b[0m\n",
      "\u001b[1;32m~\\Anaconda3\\lib\\site-packages\\pandas\\io\\formats\\html.py\u001b[0m in \u001b[0;36m<module>\u001b[1;34m\u001b[0m\n\u001b[0;32m     12\u001b[0m \u001b[1;32mfrom\u001b[0m \u001b[0mpandas\u001b[0m \u001b[1;32mimport\u001b[0m \u001b[0mMultiIndex\u001b[0m\u001b[1;33m,\u001b[0m \u001b[0moption_context\u001b[0m\u001b[1;33m\u001b[0m\u001b[1;33m\u001b[0m\u001b[0m\n\u001b[0;32m     13\u001b[0m \u001b[1;33m\u001b[0m\u001b[0m\n\u001b[1;32m---> 14\u001b[1;33m \u001b[1;32mfrom\u001b[0m \u001b[0mpandas\u001b[0m\u001b[1;33m.\u001b[0m\u001b[0mio\u001b[0m\u001b[1;33m.\u001b[0m\u001b[0mcommon\u001b[0m \u001b[1;32mimport\u001b[0m \u001b[0mis_url\u001b[0m\u001b[1;33m\u001b[0m\u001b[1;33m\u001b[0m\u001b[0m\n\u001b[0m\u001b[0;32m     15\u001b[0m \u001b[1;32mfrom\u001b[0m \u001b[0mpandas\u001b[0m\u001b[1;33m.\u001b[0m\u001b[0mio\u001b[0m\u001b[1;33m.\u001b[0m\u001b[0mformats\u001b[0m\u001b[1;33m.\u001b[0m\u001b[0mformat\u001b[0m \u001b[1;32mimport\u001b[0m \u001b[0mDataFrameFormatter\u001b[0m\u001b[1;33m,\u001b[0m \u001b[0mget_level_lengths\u001b[0m\u001b[1;33m\u001b[0m\u001b[1;33m\u001b[0m\u001b[0m\n\u001b[0;32m     16\u001b[0m \u001b[1;32mfrom\u001b[0m \u001b[0mpandas\u001b[0m\u001b[1;33m.\u001b[0m\u001b[0mio\u001b[0m\u001b[1;33m.\u001b[0m\u001b[0mformats\u001b[0m\u001b[1;33m.\u001b[0m\u001b[0mprinting\u001b[0m \u001b[1;32mimport\u001b[0m \u001b[0mpprint_thing\u001b[0m\u001b[1;33m\u001b[0m\u001b[1;33m\u001b[0m\u001b[0m\n",
      "\u001b[1;31mImportError\u001b[0m: cannot import name 'is_url' from 'pandas.io.common' (C:\\Users\\anubh\\Anaconda3\\lib\\site-packages\\pandas\\io\\common.py)"
     ]
    },
    {
     "data": {
      "text/plain": [
       "           CustomerID  Region TownSize  Gender  Age  EducationYears  \\\n",
       "4995  3675-GZFGOT-QJN       2        2    Male   68              10   \n",
       "4996  4699-LEPCCE-3UD       3        3    Male   51              14   \n",
       "4997  8485-LLUICH-CVV       4        5    Male   75              17   \n",
       "4998  9325-URAAUT-7FA       1        1    Male   47              19   \n",
       "4999  8027-EXDZBF-OGR       3        5  Female   41              10   \n",
       "\n",
       "       JobCategory UnionMember  EmploymentLength Retired  ... CallWait  \\\n",
       "4995  Professional          No                24      No  ...       No   \n",
       "4996  Professional          No                 6      No  ...      Yes   \n",
       "4997  Professional          No                24      No  ...      Yes   \n",
       "4998         Sales          No                 3      No  ...       No   \n",
       "4999        Crafts          No                20      No  ...       No   \n",
       "\n",
       "      CallForward  ThreeWayCalling  EBilling TVWatchingHours OwnsPC  \\\n",
       "4995           No               No        No              19     No   \n",
       "4996          Yes              Yes        No              14     No   \n",
       "4997          Yes              Yes        No              16     No   \n",
       "4998           No               No       Yes              24    Yes   \n",
       "4999           No               No        No              19     No   \n",
       "\n",
       "      OwnsMobileDevice  OwnsGameSystem  OwnsFax  NewsSubscriber  \n",
       "4995                No              No       No             Yes  \n",
       "4996                No              No       No              No  \n",
       "4997                No              No       No             Yes  \n",
       "4998               Yes             Yes       No             Yes  \n",
       "4999                No              No       No              No  \n",
       "\n",
       "[5 rows x 59 columns]"
      ]
     },
     "execution_count": 17,
     "metadata": {},
     "output_type": "execute_result"
    }
   ],
   "source": [
    "customer_data.head()\n",
    "customer_data.tail()"
   ]
  },
  {
   "cell_type": "code",
   "execution_count": 33,
   "metadata": {},
   "outputs": [
    {
     "data": {
      "text/plain": [
       "(5000, 59)"
      ]
     },
     "execution_count": 33,
     "metadata": {},
     "output_type": "execute_result"
    },
    {
     "name": "stdout",
     "output_type": "stream",
     "text": [
      "The data set has 5000 rows and 59 columns\n"
     ]
    }
   ],
   "source": [
    "customer_data.shape\n",
    "print(f'The data set has {customer_data.shape[0]} rows and {customer_data.shape[1]} columns')"
   ]
  },
  {
   "cell_type": "code",
   "execution_count": 19,
   "metadata": {},
   "outputs": [
    {
     "ename": "ImportError",
     "evalue": "cannot import name 'is_url' from 'pandas.io.common' (C:\\Users\\anubh\\Anaconda3\\lib\\site-packages\\pandas\\io\\common.py)",
     "output_type": "error",
     "traceback": [
      "\u001b[1;31m---------------------------------------------------------------------------\u001b[0m",
      "\u001b[1;31mImportError\u001b[0m                               Traceback (most recent call last)",
      "\u001b[1;32m~\\Anaconda3\\lib\\site-packages\\IPython\\core\\formatters.py\u001b[0m in \u001b[0;36m__call__\u001b[1;34m(self, obj)\u001b[0m\n\u001b[0;32m    343\u001b[0m             \u001b[0mmethod\u001b[0m \u001b[1;33m=\u001b[0m \u001b[0mget_real_method\u001b[0m\u001b[1;33m(\u001b[0m\u001b[0mobj\u001b[0m\u001b[1;33m,\u001b[0m \u001b[0mself\u001b[0m\u001b[1;33m.\u001b[0m\u001b[0mprint_method\u001b[0m\u001b[1;33m)\u001b[0m\u001b[1;33m\u001b[0m\u001b[1;33m\u001b[0m\u001b[0m\n\u001b[0;32m    344\u001b[0m             \u001b[1;32mif\u001b[0m \u001b[0mmethod\u001b[0m \u001b[1;32mis\u001b[0m \u001b[1;32mnot\u001b[0m \u001b[1;32mNone\u001b[0m\u001b[1;33m:\u001b[0m\u001b[1;33m\u001b[0m\u001b[1;33m\u001b[0m\u001b[0m\n\u001b[1;32m--> 345\u001b[1;33m                 \u001b[1;32mreturn\u001b[0m \u001b[0mmethod\u001b[0m\u001b[1;33m(\u001b[0m\u001b[1;33m)\u001b[0m\u001b[1;33m\u001b[0m\u001b[1;33m\u001b[0m\u001b[0m\n\u001b[0m\u001b[0;32m    346\u001b[0m             \u001b[1;32mreturn\u001b[0m \u001b[1;32mNone\u001b[0m\u001b[1;33m\u001b[0m\u001b[1;33m\u001b[0m\u001b[0m\n\u001b[0;32m    347\u001b[0m         \u001b[1;32melse\u001b[0m\u001b[1;33m:\u001b[0m\u001b[1;33m\u001b[0m\u001b[1;33m\u001b[0m\u001b[0m\n",
      "\u001b[1;32m~\\Anaconda3\\lib\\site-packages\\pandas\\core\\frame.py\u001b[0m in \u001b[0;36m_repr_html_\u001b[1;34m(self)\u001b[0m\n\u001b[0;32m    685\u001b[0m         \u001b[1;33m>>\u001b[0m\u001b[1;33m>\u001b[0m \u001b[0mDataFrame\u001b[0m\u001b[1;33m(\u001b[0m\u001b[1;33m{\u001b[0m\u001b[1;34m\"A\"\u001b[0m\u001b[1;33m:\u001b[0m \u001b[1;33m[\u001b[0m\u001b[1;36m1\u001b[0m\u001b[1;33m,\u001b[0m \u001b[1;36m2\u001b[0m\u001b[1;33m]\u001b[0m\u001b[1;33m,\u001b[0m \u001b[1;34m\"B\"\u001b[0m\u001b[1;33m:\u001b[0m \u001b[1;33m[\u001b[0m\u001b[1;36m3\u001b[0m\u001b[1;33m,\u001b[0m \u001b[1;36m4\u001b[0m\u001b[1;33m]\u001b[0m\u001b[1;33m}\u001b[0m\u001b[1;33m)\u001b[0m\u001b[1;33m.\u001b[0m\u001b[0m_is_homogeneous_type\u001b[0m\u001b[1;33m\u001b[0m\u001b[1;33m\u001b[0m\u001b[0m\n\u001b[0;32m    686\u001b[0m         \u001b[1;32mTrue\u001b[0m\u001b[1;33m\u001b[0m\u001b[1;33m\u001b[0m\u001b[0m\n\u001b[1;32m--> 687\u001b[1;33m         \u001b[1;33m>>\u001b[0m\u001b[1;33m>\u001b[0m \u001b[0mDataFrame\u001b[0m\u001b[1;33m(\u001b[0m\u001b[1;33m{\u001b[0m\u001b[1;34m\"A\"\u001b[0m\u001b[1;33m:\u001b[0m \u001b[1;33m[\u001b[0m\u001b[1;36m1\u001b[0m\u001b[1;33m,\u001b[0m \u001b[1;36m2\u001b[0m\u001b[1;33m]\u001b[0m\u001b[1;33m,\u001b[0m \u001b[1;34m\"B\"\u001b[0m\u001b[1;33m:\u001b[0m \u001b[1;33m[\u001b[0m\u001b[1;36m3.0\u001b[0m\u001b[1;33m,\u001b[0m \u001b[1;36m4.0\u001b[0m\u001b[1;33m]\u001b[0m\u001b[1;33m}\u001b[0m\u001b[1;33m)\u001b[0m\u001b[1;33m.\u001b[0m\u001b[0m_is_homogeneous_type\u001b[0m\u001b[1;33m\u001b[0m\u001b[1;33m\u001b[0m\u001b[0m\n\u001b[0m\u001b[0;32m    688\u001b[0m         \u001b[1;32mFalse\u001b[0m\u001b[1;33m\u001b[0m\u001b[1;33m\u001b[0m\u001b[0m\n\u001b[0;32m    689\u001b[0m \u001b[1;33m\u001b[0m\u001b[0m\n",
      "\u001b[1;32m~\\Anaconda3\\lib\\site-packages\\pandas\\io\\formats\\format.py\u001b[0m in \u001b[0;36mto_html\u001b[1;34m(self, classes, notebook, border)\u001b[0m\n\u001b[0;32m    835\u001b[0m             \u001b[1;32mdef\u001b[0m \u001b[0mspace_format\u001b[0m\u001b[1;33m(\u001b[0m\u001b[0mx\u001b[0m\u001b[1;33m,\u001b[0m \u001b[0my\u001b[0m\u001b[1;33m)\u001b[0m\u001b[1;33m:\u001b[0m\u001b[1;33m\u001b[0m\u001b[1;33m\u001b[0m\u001b[0m\n\u001b[0;32m    836\u001b[0m                 if (\n\u001b[1;32m--> 837\u001b[1;33m                     \u001b[0my\u001b[0m \u001b[1;32mnot\u001b[0m \u001b[1;32min\u001b[0m \u001b[0mself\u001b[0m\u001b[1;33m.\u001b[0m\u001b[0mformatters\u001b[0m\u001b[1;33m\u001b[0m\u001b[1;33m\u001b[0m\u001b[0m\n\u001b[0m\u001b[0;32m    838\u001b[0m                     \u001b[1;32mand\u001b[0m \u001b[0mneed_leadsp\u001b[0m\u001b[1;33m[\u001b[0m\u001b[0mx\u001b[0m\u001b[1;33m]\u001b[0m\u001b[1;33m\u001b[0m\u001b[1;33m\u001b[0m\u001b[0m\n\u001b[0;32m    839\u001b[0m                     \u001b[1;32mand\u001b[0m \u001b[1;32mnot\u001b[0m \u001b[0mrestrict_formatting\u001b[0m\u001b[1;33m\u001b[0m\u001b[1;33m\u001b[0m\u001b[0m\n",
      "\u001b[1;32m~\\Anaconda3\\lib\\site-packages\\pandas\\io\\formats\\html.py\u001b[0m in \u001b[0;36m<module>\u001b[1;34m\u001b[0m\n\u001b[0;32m     12\u001b[0m \u001b[1;32mfrom\u001b[0m \u001b[0mpandas\u001b[0m \u001b[1;32mimport\u001b[0m \u001b[0mMultiIndex\u001b[0m\u001b[1;33m,\u001b[0m \u001b[0moption_context\u001b[0m\u001b[1;33m\u001b[0m\u001b[1;33m\u001b[0m\u001b[0m\n\u001b[0;32m     13\u001b[0m \u001b[1;33m\u001b[0m\u001b[0m\n\u001b[1;32m---> 14\u001b[1;33m \u001b[1;32mfrom\u001b[0m \u001b[0mpandas\u001b[0m\u001b[1;33m.\u001b[0m\u001b[0mio\u001b[0m\u001b[1;33m.\u001b[0m\u001b[0mcommon\u001b[0m \u001b[1;32mimport\u001b[0m \u001b[0mis_url\u001b[0m\u001b[1;33m\u001b[0m\u001b[1;33m\u001b[0m\u001b[0m\n\u001b[0m\u001b[0;32m     15\u001b[0m \u001b[1;32mfrom\u001b[0m \u001b[0mpandas\u001b[0m\u001b[1;33m.\u001b[0m\u001b[0mio\u001b[0m\u001b[1;33m.\u001b[0m\u001b[0mformats\u001b[0m\u001b[1;33m.\u001b[0m\u001b[0mformat\u001b[0m \u001b[1;32mimport\u001b[0m \u001b[0mDataFrameFormatter\u001b[0m\u001b[1;33m,\u001b[0m \u001b[0mget_level_lengths\u001b[0m\u001b[1;33m\u001b[0m\u001b[1;33m\u001b[0m\u001b[0m\n\u001b[0;32m     16\u001b[0m \u001b[1;32mfrom\u001b[0m \u001b[0mpandas\u001b[0m\u001b[1;33m.\u001b[0m\u001b[0mio\u001b[0m\u001b[1;33m.\u001b[0m\u001b[0mformats\u001b[0m\u001b[1;33m.\u001b[0m\u001b[0mprinting\u001b[0m \u001b[1;32mimport\u001b[0m \u001b[0mpprint_thing\u001b[0m\u001b[1;33m\u001b[0m\u001b[1;33m\u001b[0m\u001b[0m\n",
      "\u001b[1;31mImportError\u001b[0m: cannot import name 'is_url' from 'pandas.io.common' (C:\\Users\\anubh\\Anaconda3\\lib\\site-packages\\pandas\\io\\common.py)"
     ]
    },
    {
     "data": {
      "text/plain": [
       "           Region          Age  EducationYears  EmploymentLength  \\\n",
       "count  5000.00000  5000.000000     5000.000000       5000.000000   \n",
       "mean      3.00140    47.025600       14.543000          9.730400   \n",
       "std       1.42176    17.770338        3.281083          9.690929   \n",
       "min       1.00000    18.000000        6.000000          0.000000   \n",
       "25%       2.00000    31.000000       12.000000          2.000000   \n",
       "50%       3.00000    47.000000       14.000000          7.000000   \n",
       "75%       4.00000    62.000000       17.000000         15.000000   \n",
       "max       5.00000    79.000000       23.000000         52.000000   \n",
       "\n",
       "       DebtToIncomeRatio   CreditDebt    OtherDebt  HouseholdSize  \\\n",
       "count        5000.000000  5000.000000  5000.000000    4992.000000   \n",
       "mean            9.954160     1.857326     3.654460       2.202324   \n",
       "std             6.399783     3.415732     5.395172       1.391912   \n",
       "min             0.000000     0.000000     0.000000       1.000000   \n",
       "25%             5.100000     0.385520     0.980301       1.000000   \n",
       "50%             8.800000     0.926437     2.098540       2.000000   \n",
       "75%            13.600000     2.063820     4.314780       3.000000   \n",
       "max            43.100000   109.072596   141.459150       9.000000   \n",
       "\n",
       "        NumberPets   NumberCats   NumberDogs  NumberBirds    HomeOwner  \\\n",
       "count  4994.000000  4993.000000  4992.000000  4966.000000  4987.000000   \n",
       "mean      3.066680     0.500300     0.392829     0.111156     0.629637   \n",
       "std       3.415625     0.860485     0.796539     0.495832     0.482950   \n",
       "min       0.000000     0.000000     0.000000     0.000000     0.000000   \n",
       "25%       0.000000     0.000000     0.000000     0.000000     0.000000   \n",
       "50%       2.000000     0.000000     0.000000     0.000000     1.000000   \n",
       "75%       5.000000     1.000000     0.000000     0.000000     1.000000   \n",
       "max      21.000000     6.000000     7.000000     5.000000     1.000000   \n",
       "\n",
       "         CarsOwned   CardTenure  CardItemsMonthly  PhoneCoTenure  \\\n",
       "count  5000.000000  5000.000000        5000.00000    5000.000000   \n",
       "mean      2.130600    16.655800          10.17740      38.204800   \n",
       "std       1.307473    12.020958           3.39114      22.661888   \n",
       "min       0.000000     0.000000           0.00000       0.000000   \n",
       "25%       1.000000     6.000000           8.00000      18.000000   \n",
       "50%       2.000000    14.000000          10.00000      38.000000   \n",
       "75%       3.000000    26.000000          12.00000      59.000000   \n",
       "max       8.000000    40.000000          23.00000      72.000000   \n",
       "\n",
       "       TVWatchingHours  \n",
       "count      5000.000000  \n",
       "mean         19.645000  \n",
       "std           5.165609  \n",
       "min           0.000000  \n",
       "25%          17.000000  \n",
       "50%          20.000000  \n",
       "75%          23.000000  \n",
       "max          36.000000  "
      ]
     },
     "execution_count": 19,
     "metadata": {},
     "output_type": "execute_result"
    }
   ],
   "source": [
    "customer_data.describe()"
   ]
  },
  {
   "cell_type": "code",
   "execution_count": 20,
   "metadata": {},
   "outputs": [
    {
     "data": {
      "text/plain": [
       "CustomerID              object\n",
       "Region                   int64\n",
       "TownSize                object\n",
       "Gender                  object\n",
       "Age                      int64\n",
       "EducationYears           int64\n",
       "JobCategory             object\n",
       "UnionMember             object\n",
       "EmploymentLength         int64\n",
       "Retired                 object\n",
       "HHIncome                object\n",
       "DebtToIncomeRatio      float64\n",
       "CreditDebt             float64\n",
       "OtherDebt              float64\n",
       "LoanDefault             object\n",
       "MaritalStatus           object\n",
       "HouseholdSize          float64\n",
       "NumberPets             float64\n",
       "NumberCats             float64\n",
       "NumberDogs             float64\n",
       "NumberBirds            float64\n",
       "HomeOwner              float64\n",
       "CarsOwned                int64\n",
       "CarOwnership            object\n",
       "CarBrand                object\n",
       "CarValue                object\n",
       "CommuteTime             object\n",
       "PoliticalPartyMem       object\n",
       "Votes                   object\n",
       "CreditCard              object\n",
       "CardTenure               int64\n",
       "CardItemsMonthly         int64\n",
       "CardSpendMonth          object\n",
       "ActiveLifestyle         object\n",
       "PhoneCoTenure            int64\n",
       "VoiceLastMonth          object\n",
       "VoiceOverTenure         object\n",
       "EquipmentRental         object\n",
       "EquipmentLastMonth      object\n",
       "EquipmentOverTenure     object\n",
       "CallingCard             object\n",
       "WirelessData            object\n",
       "DataLastMonth           object\n",
       "DataOverTenure          object\n",
       "Multiline               object\n",
       "VM                      object\n",
       "Pager                   object\n",
       "Internet                object\n",
       "CallerID                object\n",
       "CallWait                object\n",
       "CallForward             object\n",
       "ThreeWayCalling         object\n",
       "EBilling                object\n",
       "TVWatchingHours          int64\n",
       "OwnsPC                  object\n",
       "OwnsMobileDevice        object\n",
       "OwnsGameSystem          object\n",
       "OwnsFax                 object\n",
       "NewsSubscriber          object\n",
       "dtype: object"
      ]
     },
     "execution_count": 20,
     "metadata": {},
     "output_type": "execute_result"
    }
   ],
   "source": [
    "customer_data.dtypes"
   ]
  },
  {
   "cell_type": "code",
   "execution_count": 21,
   "metadata": {},
   "outputs": [
    {
     "name": "stdout",
     "output_type": "stream",
     "text": [
      "<class 'pandas.core.frame.DataFrame'>\n",
      "RangeIndex: 5000 entries, 0 to 4999\n",
      "Data columns (total 59 columns):\n",
      "CustomerID             5000 non-null object\n",
      "Region                 5000 non-null int64\n",
      "TownSize               5000 non-null object\n",
      "Gender                 4967 non-null object\n",
      "Age                    5000 non-null int64\n",
      "EducationYears         5000 non-null int64\n",
      "JobCategory            4985 non-null object\n",
      "UnionMember            5000 non-null object\n",
      "EmploymentLength       5000 non-null int64\n",
      "Retired                5000 non-null object\n",
      "HHIncome               5000 non-null object\n",
      "DebtToIncomeRatio      5000 non-null float64\n",
      "CreditDebt             5000 non-null float64\n",
      "OtherDebt              5000 non-null float64\n",
      "LoanDefault            5000 non-null object\n",
      "MaritalStatus          5000 non-null object\n",
      "HouseholdSize          4992 non-null float64\n",
      "NumberPets             4994 non-null float64\n",
      "NumberCats             4993 non-null float64\n",
      "NumberDogs             4992 non-null float64\n",
      "NumberBirds            4966 non-null float64\n",
      "HomeOwner              4987 non-null float64\n",
      "CarsOwned              5000 non-null int64\n",
      "CarOwnership           5000 non-null object\n",
      "CarBrand               5000 non-null object\n",
      "CarValue               5000 non-null object\n",
      "CommuteTime            5000 non-null object\n",
      "PoliticalPartyMem      5000 non-null object\n",
      "Votes                  5000 non-null object\n",
      "CreditCard             5000 non-null object\n",
      "CardTenure             5000 non-null int64\n",
      "CardItemsMonthly       5000 non-null int64\n",
      "CardSpendMonth         5000 non-null object\n",
      "ActiveLifestyle        5000 non-null object\n",
      "PhoneCoTenure          5000 non-null int64\n",
      "VoiceLastMonth         5000 non-null object\n",
      "VoiceOverTenure        5000 non-null object\n",
      "EquipmentRental        5000 non-null object\n",
      "EquipmentLastMonth     5000 non-null object\n",
      "EquipmentOverTenure    5000 non-null object\n",
      "CallingCard            5000 non-null object\n",
      "WirelessData           5000 non-null object\n",
      "DataLastMonth          5000 non-null object\n",
      "DataOverTenure         5000 non-null object\n",
      "Multiline              5000 non-null object\n",
      "VM                     5000 non-null object\n",
      "Pager                  5000 non-null object\n",
      "Internet               5000 non-null object\n",
      "CallerID               5000 non-null object\n",
      "CallWait               5000 non-null object\n",
      "CallForward            5000 non-null object\n",
      "ThreeWayCalling        5000 non-null object\n",
      "EBilling               5000 non-null object\n",
      "TVWatchingHours        5000 non-null int64\n",
      "OwnsPC                 5000 non-null object\n",
      "OwnsMobileDevice       5000 non-null object\n",
      "OwnsGameSystem         5000 non-null object\n",
      "OwnsFax                5000 non-null object\n",
      "NewsSubscriber         5000 non-null object\n",
      "dtypes: float64(9), int64(9), object(41)\n",
      "memory usage: 2.3+ MB\n"
     ]
    }
   ],
   "source": [
    "customer_data.info()"
   ]
  },
  {
   "cell_type": "code",
   "execution_count": 22,
   "metadata": {},
   "outputs": [
    {
     "ename": "ImportError",
     "evalue": "cannot import name 'is_url' from 'pandas.io.common' (C:\\Users\\anubh\\Anaconda3\\lib\\site-packages\\pandas\\io\\common.py)",
     "output_type": "error",
     "traceback": [
      "\u001b[1;31m---------------------------------------------------------------------------\u001b[0m",
      "\u001b[1;31mImportError\u001b[0m                               Traceback (most recent call last)",
      "\u001b[1;32m~\\Anaconda3\\lib\\site-packages\\IPython\\core\\formatters.py\u001b[0m in \u001b[0;36m__call__\u001b[1;34m(self, obj)\u001b[0m\n\u001b[0;32m    343\u001b[0m             \u001b[0mmethod\u001b[0m \u001b[1;33m=\u001b[0m \u001b[0mget_real_method\u001b[0m\u001b[1;33m(\u001b[0m\u001b[0mobj\u001b[0m\u001b[1;33m,\u001b[0m \u001b[0mself\u001b[0m\u001b[1;33m.\u001b[0m\u001b[0mprint_method\u001b[0m\u001b[1;33m)\u001b[0m\u001b[1;33m\u001b[0m\u001b[1;33m\u001b[0m\u001b[0m\n\u001b[0;32m    344\u001b[0m             \u001b[1;32mif\u001b[0m \u001b[0mmethod\u001b[0m \u001b[1;32mis\u001b[0m \u001b[1;32mnot\u001b[0m \u001b[1;32mNone\u001b[0m\u001b[1;33m:\u001b[0m\u001b[1;33m\u001b[0m\u001b[1;33m\u001b[0m\u001b[0m\n\u001b[1;32m--> 345\u001b[1;33m                 \u001b[1;32mreturn\u001b[0m \u001b[0mmethod\u001b[0m\u001b[1;33m(\u001b[0m\u001b[1;33m)\u001b[0m\u001b[1;33m\u001b[0m\u001b[1;33m\u001b[0m\u001b[0m\n\u001b[0m\u001b[0;32m    346\u001b[0m             \u001b[1;32mreturn\u001b[0m \u001b[1;32mNone\u001b[0m\u001b[1;33m\u001b[0m\u001b[1;33m\u001b[0m\u001b[0m\n\u001b[0;32m    347\u001b[0m         \u001b[1;32melse\u001b[0m\u001b[1;33m:\u001b[0m\u001b[1;33m\u001b[0m\u001b[1;33m\u001b[0m\u001b[0m\n",
      "\u001b[1;32m~\\Anaconda3\\lib\\site-packages\\pandas\\core\\frame.py\u001b[0m in \u001b[0;36m_repr_html_\u001b[1;34m(self)\u001b[0m\n\u001b[0;32m    685\u001b[0m         \u001b[1;33m>>\u001b[0m\u001b[1;33m>\u001b[0m \u001b[0mDataFrame\u001b[0m\u001b[1;33m(\u001b[0m\u001b[1;33m{\u001b[0m\u001b[1;34m\"A\"\u001b[0m\u001b[1;33m:\u001b[0m \u001b[1;33m[\u001b[0m\u001b[1;36m1\u001b[0m\u001b[1;33m,\u001b[0m \u001b[1;36m2\u001b[0m\u001b[1;33m]\u001b[0m\u001b[1;33m,\u001b[0m \u001b[1;34m\"B\"\u001b[0m\u001b[1;33m:\u001b[0m \u001b[1;33m[\u001b[0m\u001b[1;36m3\u001b[0m\u001b[1;33m,\u001b[0m \u001b[1;36m4\u001b[0m\u001b[1;33m]\u001b[0m\u001b[1;33m}\u001b[0m\u001b[1;33m)\u001b[0m\u001b[1;33m.\u001b[0m\u001b[0m_is_homogeneous_type\u001b[0m\u001b[1;33m\u001b[0m\u001b[1;33m\u001b[0m\u001b[0m\n\u001b[0;32m    686\u001b[0m         \u001b[1;32mTrue\u001b[0m\u001b[1;33m\u001b[0m\u001b[1;33m\u001b[0m\u001b[0m\n\u001b[1;32m--> 687\u001b[1;33m         \u001b[1;33m>>\u001b[0m\u001b[1;33m>\u001b[0m \u001b[0mDataFrame\u001b[0m\u001b[1;33m(\u001b[0m\u001b[1;33m{\u001b[0m\u001b[1;34m\"A\"\u001b[0m\u001b[1;33m:\u001b[0m \u001b[1;33m[\u001b[0m\u001b[1;36m1\u001b[0m\u001b[1;33m,\u001b[0m \u001b[1;36m2\u001b[0m\u001b[1;33m]\u001b[0m\u001b[1;33m,\u001b[0m \u001b[1;34m\"B\"\u001b[0m\u001b[1;33m:\u001b[0m \u001b[1;33m[\u001b[0m\u001b[1;36m3.0\u001b[0m\u001b[1;33m,\u001b[0m \u001b[1;36m4.0\u001b[0m\u001b[1;33m]\u001b[0m\u001b[1;33m}\u001b[0m\u001b[1;33m)\u001b[0m\u001b[1;33m.\u001b[0m\u001b[0m_is_homogeneous_type\u001b[0m\u001b[1;33m\u001b[0m\u001b[1;33m\u001b[0m\u001b[0m\n\u001b[0m\u001b[0;32m    688\u001b[0m         \u001b[1;32mFalse\u001b[0m\u001b[1;33m\u001b[0m\u001b[1;33m\u001b[0m\u001b[0m\n\u001b[0;32m    689\u001b[0m \u001b[1;33m\u001b[0m\u001b[0m\n",
      "\u001b[1;32m~\\Anaconda3\\lib\\site-packages\\pandas\\io\\formats\\format.py\u001b[0m in \u001b[0;36mto_html\u001b[1;34m(self, classes, notebook, border)\u001b[0m\n\u001b[0;32m    835\u001b[0m             \u001b[1;32mdef\u001b[0m \u001b[0mspace_format\u001b[0m\u001b[1;33m(\u001b[0m\u001b[0mx\u001b[0m\u001b[1;33m,\u001b[0m \u001b[0my\u001b[0m\u001b[1;33m)\u001b[0m\u001b[1;33m:\u001b[0m\u001b[1;33m\u001b[0m\u001b[1;33m\u001b[0m\u001b[0m\n\u001b[0;32m    836\u001b[0m                 if (\n\u001b[1;32m--> 837\u001b[1;33m                     \u001b[0my\u001b[0m \u001b[1;32mnot\u001b[0m \u001b[1;32min\u001b[0m \u001b[0mself\u001b[0m\u001b[1;33m.\u001b[0m\u001b[0mformatters\u001b[0m\u001b[1;33m\u001b[0m\u001b[1;33m\u001b[0m\u001b[0m\n\u001b[0m\u001b[0;32m    838\u001b[0m                     \u001b[1;32mand\u001b[0m \u001b[0mneed_leadsp\u001b[0m\u001b[1;33m[\u001b[0m\u001b[0mx\u001b[0m\u001b[1;33m]\u001b[0m\u001b[1;33m\u001b[0m\u001b[1;33m\u001b[0m\u001b[0m\n\u001b[0;32m    839\u001b[0m                     \u001b[1;32mand\u001b[0m \u001b[1;32mnot\u001b[0m \u001b[0mrestrict_formatting\u001b[0m\u001b[1;33m\u001b[0m\u001b[1;33m\u001b[0m\u001b[0m\n",
      "\u001b[1;32m~\\Anaconda3\\lib\\site-packages\\pandas\\io\\formats\\html.py\u001b[0m in \u001b[0;36m<module>\u001b[1;34m\u001b[0m\n\u001b[0;32m     12\u001b[0m \u001b[1;32mfrom\u001b[0m \u001b[0mpandas\u001b[0m \u001b[1;32mimport\u001b[0m \u001b[0mMultiIndex\u001b[0m\u001b[1;33m,\u001b[0m \u001b[0moption_context\u001b[0m\u001b[1;33m\u001b[0m\u001b[1;33m\u001b[0m\u001b[0m\n\u001b[0;32m     13\u001b[0m \u001b[1;33m\u001b[0m\u001b[0m\n\u001b[1;32m---> 14\u001b[1;33m \u001b[1;32mfrom\u001b[0m \u001b[0mpandas\u001b[0m\u001b[1;33m.\u001b[0m\u001b[0mio\u001b[0m\u001b[1;33m.\u001b[0m\u001b[0mcommon\u001b[0m \u001b[1;32mimport\u001b[0m \u001b[0mis_url\u001b[0m\u001b[1;33m\u001b[0m\u001b[1;33m\u001b[0m\u001b[0m\n\u001b[0m\u001b[0;32m     15\u001b[0m \u001b[1;32mfrom\u001b[0m \u001b[0mpandas\u001b[0m\u001b[1;33m.\u001b[0m\u001b[0mio\u001b[0m\u001b[1;33m.\u001b[0m\u001b[0mformats\u001b[0m\u001b[1;33m.\u001b[0m\u001b[0mformat\u001b[0m \u001b[1;32mimport\u001b[0m \u001b[0mDataFrameFormatter\u001b[0m\u001b[1;33m,\u001b[0m \u001b[0mget_level_lengths\u001b[0m\u001b[1;33m\u001b[0m\u001b[1;33m\u001b[0m\u001b[0m\n\u001b[0;32m     16\u001b[0m \u001b[1;32mfrom\u001b[0m \u001b[0mpandas\u001b[0m\u001b[1;33m.\u001b[0m\u001b[0mio\u001b[0m\u001b[1;33m.\u001b[0m\u001b[0mformats\u001b[0m\u001b[1;33m.\u001b[0m\u001b[0mprinting\u001b[0m \u001b[1;32mimport\u001b[0m \u001b[0mpprint_thing\u001b[0m\u001b[1;33m\u001b[0m\u001b[1;33m\u001b[0m\u001b[0m\n",
      "\u001b[1;31mImportError\u001b[0m: cannot import name 'is_url' from 'pandas.io.common' (C:\\Users\\anubh\\Anaconda3\\lib\\site-packages\\pandas\\io\\common.py)"
     ]
    },
    {
     "data": {
      "text/plain": [
       "      CustomerID  Region  TownSize  Gender    Age  EducationYears  \\\n",
       "0          False   False     False   False  False           False   \n",
       "1          False   False     False   False  False           False   \n",
       "2          False   False     False   False  False           False   \n",
       "3          False   False     False   False  False           False   \n",
       "4          False   False     False   False  False           False   \n",
       "...          ...     ...       ...     ...    ...             ...   \n",
       "4995       False   False     False   False  False           False   \n",
       "4996       False   False     False   False  False           False   \n",
       "4997       False   False     False   False  False           False   \n",
       "4998       False   False     False   False  False           False   \n",
       "4999       False   False     False   False  False           False   \n",
       "\n",
       "      JobCategory  UnionMember  EmploymentLength  Retired  ...  CallWait  \\\n",
       "0           False        False             False    False  ...     False   \n",
       "1           False        False             False    False  ...     False   \n",
       "2           False        False             False    False  ...     False   \n",
       "3           False        False             False    False  ...     False   \n",
       "4           False        False             False    False  ...     False   \n",
       "...           ...          ...               ...      ...  ...       ...   \n",
       "4995        False        False             False    False  ...     False   \n",
       "4996        False        False             False    False  ...     False   \n",
       "4997        False        False             False    False  ...     False   \n",
       "4998        False        False             False    False  ...     False   \n",
       "4999        False        False             False    False  ...     False   \n",
       "\n",
       "      CallForward  ThreeWayCalling  EBilling  TVWatchingHours  OwnsPC  \\\n",
       "0           False            False     False            False   False   \n",
       "1           False            False     False            False   False   \n",
       "2           False            False     False            False   False   \n",
       "3           False            False     False            False   False   \n",
       "4           False            False     False            False   False   \n",
       "...           ...              ...       ...              ...     ...   \n",
       "4995        False            False     False            False   False   \n",
       "4996        False            False     False            False   False   \n",
       "4997        False            False     False            False   False   \n",
       "4998        False            False     False            False   False   \n",
       "4999        False            False     False            False   False   \n",
       "\n",
       "      OwnsMobileDevice  OwnsGameSystem  OwnsFax  NewsSubscriber  \n",
       "0                False           False    False           False  \n",
       "1                False           False    False           False  \n",
       "2                False           False    False           False  \n",
       "3                False           False    False           False  \n",
       "4                False           False    False           False  \n",
       "...                ...             ...      ...             ...  \n",
       "4995             False           False    False           False  \n",
       "4996             False           False    False           False  \n",
       "4997             False           False    False           False  \n",
       "4998             False           False    False           False  \n",
       "4999             False           False    False           False  \n",
       "\n",
       "[5000 rows x 59 columns]"
      ]
     },
     "execution_count": 22,
     "metadata": {},
     "output_type": "execute_result"
    }
   ],
   "source": [
    "#checking for missing values in data\n",
    "customer_data.isna()"
   ]
  },
  {
   "cell_type": "code",
   "execution_count": 23,
   "metadata": {},
   "outputs": [
    {
     "name": "stdout",
     "output_type": "stream",
     "text": [
      "CustomerID              0\n",
      "Region                  0\n",
      "TownSize                0\n",
      "Gender                 33\n",
      "Age                     0\n",
      "EducationYears          0\n",
      "JobCategory            15\n",
      "UnionMember             0\n",
      "EmploymentLength        0\n",
      "Retired                 0\n",
      "HHIncome                0\n",
      "DebtToIncomeRatio       0\n",
      "CreditDebt              0\n",
      "OtherDebt               0\n",
      "LoanDefault             0\n",
      "MaritalStatus           0\n",
      "HouseholdSize           8\n",
      "NumberPets              6\n",
      "NumberCats              7\n",
      "NumberDogs              8\n",
      "NumberBirds            34\n",
      "HomeOwner              13\n",
      "CarsOwned               0\n",
      "CarOwnership            0\n",
      "CarBrand                0\n",
      "CarValue                0\n",
      "CommuteTime             0\n",
      "PoliticalPartyMem       0\n",
      "Votes                   0\n",
      "CreditCard              0\n",
      "CardTenure              0\n",
      "CardItemsMonthly        0\n",
      "CardSpendMonth          0\n",
      "ActiveLifestyle         0\n",
      "PhoneCoTenure           0\n",
      "VoiceLastMonth          0\n",
      "VoiceOverTenure         0\n",
      "EquipmentRental         0\n",
      "EquipmentLastMonth      0\n",
      "EquipmentOverTenure     0\n",
      "CallingCard             0\n",
      "WirelessData            0\n",
      "DataLastMonth           0\n",
      "DataOverTenure          0\n",
      "Multiline               0\n",
      "VM                      0\n",
      "Pager                   0\n",
      "Internet                0\n",
      "CallerID                0\n",
      "CallWait                0\n",
      "CallForward             0\n",
      "ThreeWayCalling         0\n",
      "EBilling                0\n",
      "TVWatchingHours         0\n",
      "OwnsPC                  0\n",
      "OwnsMobileDevice        0\n",
      "OwnsGameSystem          0\n",
      "OwnsFax                 0\n",
      "NewsSubscriber          0\n",
      "dtype: int64\n"
     ]
    }
   ],
   "source": [
    "\n",
    "\n",
    "#printing null values for each column\n",
    "print(customer_data.isnull().sum())"
   ]
  },
  {
   "cell_type": "markdown",
   "metadata": {},
   "source": [
    "We see that the columns Gender, Job CategoryHousehold Size, NumberCats, NumberDogs,NumberBirds, Homeowner all have missing values. "
   ]
  },
  {
   "cell_type": "code",
   "execution_count": 24,
   "metadata": {},
   "outputs": [
    {
     "ename": "ImportError",
     "evalue": "cannot import name 'FrameOrSeriesUnion' from 'pandas._typing' (C:\\Users\\anubh\\Anaconda3\\lib\\site-packages\\pandas\\_typing.py)",
     "output_type": "error",
     "traceback": [
      "\u001b[1;31m---------------------------------------------------------------------------\u001b[0m",
      "\u001b[1;31mImportError\u001b[0m                               Traceback (most recent call last)",
      "\u001b[1;32m<ipython-input-24-2a1cd9681084>\u001b[0m in \u001b[0;36m<module>\u001b[1;34m\u001b[0m\n\u001b[0;32m      4\u001b[0m     \u001b[1;32mreturn\u001b[0m \u001b[0msum\u001b[0m\u001b[1;33m(\u001b[0m\u001b[0mx\u001b[0m\u001b[1;33m.\u001b[0m\u001b[0misnull\u001b[0m\u001b[1;33m(\u001b[0m\u001b[1;33m)\u001b[0m\u001b[1;33m)\u001b[0m\u001b[1;33m\u001b[0m\u001b[1;33m\u001b[0m\u001b[0m\n\u001b[0;32m      5\u001b[0m \u001b[1;33m\u001b[0m\u001b[0m\n\u001b[1;32m----> 6\u001b[1;33m \u001b[0mprint\u001b[0m\u001b[1;33m(\u001b[0m\u001b[1;34m\"The count of missing values in customer dataset\"\u001b[0m\u001b[1;33m,\u001b[0m \u001b[0mcustomer_data\u001b[0m\u001b[1;33m.\u001b[0m\u001b[0mapply\u001b[0m\u001b[1;33m(\u001b[0m\u001b[0mmissing_values\u001b[0m\u001b[1;33m,\u001b[0m\u001b[0maxis\u001b[0m\u001b[1;33m=\u001b[0m\u001b[1;36m0\u001b[0m\u001b[1;33m)\u001b[0m\u001b[1;33m)\u001b[0m\u001b[1;33m\u001b[0m\u001b[1;33m\u001b[0m\u001b[0m\n\u001b[0m",
      "\u001b[1;32m~\\Anaconda3\\lib\\site-packages\\pandas\\core\\frame.py\u001b[0m in \u001b[0;36mapply\u001b[1;34m(self, func, axis, broadcast, raw, reduce, result_type, args, **kwds)\u001b[0m\n\u001b[0;32m   6898\u001b[0m             \u001b[0mIf\u001b[0m \u001b[0man\u001b[0m \u001b[0marray\u001b[0m \u001b[1;32mis\u001b[0m \u001b[0mpassed\u001b[0m\u001b[1;33m,\u001b[0m \u001b[0mit\u001b[0m \u001b[0mmust\u001b[0m \u001b[0mbe\u001b[0m \u001b[0mthe\u001b[0m \u001b[0msame\u001b[0m \u001b[0mlength\u001b[0m \u001b[1;32mas\u001b[0m \u001b[0mthe\u001b[0m \u001b[0mdata\u001b[0m\u001b[1;33m.\u001b[0m \u001b[0mThe\u001b[0m\u001b[1;33m\u001b[0m\u001b[1;33m\u001b[0m\u001b[0m\n\u001b[0;32m   6899\u001b[0m             \u001b[0mlist\u001b[0m \u001b[0mcan\u001b[0m \u001b[0mcontain\u001b[0m \u001b[0many\u001b[0m \u001b[0mof\u001b[0m \u001b[0mthe\u001b[0m \u001b[0mother\u001b[0m \u001b[0mtypes\u001b[0m \u001b[1;33m(\u001b[0m\u001b[1;32mexcept\u001b[0m \u001b[0mlist\u001b[0m\u001b[1;33m)\u001b[0m\u001b[1;33m.\u001b[0m\u001b[1;33m\u001b[0m\u001b[1;33m\u001b[0m\u001b[0m\n\u001b[1;32m-> 6900\u001b[1;33m             \u001b[0mKeys\u001b[0m \u001b[0mto\u001b[0m \u001b[0mgroup\u001b[0m \u001b[0mby\u001b[0m \u001b[0mon\u001b[0m \u001b[0mthe\u001b[0m \u001b[0mpivot\u001b[0m \u001b[0mtable\u001b[0m \u001b[0mcolumn\u001b[0m\u001b[1;33m.\u001b[0m  \u001b[0mIf\u001b[0m \u001b[0man\u001b[0m \u001b[0marray\u001b[0m \u001b[1;32mis\u001b[0m \u001b[0mpassed\u001b[0m\u001b[1;33m,\u001b[0m\u001b[1;33m\u001b[0m\u001b[1;33m\u001b[0m\u001b[0m\n\u001b[0m\u001b[0;32m   6901\u001b[0m             \u001b[0mit\u001b[0m \u001b[1;32mis\u001b[0m \u001b[0mbeing\u001b[0m \u001b[0mused\u001b[0m \u001b[1;32mas\u001b[0m \u001b[0mthe\u001b[0m \u001b[0msame\u001b[0m \u001b[0mmanner\u001b[0m \u001b[1;32mas\u001b[0m \u001b[0mcolumn\u001b[0m \u001b[0mvalues\u001b[0m\u001b[1;33m.\u001b[0m\u001b[1;33m\u001b[0m\u001b[1;33m\u001b[0m\u001b[0m\n\u001b[0;32m   6902\u001b[0m         \u001b[0maggfunc\u001b[0m \u001b[1;33m:\u001b[0m \u001b[0mfunction\u001b[0m\u001b[1;33m,\u001b[0m \u001b[0mlist\u001b[0m \u001b[0mof\u001b[0m \u001b[0mfunctions\u001b[0m\u001b[1;33m,\u001b[0m \u001b[0mdict\u001b[0m\u001b[1;33m,\u001b[0m \u001b[0mdefault\u001b[0m \u001b[0mnumpy\u001b[0m\u001b[1;33m.\u001b[0m\u001b[0mmean\u001b[0m\u001b[1;33m\u001b[0m\u001b[1;33m\u001b[0m\u001b[0m\n",
      "\u001b[1;32m~\\Anaconda3\\lib\\site-packages\\pandas\\core\\apply.py\u001b[0m in \u001b[0;36m<module>\u001b[1;34m\u001b[0m\n\u001b[0;32m      7\u001b[0m \u001b[1;32mfrom\u001b[0m \u001b[0mpandas\u001b[0m\u001b[1;33m.\u001b[0m\u001b[0m_config\u001b[0m \u001b[1;32mimport\u001b[0m \u001b[0moption_context\u001b[0m\u001b[1;33m\u001b[0m\u001b[1;33m\u001b[0m\u001b[0m\n\u001b[0;32m      8\u001b[0m \u001b[1;33m\u001b[0m\u001b[0m\n\u001b[1;32m----> 9\u001b[1;33m \u001b[1;32mfrom\u001b[0m \u001b[0mpandas\u001b[0m\u001b[1;33m.\u001b[0m\u001b[0m_typing\u001b[0m \u001b[1;32mimport\u001b[0m \u001b[0mAxis\u001b[0m\u001b[1;33m,\u001b[0m \u001b[0mFrameOrSeriesUnion\u001b[0m\u001b[1;33m\u001b[0m\u001b[1;33m\u001b[0m\u001b[0m\n\u001b[0m\u001b[0;32m     10\u001b[0m \u001b[1;32mfrom\u001b[0m \u001b[0mpandas\u001b[0m\u001b[1;33m.\u001b[0m\u001b[0mutil\u001b[0m\u001b[1;33m.\u001b[0m\u001b[0m_decorators\u001b[0m \u001b[1;32mimport\u001b[0m \u001b[0mcache_readonly\u001b[0m\u001b[1;33m\u001b[0m\u001b[1;33m\u001b[0m\u001b[0m\n\u001b[0;32m     11\u001b[0m \u001b[1;33m\u001b[0m\u001b[0m\n",
      "\u001b[1;31mImportError\u001b[0m: cannot import name 'FrameOrSeriesUnion' from 'pandas._typing' (C:\\Users\\anubh\\Anaconda3\\lib\\site-packages\\pandas\\_typing.py)"
     ]
    }
   ],
   "source": [
    "#Alternatively we can also create a function to fetch the count of missing values\n",
    "\n",
    "def missing_values(x):\n",
    "    return sum(x.isnull())\n",
    "\n",
    "print(\"The count of missing values in customer dataset\", customer_data.apply(missing_values,axis=0))"
   ]
  },
  {
   "cell_type": "code",
   "execution_count": 25,
   "metadata": {},
   "outputs": [
    {
     "name": "stdout",
     "output_type": "stream",
     "text": [
      "Number of duplicate rows in the data set: 0\n"
     ]
    }
   ],
   "source": [
    "#checking for duplicate values in data\n",
    "\n",
    "duplicate_rows_customer_Data = customer_data[customer_data.duplicated()]\n",
    "print('Number of duplicate rows in the data set:', duplicate_rows_customer_Data.shape[0])\n"
   ]
  },
  {
   "cell_type": "code",
   "execution_count": 15,
   "metadata": {},
   "outputs": [
    {
     "name": "stdout",
     "output_type": "stream",
     "text": [
      "the summary statistics for the customer data              CustomerID      Region TownSize  Gender          Age  \\\n",
      "count              5000  5000.00000     5000    4967  5000.000000   \n",
      "unique             5000         NaN        6       2          NaN   \n",
      "top     8922-AOMTSH-MV7         NaN        1  Female          NaN   \n",
      "freq                  1         NaN     1436    2494          NaN   \n",
      "mean                NaN     3.00140      NaN     NaN    47.025600   \n",
      "std                 NaN     1.42176      NaN     NaN    17.770338   \n",
      "min                 NaN     1.00000      NaN     NaN    18.000000   \n",
      "25%                 NaN     2.00000      NaN     NaN    31.000000   \n",
      "50%                 NaN     3.00000      NaN     NaN    47.000000   \n",
      "75%                 NaN     4.00000      NaN     NaN    62.000000   \n",
      "max                 NaN     5.00000      NaN     NaN    79.000000   \n",
      "\n",
      "        EducationYears JobCategory UnionMember  EmploymentLength Retired  ...  \\\n",
      "count      5000.000000        4985        5000       5000.000000    5000  ...   \n",
      "unique             NaN           6           2               NaN       2  ...   \n",
      "top                NaN       Sales          No               NaN      No  ...   \n",
      "freq               NaN        1635        4244               NaN    4262  ...   \n",
      "mean         14.543000         NaN         NaN          9.730400     NaN  ...   \n",
      "std           3.281083         NaN         NaN          9.690929     NaN  ...   \n",
      "min           6.000000         NaN         NaN          0.000000     NaN  ...   \n",
      "25%          12.000000         NaN         NaN          2.000000     NaN  ...   \n",
      "50%          14.000000         NaN         NaN          7.000000     NaN  ...   \n",
      "75%          17.000000         NaN         NaN         15.000000     NaN  ...   \n",
      "max          23.000000         NaN         NaN         52.000000     NaN  ...   \n",
      "\n",
      "       CallWait  CallForward  ThreeWayCalling  EBilling TVWatchingHours  \\\n",
      "count      5000         5000             5000      5000     5000.000000   \n",
      "unique        2            2                2         2             NaN   \n",
      "top          No           No               No        No             NaN   \n",
      "freq       2605         2597             2610      3257             NaN   \n",
      "mean        NaN          NaN              NaN       NaN       19.645000   \n",
      "std         NaN          NaN              NaN       NaN        5.165609   \n",
      "min         NaN          NaN              NaN       NaN        0.000000   \n",
      "25%         NaN          NaN              NaN       NaN       17.000000   \n",
      "50%         NaN          NaN              NaN       NaN       20.000000   \n",
      "75%         NaN          NaN              NaN       NaN       23.000000   \n",
      "max         NaN          NaN              NaN       NaN       36.000000   \n",
      "\n",
      "       OwnsPC  OwnsMobileDevice  OwnsGameSystem  OwnsFax  NewsSubscriber  \n",
      "count    5000              5000            5000     5000            5000  \n",
      "unique      2                 2               2        2               2  \n",
      "top       Yes                No              No       No              No  \n",
      "freq     3164              2604            2626     4106            2637  \n",
      "mean      NaN               NaN             NaN      NaN             NaN  \n",
      "std       NaN               NaN             NaN      NaN             NaN  \n",
      "min       NaN               NaN             NaN      NaN             NaN  \n",
      "25%       NaN               NaN             NaN      NaN             NaN  \n",
      "50%       NaN               NaN             NaN      NaN             NaN  \n",
      "75%       NaN               NaN             NaN      NaN             NaN  \n",
      "max       NaN               NaN             NaN      NaN             NaN  \n",
      "\n",
      "[11 rows x 59 columns]\n"
     ]
    }
   ],
   "source": [
    "#Determining the Summary Statistics\n",
    "\n",
    "customer_summary = customer_data.describe()\n",
    "customer_summary = customer_summary.transpose()\n",
    "print('the summary statistics for the customer data',customer_data.describe(include='all'))"
   ]
  },
  {
   "cell_type": "code",
   "execution_count": 26,
   "metadata": {},
   "outputs": [
    {
     "ename": "AttributeError",
     "evalue": "'NoneType' object has no attribute 'axes'",
     "output_type": "error",
     "traceback": [
      "\u001b[1;31m---------------------------------------------------------------------------\u001b[0m",
      "\u001b[1;31mAttributeError\u001b[0m                            Traceback (most recent call last)",
      "\u001b[1;32m<ipython-input-26-0468d7add3d1>\u001b[0m in \u001b[0;36m<module>\u001b[1;34m\u001b[0m\n\u001b[0;32m      2\u001b[0m \u001b[1;31m#or using pip install https://github.com/pandas-profiling/pandas-profiling/archive/master.zip\u001b[0m\u001b[1;33m\u001b[0m\u001b[1;33m\u001b[0m\u001b[1;33m\u001b[0m\u001b[0m\n\u001b[0;32m      3\u001b[0m \u001b[1;33m\u001b[0m\u001b[0m\n\u001b[1;32m----> 4\u001b[1;33m \u001b[0mpandas_profiling\u001b[0m\u001b[1;33m.\u001b[0m\u001b[0mProfileReport\u001b[0m\u001b[1;33m(\u001b[0m\u001b[0mcustomer_data\u001b[0m\u001b[1;33m)\u001b[0m\u001b[1;33m\u001b[0m\u001b[1;33m\u001b[0m\u001b[0m\n\u001b[0m",
      "\u001b[1;32m~\\Anaconda3\\lib\\site-packages\\pandas_profiling\\__init__.py\u001b[0m in \u001b[0;36m__init__\u001b[1;34m(self, df, **kwargs)\u001b[0m\n\u001b[0;32m     64\u001b[0m         \u001b[0msample\u001b[0m \u001b[1;33m=\u001b[0m \u001b[0mkwargs\u001b[0m\u001b[1;33m.\u001b[0m\u001b[0mget\u001b[0m\u001b[1;33m(\u001b[0m\u001b[1;34m'sample'\u001b[0m\u001b[1;33m,\u001b[0m \u001b[0mdf\u001b[0m\u001b[1;33m.\u001b[0m\u001b[0mhead\u001b[0m\u001b[1;33m(\u001b[0m\u001b[1;33m)\u001b[0m\u001b[1;33m)\u001b[0m\u001b[1;33m\u001b[0m\u001b[1;33m\u001b[0m\u001b[0m\n\u001b[0;32m     65\u001b[0m \u001b[1;33m\u001b[0m\u001b[0m\n\u001b[1;32m---> 66\u001b[1;33m         \u001b[0mdescription_set\u001b[0m \u001b[1;33m=\u001b[0m \u001b[0mdescribe\u001b[0m\u001b[1;33m(\u001b[0m\u001b[0mdf\u001b[0m\u001b[1;33m,\u001b[0m \u001b[1;33m**\u001b[0m\u001b[0mkwargs\u001b[0m\u001b[1;33m)\u001b[0m\u001b[1;33m\u001b[0m\u001b[1;33m\u001b[0m\u001b[0m\n\u001b[0m\u001b[0;32m     67\u001b[0m \u001b[1;33m\u001b[0m\u001b[0m\n\u001b[0;32m     68\u001b[0m         self.html = to_html(sample,\n",
      "\u001b[1;32m~\\Anaconda3\\lib\\site-packages\\pandas_profiling\\describe.py\u001b[0m in \u001b[0;36mdescribe\u001b[1;34m(df, bins, check_correlation, correlation_threshold, correlation_overrides, check_recoded, pool_size, **kwargs)\u001b[0m\n\u001b[0;32m    385\u001b[0m     \u001b[1;31m# Convert ldesc to a DataFrame\u001b[0m\u001b[1;33m\u001b[0m\u001b[1;33m\u001b[0m\u001b[1;33m\u001b[0m\u001b[0m\n\u001b[0;32m    386\u001b[0m     \u001b[0mnames\u001b[0m \u001b[1;33m=\u001b[0m \u001b[1;33m[\u001b[0m\u001b[1;33m]\u001b[0m\u001b[1;33m\u001b[0m\u001b[1;33m\u001b[0m\u001b[0m\n\u001b[1;32m--> 387\u001b[1;33m     \u001b[0mldesc_indexes\u001b[0m \u001b[1;33m=\u001b[0m \u001b[0msorted\u001b[0m\u001b[1;33m(\u001b[0m\u001b[1;33m[\u001b[0m\u001b[0mx\u001b[0m\u001b[1;33m.\u001b[0m\u001b[0mindex\u001b[0m \u001b[1;32mfor\u001b[0m \u001b[0mx\u001b[0m \u001b[1;32min\u001b[0m \u001b[0mldesc\u001b[0m\u001b[1;33m.\u001b[0m\u001b[0mvalues\u001b[0m\u001b[1;33m(\u001b[0m\u001b[1;33m)\u001b[0m\u001b[1;33m]\u001b[0m\u001b[1;33m,\u001b[0m \u001b[0mkey\u001b[0m\u001b[1;33m=\u001b[0m\u001b[0mlen\u001b[0m\u001b[1;33m)\u001b[0m\u001b[1;33m\u001b[0m\u001b[1;33m\u001b[0m\u001b[0m\n\u001b[0m\u001b[0;32m    388\u001b[0m     \u001b[1;32mfor\u001b[0m \u001b[0midxnames\u001b[0m \u001b[1;32min\u001b[0m \u001b[0mldesc_indexes\u001b[0m\u001b[1;33m:\u001b[0m\u001b[1;33m\u001b[0m\u001b[1;33m\u001b[0m\u001b[0m\n\u001b[0;32m    389\u001b[0m         \u001b[1;32mfor\u001b[0m \u001b[0mname\u001b[0m \u001b[1;32min\u001b[0m \u001b[0midxnames\u001b[0m\u001b[1;33m:\u001b[0m\u001b[1;33m\u001b[0m\u001b[1;33m\u001b[0m\u001b[0m\n",
      "\u001b[1;32m~\\Anaconda3\\lib\\site-packages\\pandas_profiling\\describe.py\u001b[0m in \u001b[0;36m<listcomp>\u001b[1;34m(.0)\u001b[0m\n\u001b[0;32m    385\u001b[0m     \u001b[1;31m# Convert ldesc to a DataFrame\u001b[0m\u001b[1;33m\u001b[0m\u001b[1;33m\u001b[0m\u001b[1;33m\u001b[0m\u001b[0m\n\u001b[0;32m    386\u001b[0m     \u001b[0mnames\u001b[0m \u001b[1;33m=\u001b[0m \u001b[1;33m[\u001b[0m\u001b[1;33m]\u001b[0m\u001b[1;33m\u001b[0m\u001b[1;33m\u001b[0m\u001b[0m\n\u001b[1;32m--> 387\u001b[1;33m     \u001b[0mldesc_indexes\u001b[0m \u001b[1;33m=\u001b[0m \u001b[0msorted\u001b[0m\u001b[1;33m(\u001b[0m\u001b[1;33m[\u001b[0m\u001b[0mx\u001b[0m\u001b[1;33m.\u001b[0m\u001b[0mindex\u001b[0m \u001b[1;32mfor\u001b[0m \u001b[0mx\u001b[0m \u001b[1;32min\u001b[0m \u001b[0mldesc\u001b[0m\u001b[1;33m.\u001b[0m\u001b[0mvalues\u001b[0m\u001b[1;33m(\u001b[0m\u001b[1;33m)\u001b[0m\u001b[1;33m]\u001b[0m\u001b[1;33m,\u001b[0m \u001b[0mkey\u001b[0m\u001b[1;33m=\u001b[0m\u001b[0mlen\u001b[0m\u001b[1;33m)\u001b[0m\u001b[1;33m\u001b[0m\u001b[1;33m\u001b[0m\u001b[0m\n\u001b[0m\u001b[0;32m    388\u001b[0m     \u001b[1;32mfor\u001b[0m \u001b[0midxnames\u001b[0m \u001b[1;32min\u001b[0m \u001b[0mldesc_indexes\u001b[0m\u001b[1;33m:\u001b[0m\u001b[1;33m\u001b[0m\u001b[1;33m\u001b[0m\u001b[0m\n\u001b[0;32m    389\u001b[0m         \u001b[1;32mfor\u001b[0m \u001b[0mname\u001b[0m \u001b[1;32min\u001b[0m \u001b[0midxnames\u001b[0m\u001b[1;33m:\u001b[0m\u001b[1;33m\u001b[0m\u001b[1;33m\u001b[0m\u001b[0m\n",
      "\u001b[1;32m~\\Anaconda3\\lib\\site-packages\\pandas\\core\\generic.py\u001b[0m in \u001b[0;36m__getattr__\u001b[1;34m(self, name)\u001b[0m\n\u001b[0;32m   5173\u001b[0m             \u001b[0mweights\u001b[0m \u001b[0mof\u001b[0m \u001b[0mzero\u001b[0m\u001b[1;33m.\u001b[0m\u001b[1;33m\u001b[0m\u001b[1;33m\u001b[0m\u001b[0m\n\u001b[0;32m   5174\u001b[0m             \u001b[0mIf\u001b[0m \u001b[0mcalled\u001b[0m \u001b[0mon\u001b[0m \u001b[0ma\u001b[0m \u001b[0mDataFrame\u001b[0m\u001b[1;33m,\u001b[0m \u001b[0mwill\u001b[0m \u001b[0maccept\u001b[0m \u001b[0mthe\u001b[0m \u001b[0mname\u001b[0m \u001b[0mof\u001b[0m \u001b[0ma\u001b[0m \u001b[0mcolumn\u001b[0m\u001b[1;33m\u001b[0m\u001b[1;33m\u001b[0m\u001b[0m\n\u001b[1;32m-> 5175\u001b[1;33m             \u001b[0mwhen\u001b[0m \u001b[0maxis\u001b[0m \u001b[1;33m=\u001b[0m \u001b[1;36m0.\u001b[0m\u001b[1;33m\u001b[0m\u001b[1;33m\u001b[0m\u001b[0m\n\u001b[0m\u001b[0;32m   5176\u001b[0m             \u001b[0mUnless\u001b[0m \u001b[0mweights\u001b[0m \u001b[0mare\u001b[0m \u001b[0ma\u001b[0m \u001b[0mSeries\u001b[0m\u001b[1;33m,\u001b[0m \u001b[0mweights\u001b[0m \u001b[0mmust\u001b[0m \u001b[0mbe\u001b[0m \u001b[0msame\u001b[0m \u001b[0mlength\u001b[0m \u001b[1;32mas\u001b[0m \u001b[0maxis\u001b[0m\u001b[1;33m\u001b[0m\u001b[1;33m\u001b[0m\u001b[0m\n\u001b[0;32m   5177\u001b[0m             \u001b[0mbeing\u001b[0m \u001b[0msampled\u001b[0m\u001b[1;33m.\u001b[0m\u001b[1;33m\u001b[0m\u001b[1;33m\u001b[0m\u001b[0m\n",
      "\u001b[1;32mpandas\\_libs\\properties.pyx\u001b[0m in \u001b[0;36mpandas._libs.properties.AxisProperty.__get__\u001b[1;34m()\u001b[0m\n",
      "\u001b[1;31mAttributeError\u001b[0m: 'NoneType' object has no attribute 'axes'"
     ]
    }
   ],
   "source": [
    "#installed pandas profiling on command prompt using command \"conda install -c conda-forge pandas-profiling\" \n",
    "#or using pip install https://github.com/pandas-profiling/pandas-profiling/archive/master.zip\n",
    "\n",
    "pandas_profiling.ProfileReport(customer_data)"
   ]
  },
  {
   "cell_type": "markdown",
   "metadata": {},
   "source": [
    "We see that the columns Gender, Job CategoryHousehold Size, NumberCats, NumberDogs,NumberBirds, Homeowner all have missing values."
   ]
  },
  {
   "cell_type": "markdown",
   "metadata": {},
   "source": [
    "### Analyzing Gender Attribute"
   ]
  },
  {
   "cell_type": "code",
   "execution_count": 17,
   "metadata": {},
   "outputs": [
    {
     "name": "stdout",
     "output_type": "stream",
     "text": [
      "Total Number of null values in Gender attribute: 33\n",
      "Frequency distribution for Gender Attirbute: Female    2494\n",
      "Male      2473\n",
      "Name: Gender, dtype: int64\n"
     ]
    }
   ],
   "source": [
    "#Analyzing Gender Attribute. \n",
    "\n",
    "print(\"Total Number of null values in Gender attribute:\",customer_data.Gender.isnull().sum())\n",
    "print(\"Frequency distribution for Gender Attirbute:\",customer_data['Gender'].value_counts())"
   ]
  },
  {
   "cell_type": "markdown",
   "metadata": {},
   "source": [
    "### Analyzing Household Size Attribute"
   ]
  },
  {
   "cell_type": "code",
   "execution_count": 18,
   "metadata": {},
   "outputs": [
    {
     "name": "stdout",
     "output_type": "stream",
     "text": [
      "Total Number of null values in Household Size attribute: 8\n",
      "Frequency distribution for HouseholdSize Attirbute: 1.0    2032\n",
      "2.0    1466\n",
      "3.0     552\n",
      "4.0     520\n",
      "5.0     287\n",
      "6.0      97\n",
      "7.0      29\n",
      "8.0       7\n",
      "9.0       2\n",
      "Name: HouseholdSize, dtype: int64\n"
     ]
    }
   ],
   "source": [
    "#Analyzing HouseHold Size Attribute\n",
    "\n",
    "print(\"Total Number of null values in Household Size attribute:\",customer_data.HouseholdSize.isnull().sum())\n",
    "print(\"Frequency distribution for HouseholdSize Attirbute:\",customer_data['HouseholdSize'].value_counts())\n"
   ]
  },
  {
   "cell_type": "code",
   "execution_count": 19,
   "metadata": {},
   "outputs": [
    {
     "name": "stdout",
     "output_type": "stream",
     "text": [
      "Number of missing values in Household Size after replacement/Imputation: 0\n"
     ]
    }
   ],
   "source": [
    "#replacing missing values with mode\n",
    "\n",
    "customer_data['HouseholdSize'].fillna(mode(customer_data['HouseholdSize']).mode[0], inplace=True)                                                \n",
    "print(\"Number of missing values in Household Size after replacement/Imputation:\",customer_data['HouseholdSize'].isnull().sum())"
   ]
  },
  {
   "cell_type": "code",
   "execution_count": 20,
   "metadata": {},
   "outputs": [
    {
     "name": "stdout",
     "output_type": "stream",
     "text": [
      "Total Number of null values in Household Size attribute: 0\n",
      "Frequency distribution for HouseholdSize Attirbute: 1.0    2040\n",
      "2.0    1466\n",
      "3.0     552\n",
      "4.0     520\n",
      "5.0     287\n",
      "6.0      97\n",
      "7.0      29\n",
      "8.0       7\n",
      "9.0       2\n",
      "Name: HouseholdSize, dtype: int64\n"
     ]
    }
   ],
   "source": [
    "#After Imputation on Household Size attribute\n",
    "\n",
    "print(\"Total Number of null values in Household Size attribute:\",customer_data.HouseholdSize.isnull().sum())\n",
    "print(\"Frequency distribution for HouseholdSize Attirbute:\",customer_data['HouseholdSize'].value_counts())"
   ]
  },
  {
   "cell_type": "code",
   "execution_count": 21,
   "metadata": {},
   "outputs": [
    {
     "name": "stdout",
     "output_type": "stream",
     "text": [
      "Total Number of null values in NumberCats Size attribute: 7\n",
      "Frequency distribution for NumberCats Attirbute: 0.0    3408\n",
      "1.0     922\n",
      "2.0     463\n",
      "3.0     159\n",
      "4.0      34\n",
      "5.0       5\n",
      "6.0       2\n",
      "Name: NumberCats, dtype: int64\n"
     ]
    }
   ],
   "source": [
    "#Analyzing NumberCats Size Attribute\n",
    "\n",
    "print(\"Total Number of null values in NumberCats Size attribute:\",customer_data.NumberCats.isnull().sum())\n",
    "print(\"Frequency distribution for NumberCats Attirbute:\",customer_data['NumberCats'].value_counts())"
   ]
  },
  {
   "cell_type": "code",
   "execution_count": 22,
   "metadata": {},
   "outputs": [
    {
     "name": "stdout",
     "output_type": "stream",
     "text": [
      "Total Number of null values in NumberDogs Size attribute: 8\n",
      "Frequency distribution for NumberDogs Attirbute: 0.0    3755\n",
      "1.0     719\n",
      "2.0     360\n",
      "3.0     117\n",
      "4.0      36\n",
      "5.0       4\n",
      "7.0       1\n",
      "Name: NumberDogs, dtype: int64\n"
     ]
    }
   ],
   "source": [
    "#Analyzing NumberDogs Size Attribute\n",
    "\n",
    "print(\"Total Number of null values in NumberDogs Size attribute:\",customer_data.NumberDogs.isnull().sum())\n",
    "print(\"Frequency distribution for NumberDogs Attirbute:\",customer_data['NumberDogs'].value_counts())"
   ]
  },
  {
   "cell_type": "code",
   "execution_count": 23,
   "metadata": {},
   "outputs": [
    {
     "name": "stdout",
     "output_type": "stream",
     "text": [
      "Total Number of null values in NumberBirds Size attribute: 34\n",
      "Frequency distribution for NumberBirds Attirbute: 0.0    4664\n",
      "1.0     144\n",
      "2.0      88\n",
      "3.0      49\n",
      "4.0      20\n",
      "5.0       1\n",
      "Name: NumberBirds, dtype: int64\n"
     ]
    }
   ],
   "source": [
    "#Analyzing NumberDogs Size Attribute\n",
    "\n",
    "print(\"Total Number of null values in NumberBirds Size attribute:\",customer_data.NumberBirds.isnull().sum())\n",
    "print(\"Frequency distribution for NumberBirds Attirbute:\",customer_data['NumberBirds'].value_counts())"
   ]
  },
  {
   "cell_type": "code",
   "execution_count": 24,
   "metadata": {},
   "outputs": [
    {
     "name": "stdout",
     "output_type": "stream",
     "text": [
      "Total Number of null values in Homeowner Size attribute: 13\n",
      "Frequency distribution for Homeowner Attirbute: 1.0    3140\n",
      "0.0    1847\n",
      "Name: HomeOwner, dtype: int64\n"
     ]
    }
   ],
   "source": [
    "#Analyzing Homeowner Size Attribute\n",
    "\n",
    "print(\"Total Number of null values in Homeowner Size attribute:\",customer_data.HomeOwner.isnull().sum())\n",
    "print(\"Frequency distribution for Homeowner Attirbute:\",customer_data['HomeOwner'].value_counts())"
   ]
  },
  {
   "cell_type": "code",
   "execution_count": 25,
   "metadata": {},
   "outputs": [
    {
     "name": "stdout",
     "output_type": "stream",
     "text": [
      "Total Number of null values in Household income attribute: 0\n",
      "Frequency distribution for Household income Attirbute:  $22,000.00      112\n",
      " $29,000.00      109\n",
      " $25,000.00      108\n",
      " $20,000.00      102\n",
      " $30,000.00      102\n",
      "                ... \n",
      " $575,000.00       1\n",
      " $409,000.00       1\n",
      " $248,000.00       1\n",
      " $315,000.00       1\n",
      " $345,000.00       1\n",
      "Name: HHIncome, Length: 266, dtype: int64\n"
     ]
    }
   ],
   "source": [
    "#Analyzing House Hold Income- HHIncome\n",
    "\n",
    "print(\"Total Number of null values in Household income attribute:\",customer_data.HHIncome.isnull().sum())\n",
    "print(\"Frequency distribution for Household income Attirbute:\",customer_data['HHIncome'].value_counts())"
   ]
  },
  {
   "cell_type": "code",
   "execution_count": 26,
   "metadata": {},
   "outputs": [
    {
     "data": {
      "text/plain": [
       "0       <class 'str'>\n",
       "1       <class 'str'>\n",
       "2       <class 'str'>\n",
       "3       <class 'str'>\n",
       "4       <class 'str'>\n",
       "            ...      \n",
       "4995    <class 'str'>\n",
       "4996    <class 'str'>\n",
       "4997    <class 'str'>\n",
       "4998    <class 'str'>\n",
       "4999    <class 'str'>\n",
       "Name: HHIncome, Length: 5000, dtype: object"
      ]
     },
     "execution_count": 26,
     "metadata": {},
     "output_type": "execute_result"
    }
   ],
   "source": [
    "customer_data.HHIncome.apply(type)"
   ]
  },
  {
   "cell_type": "code",
   "execution_count": 27,
   "metadata": {},
   "outputs": [
    {
     "data": {
      "text/plain": [
       "<class 'str'>    5000\n",
       "Name: HHIncome, dtype: int64"
      ]
     },
     "execution_count": 27,
     "metadata": {},
     "output_type": "execute_result"
    }
   ],
   "source": [
    "customer_data.HHIncome.apply(type).value_counts()\n"
   ]
  },
  {
   "cell_type": "code",
   "execution_count": 28,
   "metadata": {},
   "outputs": [],
   "source": [
    "#creating functions to remove currency '$' synmbol from the column\n",
    "\n",
    "def remove_currency_symbol(attribute):\n",
    "    \"\"\" If the value is a string, then remove currency symbol and delimiters\n",
    "    otherwise, the value is numeric and can be converted\n",
    "    \"\"\"\n",
    "    if isinstance(attribute, str):\n",
    "        return(attribute.replace('$', '').replace(',', ''))\n",
    "    return(attribute)"
   ]
  },
  {
   "cell_type": "code",
   "execution_count": 29,
   "metadata": {},
   "outputs": [
    {
     "data": {
      "text/plain": [
       "0    31000.0\n",
       "1    15000.0\n",
       "2    35000.0\n",
       "3    20000.0\n",
       "4    23000.0\n",
       "Name: HHIncome, dtype: float64"
      ]
     },
     "execution_count": 29,
     "metadata": {},
     "output_type": "execute_result"
    }
   ],
   "source": [
    "customer_data['HHIncome'] =customer_data['HHIncome'].apply(remove_currency_symbol).astype('float')\n",
    "customer_data['HHIncome'].head()"
   ]
  },
  {
   "cell_type": "markdown",
   "metadata": {},
   "source": [
    "#### SciPy: \n",
    "\n",
    "SciPy is a scientific computation library that uses NumPy underneath.\n",
    "\n",
    "SciPy stands for Scientific Python.\n",
    "\n",
    "It provides more utility functions for optimization, stats and signal processing.\n",
    "\n",
    "Like NumPy, SciPy is open source so we can use it freely.\n",
    "\n",
    "Source: https://www.w3schools.com/python/scipy_intro.asp"
   ]
  },
  {
   "cell_type": "code",
   "execution_count": 30,
   "metadata": {},
   "outputs": [
    {
     "name": "stderr",
     "output_type": "stream",
     "text": [
      "C:\\Users\\priya\\Anaconda3\\lib\\site-packages\\ipykernel_launcher.py:1: DeprecationWarning: scipy.mean is deprecated and will be removed in SciPy 2.0.0, use numpy.mean instead\n",
      "  \"\"\"Entry point for launching an IPython kernel.\n"
     ]
    },
    {
     "data": {
      "text/plain": [
       "54759.6"
      ]
     },
     "execution_count": 30,
     "metadata": {},
     "output_type": "execute_result"
    }
   ],
   "source": [
    "sc.mean(customer_data['HHIncome'])"
   ]
  },
  {
   "cell_type": "code",
   "execution_count": 31,
   "metadata": {},
   "outputs": [],
   "source": [
    "def coding(attribute, codeDict):\n",
    "  colCoded = pd.Series(attribute, copy=True)\n",
    "  for key, value in codeDict.items():\n",
    "    colCoded.replace(key, value, inplace=True)\n",
    "  return colCoded"
   ]
  },
  {
   "cell_type": "code",
   "execution_count": 32,
   "metadata": {},
   "outputs": [
    {
     "data": {
      "text/plain": [
       "0    Yes\n",
       "1    Yes\n",
       "2     No\n",
       "3    Yes\n",
       "4     No\n",
       "Name: LoanDefault, dtype: object"
      ]
     },
     "execution_count": 32,
     "metadata": {},
     "output_type": "execute_result"
    },
    {
     "data": {
      "text/plain": [
       "No     3829\n",
       "Yes    1171\n",
       "Name: LoanDefault, dtype: int64"
      ]
     },
     "execution_count": 32,
     "metadata": {},
     "output_type": "execute_result"
    }
   ],
   "source": [
    "customer_data['LoanDefault'].head()\n",
    "customer_data['LoanDefault'].value_counts()"
   ]
  },
  {
   "cell_type": "code",
   "execution_count": 33,
   "metadata": {},
   "outputs": [
    {
     "name": "stdout",
     "output_type": "stream",
     "text": [
      "2    3829\n",
      "1    1171\n",
      "Name: LoanDefault_Num, dtype: int64\n"
     ]
    }
   ],
   "source": [
    "#applying Coding function on Loan Default \n",
    "\n",
    "customer_data['LoanDefault_Num'] = coding(customer_data['LoanDefault'],{'Yes':1,'No':2})\n",
    "print(customer_data['LoanDefault_Num'].value_counts())"
   ]
  },
  {
   "cell_type": "code",
   "execution_count": 34,
   "metadata": {},
   "outputs": [
    {
     "data": {
      "text/plain": [
       "Female    2494\n",
       "Male      2473\n",
       "Name: Gender, dtype: int64"
      ]
     },
     "execution_count": 34,
     "metadata": {},
     "output_type": "execute_result"
    }
   ],
   "source": [
    "customer_data['Gender'].value_counts()"
   ]
  },
  {
   "cell_type": "code",
   "execution_count": 35,
   "metadata": {},
   "outputs": [
    {
     "data": {
      "text/plain": [
       "2.0    2494\n",
       "1.0    2473\n",
       "Name: Gender_Num, dtype: int64"
      ]
     },
     "execution_count": 35,
     "metadata": {},
     "output_type": "execute_result"
    }
   ],
   "source": [
    "#After Coding\n",
    "\n",
    "customer_data['Gender_Num'] = coding(customer_data['Gender'],{'Female':2,'Male':1})\n",
    "customer_data['Gender_Num'].value_counts()"
   ]
  },
  {
   "cell_type": "markdown",
   "metadata": {},
   "source": [
    "### Analysis of Job Category Attribute"
   ]
  },
  {
   "cell_type": "code",
   "execution_count": 36,
   "metadata": {},
   "outputs": [
    {
     "name": "stdout",
     "output_type": "stream",
     "text": [
      "Total Number of null values in Job Category attribute: 15\n",
      "Frequency distribution for JobCategory Attirbute: Sales           1635\n",
      "Professional    1380\n",
      "Labor            686\n",
      "Service          620\n",
      "Crafts           452\n",
      "Agriculture      212\n",
      "Name: JobCategory, dtype: int64\n"
     ]
    }
   ],
   "source": [
    "#Analyzing Job Catgeory\n",
    "\n",
    "print(\"Total Number of null values in Job Category attribute:\",customer_data.JobCategory.isnull().sum())\n",
    "print(\"Frequency distribution for JobCategory Attirbute:\",customer_data['JobCategory'].value_counts())"
   ]
  },
  {
   "cell_type": "code",
   "execution_count": 37,
   "metadata": {},
   "outputs": [
    {
     "name": "stdout",
     "output_type": "stream",
     "text": [
      "Total Number of null values in Job Category attribute after Imputation: 0\n",
      "Frequency distribution for JobCategory Attirbute after Imputation: Sales           1650\n",
      "Professional    1380\n",
      "Labor            686\n",
      "Service          620\n",
      "Crafts           452\n",
      "Agriculture      212\n",
      "Name: JobCategory, dtype: int64\n"
     ]
    }
   ],
   "source": [
    "#Imputing the attribute using mode value\n",
    "\n",
    "customer_data['JobCategory'].fillna(mode(customer_data['JobCategory']).mode[0],inplace = True)\n",
    "\n",
    "print(\"Total Number of null values in Job Category attribute after Imputation:\",customer_data.JobCategory.isnull().sum())\n",
    "print(\"Frequency distribution for JobCategory Attirbute after Imputation:\",customer_data['JobCategory'].value_counts())\n"
   ]
  },
  {
   "cell_type": "code",
   "execution_count": 38,
   "metadata": {},
   "outputs": [
    {
     "data": {
      "text/html": [
       "<div>\n",
       "<style scoped>\n",
       "    .dataframe tbody tr th:only-of-type {\n",
       "        vertical-align: middle;\n",
       "    }\n",
       "\n",
       "    .dataframe tbody tr th {\n",
       "        vertical-align: top;\n",
       "    }\n",
       "\n",
       "    .dataframe thead th {\n",
       "        text-align: right;\n",
       "    }\n",
       "</style>\n",
       "<table border=\"1\" class=\"dataframe\">\n",
       "  <thead>\n",
       "    <tr style=\"text-align: right;\">\n",
       "      <th></th>\n",
       "      <th>Region</th>\n",
       "      <th>Age</th>\n",
       "      <th>EducationYears</th>\n",
       "      <th>EmploymentLength</th>\n",
       "      <th>HHIncome</th>\n",
       "      <th>DebtToIncomeRatio</th>\n",
       "      <th>CreditDebt</th>\n",
       "      <th>OtherDebt</th>\n",
       "      <th>HouseholdSize</th>\n",
       "      <th>NumberPets</th>\n",
       "      <th>...</th>\n",
       "      <th>NumberDogs</th>\n",
       "      <th>NumberBirds</th>\n",
       "      <th>HomeOwner</th>\n",
       "      <th>CarsOwned</th>\n",
       "      <th>CardTenure</th>\n",
       "      <th>CardItemsMonthly</th>\n",
       "      <th>PhoneCoTenure</th>\n",
       "      <th>TVWatchingHours</th>\n",
       "      <th>LoanDefault_Num</th>\n",
       "      <th>Gender_Num</th>\n",
       "    </tr>\n",
       "  </thead>\n",
       "  <tbody>\n",
       "    <tr>\n",
       "      <th>count</th>\n",
       "      <td>5000.00000</td>\n",
       "      <td>5000.000000</td>\n",
       "      <td>5000.000000</td>\n",
       "      <td>5000.000000</td>\n",
       "      <td>5.000000e+03</td>\n",
       "      <td>5000.000000</td>\n",
       "      <td>5000.000000</td>\n",
       "      <td>5000.000000</td>\n",
       "      <td>5000.000000</td>\n",
       "      <td>4994.000000</td>\n",
       "      <td>...</td>\n",
       "      <td>4992.000000</td>\n",
       "      <td>4966.000000</td>\n",
       "      <td>4987.000000</td>\n",
       "      <td>5000.000000</td>\n",
       "      <td>5000.000000</td>\n",
       "      <td>5000.00000</td>\n",
       "      <td>5000.000000</td>\n",
       "      <td>5000.000000</td>\n",
       "      <td>5000.00000</td>\n",
       "      <td>4967.000000</td>\n",
       "    </tr>\n",
       "    <tr>\n",
       "      <th>mean</th>\n",
       "      <td>3.00140</td>\n",
       "      <td>47.025600</td>\n",
       "      <td>14.543000</td>\n",
       "      <td>9.730400</td>\n",
       "      <td>5.475960e+04</td>\n",
       "      <td>9.954160</td>\n",
       "      <td>1.857326</td>\n",
       "      <td>3.654460</td>\n",
       "      <td>2.200400</td>\n",
       "      <td>3.066680</td>\n",
       "      <td>...</td>\n",
       "      <td>0.392829</td>\n",
       "      <td>0.111156</td>\n",
       "      <td>0.629637</td>\n",
       "      <td>2.130600</td>\n",
       "      <td>16.655800</td>\n",
       "      <td>10.17740</td>\n",
       "      <td>38.204800</td>\n",
       "      <td>19.645000</td>\n",
       "      <td>1.76580</td>\n",
       "      <td>1.502114</td>\n",
       "    </tr>\n",
       "    <tr>\n",
       "      <th>std</th>\n",
       "      <td>1.42176</td>\n",
       "      <td>17.770338</td>\n",
       "      <td>3.281083</td>\n",
       "      <td>9.690929</td>\n",
       "      <td>5.537751e+04</td>\n",
       "      <td>6.399783</td>\n",
       "      <td>3.415732</td>\n",
       "      <td>5.395172</td>\n",
       "      <td>1.391628</td>\n",
       "      <td>3.415625</td>\n",
       "      <td>...</td>\n",
       "      <td>0.796539</td>\n",
       "      <td>0.495832</td>\n",
       "      <td>0.482950</td>\n",
       "      <td>1.307473</td>\n",
       "      <td>12.020958</td>\n",
       "      <td>3.39114</td>\n",
       "      <td>22.661888</td>\n",
       "      <td>5.165609</td>\n",
       "      <td>0.42354</td>\n",
       "      <td>0.500046</td>\n",
       "    </tr>\n",
       "    <tr>\n",
       "      <th>min</th>\n",
       "      <td>1.00000</td>\n",
       "      <td>18.000000</td>\n",
       "      <td>6.000000</td>\n",
       "      <td>0.000000</td>\n",
       "      <td>9.000000e+03</td>\n",
       "      <td>0.000000</td>\n",
       "      <td>0.000000</td>\n",
       "      <td>0.000000</td>\n",
       "      <td>1.000000</td>\n",
       "      <td>0.000000</td>\n",
       "      <td>...</td>\n",
       "      <td>0.000000</td>\n",
       "      <td>0.000000</td>\n",
       "      <td>0.000000</td>\n",
       "      <td>0.000000</td>\n",
       "      <td>0.000000</td>\n",
       "      <td>0.00000</td>\n",
       "      <td>0.000000</td>\n",
       "      <td>0.000000</td>\n",
       "      <td>1.00000</td>\n",
       "      <td>1.000000</td>\n",
       "    </tr>\n",
       "    <tr>\n",
       "      <th>25%</th>\n",
       "      <td>2.00000</td>\n",
       "      <td>31.000000</td>\n",
       "      <td>12.000000</td>\n",
       "      <td>2.000000</td>\n",
       "      <td>2.400000e+04</td>\n",
       "      <td>5.100000</td>\n",
       "      <td>0.385520</td>\n",
       "      <td>0.980301</td>\n",
       "      <td>1.000000</td>\n",
       "      <td>0.000000</td>\n",
       "      <td>...</td>\n",
       "      <td>0.000000</td>\n",
       "      <td>0.000000</td>\n",
       "      <td>0.000000</td>\n",
       "      <td>1.000000</td>\n",
       "      <td>6.000000</td>\n",
       "      <td>8.00000</td>\n",
       "      <td>18.000000</td>\n",
       "      <td>17.000000</td>\n",
       "      <td>2.00000</td>\n",
       "      <td>1.000000</td>\n",
       "    </tr>\n",
       "    <tr>\n",
       "      <th>50%</th>\n",
       "      <td>3.00000</td>\n",
       "      <td>47.000000</td>\n",
       "      <td>14.000000</td>\n",
       "      <td>7.000000</td>\n",
       "      <td>3.800000e+04</td>\n",
       "      <td>8.800000</td>\n",
       "      <td>0.926437</td>\n",
       "      <td>2.098540</td>\n",
       "      <td>2.000000</td>\n",
       "      <td>2.000000</td>\n",
       "      <td>...</td>\n",
       "      <td>0.000000</td>\n",
       "      <td>0.000000</td>\n",
       "      <td>1.000000</td>\n",
       "      <td>2.000000</td>\n",
       "      <td>14.000000</td>\n",
       "      <td>10.00000</td>\n",
       "      <td>38.000000</td>\n",
       "      <td>20.000000</td>\n",
       "      <td>2.00000</td>\n",
       "      <td>2.000000</td>\n",
       "    </tr>\n",
       "    <tr>\n",
       "      <th>75%</th>\n",
       "      <td>4.00000</td>\n",
       "      <td>62.000000</td>\n",
       "      <td>17.000000</td>\n",
       "      <td>15.000000</td>\n",
       "      <td>6.700000e+04</td>\n",
       "      <td>13.600000</td>\n",
       "      <td>2.063820</td>\n",
       "      <td>4.314780</td>\n",
       "      <td>3.000000</td>\n",
       "      <td>5.000000</td>\n",
       "      <td>...</td>\n",
       "      <td>0.000000</td>\n",
       "      <td>0.000000</td>\n",
       "      <td>1.000000</td>\n",
       "      <td>3.000000</td>\n",
       "      <td>26.000000</td>\n",
       "      <td>12.00000</td>\n",
       "      <td>59.000000</td>\n",
       "      <td>23.000000</td>\n",
       "      <td>2.00000</td>\n",
       "      <td>2.000000</td>\n",
       "    </tr>\n",
       "    <tr>\n",
       "      <th>max</th>\n",
       "      <td>5.00000</td>\n",
       "      <td>79.000000</td>\n",
       "      <td>23.000000</td>\n",
       "      <td>52.000000</td>\n",
       "      <td>1.073000e+06</td>\n",
       "      <td>43.100000</td>\n",
       "      <td>109.072596</td>\n",
       "      <td>141.459150</td>\n",
       "      <td>9.000000</td>\n",
       "      <td>21.000000</td>\n",
       "      <td>...</td>\n",
       "      <td>7.000000</td>\n",
       "      <td>5.000000</td>\n",
       "      <td>1.000000</td>\n",
       "      <td>8.000000</td>\n",
       "      <td>40.000000</td>\n",
       "      <td>23.00000</td>\n",
       "      <td>72.000000</td>\n",
       "      <td>36.000000</td>\n",
       "      <td>2.00000</td>\n",
       "      <td>2.000000</td>\n",
       "    </tr>\n",
       "  </tbody>\n",
       "</table>\n",
       "<p>8 rows × 21 columns</p>\n",
       "</div>"
      ],
      "text/plain": [
       "           Region          Age  EducationYears  EmploymentLength  \\\n",
       "count  5000.00000  5000.000000     5000.000000       5000.000000   \n",
       "mean      3.00140    47.025600       14.543000          9.730400   \n",
       "std       1.42176    17.770338        3.281083          9.690929   \n",
       "min       1.00000    18.000000        6.000000          0.000000   \n",
       "25%       2.00000    31.000000       12.000000          2.000000   \n",
       "50%       3.00000    47.000000       14.000000          7.000000   \n",
       "75%       4.00000    62.000000       17.000000         15.000000   \n",
       "max       5.00000    79.000000       23.000000         52.000000   \n",
       "\n",
       "           HHIncome  DebtToIncomeRatio   CreditDebt    OtherDebt  \\\n",
       "count  5.000000e+03        5000.000000  5000.000000  5000.000000   \n",
       "mean   5.475960e+04           9.954160     1.857326     3.654460   \n",
       "std    5.537751e+04           6.399783     3.415732     5.395172   \n",
       "min    9.000000e+03           0.000000     0.000000     0.000000   \n",
       "25%    2.400000e+04           5.100000     0.385520     0.980301   \n",
       "50%    3.800000e+04           8.800000     0.926437     2.098540   \n",
       "75%    6.700000e+04          13.600000     2.063820     4.314780   \n",
       "max    1.073000e+06          43.100000   109.072596   141.459150   \n",
       "\n",
       "       HouseholdSize   NumberPets  ...   NumberDogs  NumberBirds    HomeOwner  \\\n",
       "count    5000.000000  4994.000000  ...  4992.000000  4966.000000  4987.000000   \n",
       "mean        2.200400     3.066680  ...     0.392829     0.111156     0.629637   \n",
       "std         1.391628     3.415625  ...     0.796539     0.495832     0.482950   \n",
       "min         1.000000     0.000000  ...     0.000000     0.000000     0.000000   \n",
       "25%         1.000000     0.000000  ...     0.000000     0.000000     0.000000   \n",
       "50%         2.000000     2.000000  ...     0.000000     0.000000     1.000000   \n",
       "75%         3.000000     5.000000  ...     0.000000     0.000000     1.000000   \n",
       "max         9.000000    21.000000  ...     7.000000     5.000000     1.000000   \n",
       "\n",
       "         CarsOwned   CardTenure  CardItemsMonthly  PhoneCoTenure  \\\n",
       "count  5000.000000  5000.000000        5000.00000    5000.000000   \n",
       "mean      2.130600    16.655800          10.17740      38.204800   \n",
       "std       1.307473    12.020958           3.39114      22.661888   \n",
       "min       0.000000     0.000000           0.00000       0.000000   \n",
       "25%       1.000000     6.000000           8.00000      18.000000   \n",
       "50%       2.000000    14.000000          10.00000      38.000000   \n",
       "75%       3.000000    26.000000          12.00000      59.000000   \n",
       "max       8.000000    40.000000          23.00000      72.000000   \n",
       "\n",
       "       TVWatchingHours  LoanDefault_Num   Gender_Num  \n",
       "count      5000.000000       5000.00000  4967.000000  \n",
       "mean         19.645000          1.76580     1.502114  \n",
       "std           5.165609          0.42354     0.500046  \n",
       "min           0.000000          1.00000     1.000000  \n",
       "25%          17.000000          2.00000     1.000000  \n",
       "50%          20.000000          2.00000     2.000000  \n",
       "75%          23.000000          2.00000     2.000000  \n",
       "max          36.000000          2.00000     2.000000  \n",
       "\n",
       "[8 rows x 21 columns]"
      ]
     },
     "execution_count": 38,
     "metadata": {},
     "output_type": "execute_result"
    }
   ],
   "source": [
    "customer_data.describe(include = [np.number])"
   ]
  },
  {
   "cell_type": "code",
   "execution_count": 39,
   "metadata": {},
   "outputs": [
    {
     "data": {
      "text/html": [
       "<div>\n",
       "<style scoped>\n",
       "    .dataframe tbody tr th:only-of-type {\n",
       "        vertical-align: middle;\n",
       "    }\n",
       "\n",
       "    .dataframe tbody tr th {\n",
       "        vertical-align: top;\n",
       "    }\n",
       "\n",
       "    .dataframe thead th {\n",
       "        text-align: right;\n",
       "    }\n",
       "</style>\n",
       "<table border=\"1\" class=\"dataframe\">\n",
       "  <thead>\n",
       "    <tr style=\"text-align: right;\">\n",
       "      <th></th>\n",
       "      <th>CustomerID</th>\n",
       "      <th>TownSize</th>\n",
       "      <th>Gender</th>\n",
       "      <th>JobCategory</th>\n",
       "      <th>UnionMember</th>\n",
       "      <th>Retired</th>\n",
       "      <th>LoanDefault</th>\n",
       "      <th>MaritalStatus</th>\n",
       "      <th>CarOwnership</th>\n",
       "      <th>CarBrand</th>\n",
       "      <th>...</th>\n",
       "      <th>CallerID</th>\n",
       "      <th>CallWait</th>\n",
       "      <th>CallForward</th>\n",
       "      <th>ThreeWayCalling</th>\n",
       "      <th>EBilling</th>\n",
       "      <th>OwnsPC</th>\n",
       "      <th>OwnsMobileDevice</th>\n",
       "      <th>OwnsGameSystem</th>\n",
       "      <th>OwnsFax</th>\n",
       "      <th>NewsSubscriber</th>\n",
       "    </tr>\n",
       "  </thead>\n",
       "  <tbody>\n",
       "    <tr>\n",
       "      <th>count</th>\n",
       "      <td>5000</td>\n",
       "      <td>5000</td>\n",
       "      <td>4967</td>\n",
       "      <td>5000</td>\n",
       "      <td>5000</td>\n",
       "      <td>5000</td>\n",
       "      <td>5000</td>\n",
       "      <td>5000</td>\n",
       "      <td>5000</td>\n",
       "      <td>5000</td>\n",
       "      <td>...</td>\n",
       "      <td>5000</td>\n",
       "      <td>5000</td>\n",
       "      <td>5000</td>\n",
       "      <td>5000</td>\n",
       "      <td>5000</td>\n",
       "      <td>5000</td>\n",
       "      <td>5000</td>\n",
       "      <td>5000</td>\n",
       "      <td>5000</td>\n",
       "      <td>5000</td>\n",
       "    </tr>\n",
       "    <tr>\n",
       "      <th>unique</th>\n",
       "      <td>5000</td>\n",
       "      <td>6</td>\n",
       "      <td>2</td>\n",
       "      <td>6</td>\n",
       "      <td>2</td>\n",
       "      <td>2</td>\n",
       "      <td>2</td>\n",
       "      <td>2</td>\n",
       "      <td>3</td>\n",
       "      <td>3</td>\n",
       "      <td>...</td>\n",
       "      <td>2</td>\n",
       "      <td>2</td>\n",
       "      <td>2</td>\n",
       "      <td>2</td>\n",
       "      <td>2</td>\n",
       "      <td>2</td>\n",
       "      <td>2</td>\n",
       "      <td>2</td>\n",
       "      <td>2</td>\n",
       "      <td>2</td>\n",
       "    </tr>\n",
       "    <tr>\n",
       "      <th>top</th>\n",
       "      <td>8681-LQUWES-XE6</td>\n",
       "      <td>1</td>\n",
       "      <td>Female</td>\n",
       "      <td>Sales</td>\n",
       "      <td>No</td>\n",
       "      <td>No</td>\n",
       "      <td>No</td>\n",
       "      <td>Unmarried</td>\n",
       "      <td>Own</td>\n",
       "      <td>Domestic</td>\n",
       "      <td>...</td>\n",
       "      <td>No</td>\n",
       "      <td>No</td>\n",
       "      <td>No</td>\n",
       "      <td>No</td>\n",
       "      <td>No</td>\n",
       "      <td>Yes</td>\n",
       "      <td>No</td>\n",
       "      <td>No</td>\n",
       "      <td>No</td>\n",
       "      <td>No</td>\n",
       "    </tr>\n",
       "    <tr>\n",
       "      <th>freq</th>\n",
       "      <td>1</td>\n",
       "      <td>1436</td>\n",
       "      <td>2494</td>\n",
       "      <td>1650</td>\n",
       "      <td>4244</td>\n",
       "      <td>4262</td>\n",
       "      <td>3829</td>\n",
       "      <td>2599</td>\n",
       "      <td>3704</td>\n",
       "      <td>2287</td>\n",
       "      <td>...</td>\n",
       "      <td>2624</td>\n",
       "      <td>2605</td>\n",
       "      <td>2597</td>\n",
       "      <td>2610</td>\n",
       "      <td>3257</td>\n",
       "      <td>3164</td>\n",
       "      <td>2604</td>\n",
       "      <td>2626</td>\n",
       "      <td>4106</td>\n",
       "      <td>2637</td>\n",
       "    </tr>\n",
       "  </tbody>\n",
       "</table>\n",
       "<p>4 rows × 40 columns</p>\n",
       "</div>"
      ],
      "text/plain": [
       "             CustomerID TownSize  Gender JobCategory UnionMember Retired  \\\n",
       "count              5000     5000    4967        5000        5000    5000   \n",
       "unique             5000        6       2           6           2       2   \n",
       "top     8681-LQUWES-XE6        1  Female       Sales          No      No   \n",
       "freq                  1     1436    2494        1650        4244    4262   \n",
       "\n",
       "       LoanDefault MaritalStatus CarOwnership  CarBrand  ... CallerID  \\\n",
       "count         5000          5000         5000      5000  ...     5000   \n",
       "unique           2             2            3         3  ...        2   \n",
       "top             No     Unmarried          Own  Domestic  ...       No   \n",
       "freq          3829          2599         3704      2287  ...     2624   \n",
       "\n",
       "       CallWait CallForward ThreeWayCalling EBilling OwnsPC OwnsMobileDevice  \\\n",
       "count      5000        5000            5000     5000   5000             5000   \n",
       "unique        2           2               2        2      2                2   \n",
       "top          No          No              No       No    Yes               No   \n",
       "freq       2605        2597            2610     3257   3164             2604   \n",
       "\n",
       "       OwnsGameSystem OwnsFax NewsSubscriber  \n",
       "count            5000    5000           5000  \n",
       "unique              2       2              2  \n",
       "top                No      No             No  \n",
       "freq             2626    4106           2637  \n",
       "\n",
       "[4 rows x 40 columns]"
      ]
     },
     "execution_count": 39,
     "metadata": {},
     "output_type": "execute_result"
    }
   ],
   "source": [
    "customer_data.describe(include = [np.object])"
   ]
  },
  {
   "cell_type": "code",
   "execution_count": 40,
   "metadata": {},
   "outputs": [
    {
     "data": {
      "text/plain": [
       "count    5000.000000\n",
       "mean        9.954160\n",
       "std         6.399783\n",
       "min         0.000000\n",
       "25%         5.100000\n",
       "50%         8.800000\n",
       "75%        13.600000\n",
       "max        43.100000\n",
       "Name: DebtToIncomeRatio, dtype: float64"
      ]
     },
     "execution_count": 40,
     "metadata": {},
     "output_type": "execute_result"
    }
   ],
   "source": [
    "customer_data.DebtToIncomeRatio.describe()"
   ]
  },
  {
   "cell_type": "code",
   "execution_count": 41,
   "metadata": {},
   "outputs": [
    {
     "name": "stdout",
     "output_type": "stream",
     "text": [
      "No     2604\n",
      "Yes    2396\n",
      "Name: OwnsMobileDevice, dtype: int64\n"
     ]
    }
   ],
   "source": [
    "print (pd.value_counts(customer_data['OwnsMobileDevice']))"
   ]
  },
  {
   "cell_type": "code",
   "execution_count": 42,
   "metadata": {},
   "outputs": [],
   "source": [
    "#Binning continuous variables\n",
    "def binning_values(attributes, cut_points, labels=None):\n",
    "  #Define min and max values:\n",
    "  minval = attributes.min()\n",
    "  maxval = attributes.max()\n",
    "\n",
    "  #create list by adding min and max to cut_points\n",
    "  break_points = [minval] + cut_points + [maxval]\n",
    "  print(break_points)  \n",
    "  #if no labels provided, use default labels 0 ... (n-1)\n",
    "  if not labels:\n",
    "    labels = range(1,len(cut_points)+2)\n",
    "  print(labels)\n",
    "  #Binning using cut function of pandas\n",
    "  colBin = pd.cut(attributes,bins=break_points,labels=labels,include_lowest=True)\n",
    "  return colBin"
   ]
  },
  {
   "cell_type": "code",
   "execution_count": 43,
   "metadata": {},
   "outputs": [
    {
     "name": "stdout",
     "output_type": "stream",
     "text": [
      "[0.0, 5, 10, 15, 43.1]\n",
      "range(1, 5)\n",
      "1    1215\n",
      "2    1662\n",
      "3    1176\n",
      "4     947\n",
      "Name: DebtToIncomeRatio_Recoded, dtype: int64\n"
     ]
    }
   ],
   "source": [
    "#Binning Debit to Income Ratio\n",
    "cut_points = [5,10,15]\n",
    "#labels = [\"low\",\"medium\",\"high\",\"very high\"]\n",
    "#cust_df[\"DebtToIncomeRatio_Recoded\"] = binning(cust_df[\"DebtToIncomeRatio\"], cut_points,labels)\n",
    "#To get labels that start from 0 modify above range function; To use labels add labels in binning function below\n",
    "customer_data[\"DebtToIncomeRatio_Recoded\"] = binning_values(customer_data[\"DebtToIncomeRatio\"], cut_points)\n",
    "print (pd.value_counts(customer_data[\"DebtToIncomeRatio_Recoded\"], sort=False))"
   ]
  },
  {
   "cell_type": "code",
   "execution_count": 44,
   "metadata": {},
   "outputs": [
    {
     "data": {
      "text/plain": [
       "count    5000.000000\n",
       "mean       47.025600\n",
       "std        17.770338\n",
       "min        18.000000\n",
       "25%        31.000000\n",
       "50%        47.000000\n",
       "75%        62.000000\n",
       "max        79.000000\n",
       "Name: Age, dtype: float64"
      ]
     },
     "execution_count": 44,
     "metadata": {},
     "output_type": "execute_result"
    }
   ],
   "source": [
    "customer_data.Age.describe()"
   ]
  },
  {
   "cell_type": "code",
   "execution_count": 45,
   "metadata": {},
   "outputs": [
    {
     "name": "stdout",
     "output_type": "stream",
     "text": [
      "[18, 31, 47, 62, 79]\n",
      "['18-31', '>31-47', '>47-62', '>62']\n",
      "18-31     1253\n",
      ">31-47    1322\n",
      ">47-62    1187\n",
      ">62       1238\n",
      "Name: Age_Recoded, dtype: int64\n"
     ]
    }
   ],
   "source": [
    "#Binning Age:\n",
    "cut_points = [31,47,62]\n",
    "labels = [\"18-31\",\">31-47\",\">47-62\",\">62\"]\n",
    "customer_data[\"Age_Recoded\"] = binning_values(customer_data[\"Age\"], cut_points,labels)\n",
    "print (pd.value_counts(customer_data[\"Age_Recoded\"], sort=False))"
   ]
  },
  {
   "cell_type": "code",
   "execution_count": 46,
   "metadata": {},
   "outputs": [
    {
     "data": {
      "text/plain": [
       "count    5000.000000\n",
       "mean       38.204800\n",
       "std        22.661888\n",
       "min         0.000000\n",
       "25%        18.000000\n",
       "50%        38.000000\n",
       "75%        59.000000\n",
       "max        72.000000\n",
       "Name: PhoneCoTenure, dtype: float64"
      ]
     },
     "execution_count": 46,
     "metadata": {},
     "output_type": "execute_result"
    }
   ],
   "source": [
    "customer_data.PhoneCoTenure.describe()"
   ]
  },
  {
   "cell_type": "code",
   "execution_count": 47,
   "metadata": {},
   "outputs": [
    {
     "name": "stdout",
     "output_type": "stream",
     "text": [
      "[0, 18, 38, 59, 72]\n",
      "['0-18', '>18-38', '>38-59', '>59']\n",
      "0-18      1304\n",
      ">18-38    1213\n",
      ">38-59    1239\n",
      ">59       1244\n",
      "Name: PhoneCoTenure_Coded, dtype: int64\n"
     ]
    }
   ],
   "source": [
    "#Binning PhoneCoTenure:\n",
    "cut_points = [18,38,59]\n",
    "labels = [\"0-18\",\">18-38\",\">38-59\",\">59\"]\n",
    "customer_data[\"PhoneCoTenure_Coded\"] = binning_values(customer_data['PhoneCoTenure'], cut_points,labels)\n",
    "print (pd.value_counts(customer_data['PhoneCoTenure_Coded'], sort=False))"
   ]
  },
  {
   "cell_type": "code",
   "execution_count": 48,
   "metadata": {},
   "outputs": [
    {
     "name": "stdout",
     "output_type": "stream",
     "text": [
      "                                DebtToIncomeRatio\n",
      "Gender LoanDefault Age_Recoded                   \n",
      "Female No          18-31                 7.615773\n",
      "                   >31-47                8.575502\n",
      "                   >47-62                9.325333\n",
      "                   >62                   9.301745\n",
      "       Yes         18-31                12.100949\n",
      "                   >31-47               13.888889\n",
      "                   >47-62               18.449315\n",
      "                   >62                  16.936667\n",
      "Male   No          18-31                 7.415705\n",
      "                   >31-47                8.225255\n",
      "                   >47-62                9.120892\n",
      "                   >62                  10.127181\n",
      "       Yes         18-31                11.483000\n",
      "                   >31-47               13.780745\n",
      "                   >47-62               15.282022\n",
      "                   >62                  18.703226\n"
     ]
    }
   ],
   "source": [
    "#Creating pivot tables; Higher levels of DebtToIncomeRatio for Yes to LoanDefault\n",
    "LoanDefault_Grps = customer_data.pivot_table(values=[\"DebtToIncomeRatio\"], index=['Gender','LoanDefault','Age_Recoded'], aggfunc=np.mean)\n",
    "print (LoanDefault_Grps)"
   ]
  },
  {
   "cell_type": "markdown",
   "metadata": {},
   "source": [
    "## Coding Nominal Variable into Numeric Variable"
   ]
  },
  {
   "cell_type": "code",
   "execution_count": 49,
   "metadata": {},
   "outputs": [
    {
     "name": "stdout",
     "output_type": "stream",
     "text": [
      "Before Coding:\n",
      "No     2604\n",
      "Yes    2396\n",
      "Name: OwnsMobileDevice, dtype: int64\n",
      "\n",
      "After Coding:\n",
      "1    2604\n",
      "2    2396\n",
      "Name: OwnsMobileDevice_Coded, dtype: int64\n"
     ]
    }
   ],
   "source": [
    "#Coding LoanStatus as Y=1, N=0:\n",
    "print ('Before Coding:')\n",
    "print (pd.value_counts(customer_data['OwnsMobileDevice']))\n",
    "customer_data['OwnsMobileDevice_Coded'] = coding(customer_data['OwnsMobileDevice'], {'No':1,'Yes':2})\n",
    "print ('\\nAfter Coding:')\n",
    "print (pd.value_counts(customer_data['OwnsMobileDevice_Coded']))"
   ]
  },
  {
   "cell_type": "code",
   "execution_count": 50,
   "metadata": {},
   "outputs": [
    {
     "data": {
      "text/plain": [
       "['CustomerID',\n",
       " 'Region',\n",
       " 'TownSize',\n",
       " 'Gender',\n",
       " 'Age',\n",
       " 'EducationYears',\n",
       " 'JobCategory',\n",
       " 'UnionMember',\n",
       " 'EmploymentLength',\n",
       " 'Retired',\n",
       " 'HHIncome',\n",
       " 'DebtToIncomeRatio',\n",
       " 'CreditDebt',\n",
       " 'OtherDebt',\n",
       " 'LoanDefault',\n",
       " 'MaritalStatus',\n",
       " 'HouseholdSize',\n",
       " 'NumberPets',\n",
       " 'NumberCats',\n",
       " 'NumberDogs',\n",
       " 'NumberBirds',\n",
       " 'HomeOwner',\n",
       " 'CarsOwned',\n",
       " 'CarOwnership',\n",
       " 'CarBrand',\n",
       " 'CarValue',\n",
       " 'CommuteTime',\n",
       " 'PoliticalPartyMem',\n",
       " 'Votes',\n",
       " 'CreditCard',\n",
       " 'CardTenure',\n",
       " 'CardItemsMonthly',\n",
       " 'CardSpendMonth',\n",
       " 'ActiveLifestyle',\n",
       " 'PhoneCoTenure',\n",
       " 'VoiceLastMonth',\n",
       " 'VoiceOverTenure',\n",
       " 'EquipmentRental',\n",
       " 'EquipmentLastMonth',\n",
       " 'EquipmentOverTenure',\n",
       " 'CallingCard',\n",
       " 'WirelessData',\n",
       " 'DataLastMonth',\n",
       " 'DataOverTenure',\n",
       " 'Multiline',\n",
       " 'VM',\n",
       " 'Pager',\n",
       " 'Internet',\n",
       " 'CallerID',\n",
       " 'CallWait',\n",
       " 'CallForward',\n",
       " 'ThreeWayCalling',\n",
       " 'EBilling',\n",
       " 'TVWatchingHours',\n",
       " 'OwnsPC',\n",
       " 'OwnsMobileDevice',\n",
       " 'OwnsGameSystem',\n",
       " 'OwnsFax',\n",
       " 'NewsSubscriber',\n",
       " 'LoanDefault_Num',\n",
       " 'Gender_Num',\n",
       " 'DebtToIncomeRatio_Recoded',\n",
       " 'Age_Recoded',\n",
       " 'PhoneCoTenure_Coded',\n",
       " 'OwnsMobileDevice_Coded']"
      ]
     },
     "execution_count": 50,
     "metadata": {},
     "output_type": "execute_result"
    }
   ],
   "source": [
    "customer_data_colnames = customer_data.columns.values.tolist()\n",
    "customer_data_colnames"
   ]
  },
  {
   "cell_type": "code",
   "execution_count": 51,
   "metadata": {},
   "outputs": [
    {
     "name": "stdout",
     "output_type": "stream",
     "text": [
      "1.0    3140\n",
      "0.0    1847\n",
      "Name: HomeOwner, dtype: int64\n"
     ]
    }
   ],
   "source": [
    "print(pd.value_counts(customer_data['HomeOwner']))"
   ]
  },
  {
   "cell_type": "code",
   "execution_count": 52,
   "metadata": {},
   "outputs": [],
   "source": [
    "customer_data['HomeOwner2'] = customer_data['HomeOwner'] + 1"
   ]
  },
  {
   "cell_type": "code",
   "execution_count": 53,
   "metadata": {},
   "outputs": [
    {
     "name": "stdout",
     "output_type": "stream",
     "text": [
      "2.0    3140\n",
      "1.0    1847\n",
      "Name: HomeOwner2, dtype: int64\n"
     ]
    }
   ],
   "source": [
    "print (pd.value_counts(customer_data['HomeOwner2']))"
   ]
  },
  {
   "cell_type": "code",
   "execution_count": 54,
   "metadata": {},
   "outputs": [
    {
     "name": "stdout",
     "output_type": "stream",
     "text": [
      " $12.60      31\n",
      " $15.00      29\n",
      " $23.70      28\n",
      " $22.50      25\n",
      " $16.95      25\n",
      "             ..\n",
      " $132.45      1\n",
      " $135.15      1\n",
      " $106.05      1\n",
      " $106.20      1\n",
      " $191.10      1\n",
      "Name: VoiceLastMonth, Length: 866, dtype: int64\n"
     ]
    }
   ],
   "source": [
    "print(pd.value_counts(customer_data['VoiceLastMonth']))"
   ]
  },
  {
   "cell_type": "code",
   "execution_count": 55,
   "metadata": {},
   "outputs": [
    {
     "name": "stdout",
     "output_type": "stream",
     "text": [
      "72    251\n",
      "71    147\n",
      "70     98\n",
      "5      94\n",
      "69     94\n",
      "     ... \n",
      "22     51\n",
      "49     48\n",
      "40     47\n",
      "51     40\n",
      "0       3\n",
      "Name: PhoneCoTenure, Length: 73, dtype: int64\n"
     ]
    }
   ],
   "source": [
    "print(pd.value_counts(customer_data['PhoneCoTenure']))"
   ]
  },
  {
   "cell_type": "code",
   "execution_count": 56,
   "metadata": {},
   "outputs": [],
   "source": [
    "customer_data['VoiceLastMonth_Coded'] = customer_data['VoiceLastMonth'].apply(remove_currency_symbol).astype('float')"
   ]
  },
  {
   "cell_type": "code",
   "execution_count": 57,
   "metadata": {},
   "outputs": [
    {
     "name": "stderr",
     "output_type": "stream",
     "text": [
      "C:\\Users\\priya\\Anaconda3\\lib\\site-packages\\ipykernel_launcher.py:1: DeprecationWarning: scipy.mean is deprecated and will be removed in SciPy 2.0.0, use numpy.mean instead\n",
      "  \"\"\"Entry point for launching an IPython kernel.\n"
     ]
    },
    {
     "data": {
      "text/plain": [
       "40.41435000000001"
      ]
     },
     "execution_count": 57,
     "metadata": {},
     "output_type": "execute_result"
    }
   ],
   "source": [
    "sc.mean(customer_data['VoiceLastMonth_Coded'])"
   ]
  },
  {
   "cell_type": "markdown",
   "metadata": {},
   "source": [
    "## Customer Segmentation\n",
    "\n",
    "Since the aim here is customer retention for a telecommunication company for clustering, it is important to pick the variable combinations that will \n",
    "1. Engage the customers with longer TV hours\n",
    "2. Idenity Customer who can afford the services we provide\n",
    "\n",
    "Keeping the above points in mind we can perform clustering using the following combination of variables. \n",
    "\n",
    "### variables related to Frequency \n",
    "Retired, HHIncome, LoanDefault\n",
    "\n",
    "### variables related to recency \n",
    "Age,DataLastMonth, TVwatchingHours \n",
    "\n",
    "### variables related to revenue\n",
    "\n",
    "HHIncome, \n",
    "\n",
    "### variables related to Frequency, Recency and Revenue \n",
    "\n",
    "TVWatchingHours,Retired,HHIncome\n",
    "\n",
    "DataLastMonth,Age,DataOverTenure\n",
    "\n",
    "\n",
    "LoanDefault, VoiceLastMonth,DebtToIncomeRatio \n",
    "\n",
    "\n"
   ]
  },
  {
   "cell_type": "code",
   "execution_count": 27,
   "metadata": {},
   "outputs": [],
   "source": [
    "#Selecting the columns or variables that you want to use for clustering\n",
    "customer_data_kmeans = customer_data[['HHIncome','DebtToIncomeRatio', 'CreditDebt']]"
   ]
  },
  {
   "cell_type": "code",
   "execution_count": 28,
   "metadata": {},
   "outputs": [
    {
     "ename": "ImportError",
     "evalue": "cannot import name 'is_url' from 'pandas.io.common' (C:\\Users\\anubh\\Anaconda3\\lib\\site-packages\\pandas\\io\\common.py)",
     "output_type": "error",
     "traceback": [
      "\u001b[1;31m---------------------------------------------------------------------------\u001b[0m",
      "\u001b[1;31mImportError\u001b[0m                               Traceback (most recent call last)",
      "\u001b[1;32m~\\Anaconda3\\lib\\site-packages\\IPython\\core\\formatters.py\u001b[0m in \u001b[0;36m__call__\u001b[1;34m(self, obj)\u001b[0m\n\u001b[0;32m    343\u001b[0m             \u001b[0mmethod\u001b[0m \u001b[1;33m=\u001b[0m \u001b[0mget_real_method\u001b[0m\u001b[1;33m(\u001b[0m\u001b[0mobj\u001b[0m\u001b[1;33m,\u001b[0m \u001b[0mself\u001b[0m\u001b[1;33m.\u001b[0m\u001b[0mprint_method\u001b[0m\u001b[1;33m)\u001b[0m\u001b[1;33m\u001b[0m\u001b[1;33m\u001b[0m\u001b[0m\n\u001b[0;32m    344\u001b[0m             \u001b[1;32mif\u001b[0m \u001b[0mmethod\u001b[0m \u001b[1;32mis\u001b[0m \u001b[1;32mnot\u001b[0m \u001b[1;32mNone\u001b[0m\u001b[1;33m:\u001b[0m\u001b[1;33m\u001b[0m\u001b[1;33m\u001b[0m\u001b[0m\n\u001b[1;32m--> 345\u001b[1;33m                 \u001b[1;32mreturn\u001b[0m \u001b[0mmethod\u001b[0m\u001b[1;33m(\u001b[0m\u001b[1;33m)\u001b[0m\u001b[1;33m\u001b[0m\u001b[1;33m\u001b[0m\u001b[0m\n\u001b[0m\u001b[0;32m    346\u001b[0m             \u001b[1;32mreturn\u001b[0m \u001b[1;32mNone\u001b[0m\u001b[1;33m\u001b[0m\u001b[1;33m\u001b[0m\u001b[0m\n\u001b[0;32m    347\u001b[0m         \u001b[1;32melse\u001b[0m\u001b[1;33m:\u001b[0m\u001b[1;33m\u001b[0m\u001b[1;33m\u001b[0m\u001b[0m\n",
      "\u001b[1;32m~\\Anaconda3\\lib\\site-packages\\pandas\\core\\frame.py\u001b[0m in \u001b[0;36m_repr_html_\u001b[1;34m(self)\u001b[0m\n\u001b[0;32m    685\u001b[0m         \u001b[1;33m>>\u001b[0m\u001b[1;33m>\u001b[0m \u001b[0mDataFrame\u001b[0m\u001b[1;33m(\u001b[0m\u001b[1;33m{\u001b[0m\u001b[1;34m\"A\"\u001b[0m\u001b[1;33m:\u001b[0m \u001b[1;33m[\u001b[0m\u001b[1;36m1\u001b[0m\u001b[1;33m,\u001b[0m \u001b[1;36m2\u001b[0m\u001b[1;33m]\u001b[0m\u001b[1;33m,\u001b[0m \u001b[1;34m\"B\"\u001b[0m\u001b[1;33m:\u001b[0m \u001b[1;33m[\u001b[0m\u001b[1;36m3\u001b[0m\u001b[1;33m,\u001b[0m \u001b[1;36m4\u001b[0m\u001b[1;33m]\u001b[0m\u001b[1;33m}\u001b[0m\u001b[1;33m)\u001b[0m\u001b[1;33m.\u001b[0m\u001b[0m_is_homogeneous_type\u001b[0m\u001b[1;33m\u001b[0m\u001b[1;33m\u001b[0m\u001b[0m\n\u001b[0;32m    686\u001b[0m         \u001b[1;32mTrue\u001b[0m\u001b[1;33m\u001b[0m\u001b[1;33m\u001b[0m\u001b[0m\n\u001b[1;32m--> 687\u001b[1;33m         \u001b[1;33m>>\u001b[0m\u001b[1;33m>\u001b[0m \u001b[0mDataFrame\u001b[0m\u001b[1;33m(\u001b[0m\u001b[1;33m{\u001b[0m\u001b[1;34m\"A\"\u001b[0m\u001b[1;33m:\u001b[0m \u001b[1;33m[\u001b[0m\u001b[1;36m1\u001b[0m\u001b[1;33m,\u001b[0m \u001b[1;36m2\u001b[0m\u001b[1;33m]\u001b[0m\u001b[1;33m,\u001b[0m \u001b[1;34m\"B\"\u001b[0m\u001b[1;33m:\u001b[0m \u001b[1;33m[\u001b[0m\u001b[1;36m3.0\u001b[0m\u001b[1;33m,\u001b[0m \u001b[1;36m4.0\u001b[0m\u001b[1;33m]\u001b[0m\u001b[1;33m}\u001b[0m\u001b[1;33m)\u001b[0m\u001b[1;33m.\u001b[0m\u001b[0m_is_homogeneous_type\u001b[0m\u001b[1;33m\u001b[0m\u001b[1;33m\u001b[0m\u001b[0m\n\u001b[0m\u001b[0;32m    688\u001b[0m         \u001b[1;32mFalse\u001b[0m\u001b[1;33m\u001b[0m\u001b[1;33m\u001b[0m\u001b[0m\n\u001b[0;32m    689\u001b[0m \u001b[1;33m\u001b[0m\u001b[0m\n",
      "\u001b[1;32m~\\Anaconda3\\lib\\site-packages\\pandas\\io\\formats\\format.py\u001b[0m in \u001b[0;36mto_html\u001b[1;34m(self, classes, notebook, border)\u001b[0m\n\u001b[0;32m    835\u001b[0m             \u001b[1;32mdef\u001b[0m \u001b[0mspace_format\u001b[0m\u001b[1;33m(\u001b[0m\u001b[0mx\u001b[0m\u001b[1;33m,\u001b[0m \u001b[0my\u001b[0m\u001b[1;33m)\u001b[0m\u001b[1;33m:\u001b[0m\u001b[1;33m\u001b[0m\u001b[1;33m\u001b[0m\u001b[0m\n\u001b[0;32m    836\u001b[0m                 if (\n\u001b[1;32m--> 837\u001b[1;33m                     \u001b[0my\u001b[0m \u001b[1;32mnot\u001b[0m \u001b[1;32min\u001b[0m \u001b[0mself\u001b[0m\u001b[1;33m.\u001b[0m\u001b[0mformatters\u001b[0m\u001b[1;33m\u001b[0m\u001b[1;33m\u001b[0m\u001b[0m\n\u001b[0m\u001b[0;32m    838\u001b[0m                     \u001b[1;32mand\u001b[0m \u001b[0mneed_leadsp\u001b[0m\u001b[1;33m[\u001b[0m\u001b[0mx\u001b[0m\u001b[1;33m]\u001b[0m\u001b[1;33m\u001b[0m\u001b[1;33m\u001b[0m\u001b[0m\n\u001b[0;32m    839\u001b[0m                     \u001b[1;32mand\u001b[0m \u001b[1;32mnot\u001b[0m \u001b[0mrestrict_formatting\u001b[0m\u001b[1;33m\u001b[0m\u001b[1;33m\u001b[0m\u001b[0m\n",
      "\u001b[1;32m~\\Anaconda3\\lib\\site-packages\\pandas\\io\\formats\\html.py\u001b[0m in \u001b[0;36m<module>\u001b[1;34m\u001b[0m\n\u001b[0;32m     12\u001b[0m \u001b[1;32mfrom\u001b[0m \u001b[0mpandas\u001b[0m \u001b[1;32mimport\u001b[0m \u001b[0mMultiIndex\u001b[0m\u001b[1;33m,\u001b[0m \u001b[0moption_context\u001b[0m\u001b[1;33m\u001b[0m\u001b[1;33m\u001b[0m\u001b[0m\n\u001b[0;32m     13\u001b[0m \u001b[1;33m\u001b[0m\u001b[0m\n\u001b[1;32m---> 14\u001b[1;33m \u001b[1;32mfrom\u001b[0m \u001b[0mpandas\u001b[0m\u001b[1;33m.\u001b[0m\u001b[0mio\u001b[0m\u001b[1;33m.\u001b[0m\u001b[0mcommon\u001b[0m \u001b[1;32mimport\u001b[0m \u001b[0mis_url\u001b[0m\u001b[1;33m\u001b[0m\u001b[1;33m\u001b[0m\u001b[0m\n\u001b[0m\u001b[0;32m     15\u001b[0m \u001b[1;32mfrom\u001b[0m \u001b[0mpandas\u001b[0m\u001b[1;33m.\u001b[0m\u001b[0mio\u001b[0m\u001b[1;33m.\u001b[0m\u001b[0mformats\u001b[0m\u001b[1;33m.\u001b[0m\u001b[0mformat\u001b[0m \u001b[1;32mimport\u001b[0m \u001b[0mDataFrameFormatter\u001b[0m\u001b[1;33m,\u001b[0m \u001b[0mget_level_lengths\u001b[0m\u001b[1;33m\u001b[0m\u001b[1;33m\u001b[0m\u001b[0m\n\u001b[0;32m     16\u001b[0m \u001b[1;32mfrom\u001b[0m \u001b[0mpandas\u001b[0m\u001b[1;33m.\u001b[0m\u001b[0mio\u001b[0m\u001b[1;33m.\u001b[0m\u001b[0mformats\u001b[0m\u001b[1;33m.\u001b[0m\u001b[0mprinting\u001b[0m \u001b[1;32mimport\u001b[0m \u001b[0mpprint_thing\u001b[0m\u001b[1;33m\u001b[0m\u001b[1;33m\u001b[0m\u001b[0m\n",
      "\u001b[1;31mImportError\u001b[0m: cannot import name 'is_url' from 'pandas.io.common' (C:\\Users\\anubh\\Anaconda3\\lib\\site-packages\\pandas\\io\\common.py)"
     ]
    },
    {
     "data": {
      "text/plain": [
       "       HHIncome  DebtToIncomeRatio  CreditDebt\n",
       "0   $31,000.00                11.1    1.200909\n",
       "1   $15,000.00                18.6    1.222020\n",
       "2   $35,000.00                 9.9    0.928620\n",
       "3   $20,000.00                 5.7    0.022800\n",
       "4   $23,000.00                 1.7    0.214659"
      ]
     },
     "execution_count": 28,
     "metadata": {},
     "output_type": "execute_result"
    },
    {
     "ename": "ImportError",
     "evalue": "cannot import name 'is_url' from 'pandas.io.common' (C:\\Users\\anubh\\Anaconda3\\lib\\site-packages\\pandas\\io\\common.py)",
     "output_type": "error",
     "traceback": [
      "\u001b[1;31m---------------------------------------------------------------------------\u001b[0m",
      "\u001b[1;31mImportError\u001b[0m                               Traceback (most recent call last)",
      "\u001b[1;32m~\\Anaconda3\\lib\\site-packages\\IPython\\core\\formatters.py\u001b[0m in \u001b[0;36m__call__\u001b[1;34m(self, obj)\u001b[0m\n\u001b[0;32m    343\u001b[0m             \u001b[0mmethod\u001b[0m \u001b[1;33m=\u001b[0m \u001b[0mget_real_method\u001b[0m\u001b[1;33m(\u001b[0m\u001b[0mobj\u001b[0m\u001b[1;33m,\u001b[0m \u001b[0mself\u001b[0m\u001b[1;33m.\u001b[0m\u001b[0mprint_method\u001b[0m\u001b[1;33m)\u001b[0m\u001b[1;33m\u001b[0m\u001b[1;33m\u001b[0m\u001b[0m\n\u001b[0;32m    344\u001b[0m             \u001b[1;32mif\u001b[0m \u001b[0mmethod\u001b[0m \u001b[1;32mis\u001b[0m \u001b[1;32mnot\u001b[0m \u001b[1;32mNone\u001b[0m\u001b[1;33m:\u001b[0m\u001b[1;33m\u001b[0m\u001b[1;33m\u001b[0m\u001b[0m\n\u001b[1;32m--> 345\u001b[1;33m                 \u001b[1;32mreturn\u001b[0m \u001b[0mmethod\u001b[0m\u001b[1;33m(\u001b[0m\u001b[1;33m)\u001b[0m\u001b[1;33m\u001b[0m\u001b[1;33m\u001b[0m\u001b[0m\n\u001b[0m\u001b[0;32m    346\u001b[0m             \u001b[1;32mreturn\u001b[0m \u001b[1;32mNone\u001b[0m\u001b[1;33m\u001b[0m\u001b[1;33m\u001b[0m\u001b[0m\n\u001b[0;32m    347\u001b[0m         \u001b[1;32melse\u001b[0m\u001b[1;33m:\u001b[0m\u001b[1;33m\u001b[0m\u001b[1;33m\u001b[0m\u001b[0m\n",
      "\u001b[1;32m~\\Anaconda3\\lib\\site-packages\\pandas\\core\\frame.py\u001b[0m in \u001b[0;36m_repr_html_\u001b[1;34m(self)\u001b[0m\n\u001b[0;32m    685\u001b[0m         \u001b[1;33m>>\u001b[0m\u001b[1;33m>\u001b[0m \u001b[0mDataFrame\u001b[0m\u001b[1;33m(\u001b[0m\u001b[1;33m{\u001b[0m\u001b[1;34m\"A\"\u001b[0m\u001b[1;33m:\u001b[0m \u001b[1;33m[\u001b[0m\u001b[1;36m1\u001b[0m\u001b[1;33m,\u001b[0m \u001b[1;36m2\u001b[0m\u001b[1;33m]\u001b[0m\u001b[1;33m,\u001b[0m \u001b[1;34m\"B\"\u001b[0m\u001b[1;33m:\u001b[0m \u001b[1;33m[\u001b[0m\u001b[1;36m3\u001b[0m\u001b[1;33m,\u001b[0m \u001b[1;36m4\u001b[0m\u001b[1;33m]\u001b[0m\u001b[1;33m}\u001b[0m\u001b[1;33m)\u001b[0m\u001b[1;33m.\u001b[0m\u001b[0m_is_homogeneous_type\u001b[0m\u001b[1;33m\u001b[0m\u001b[1;33m\u001b[0m\u001b[0m\n\u001b[0;32m    686\u001b[0m         \u001b[1;32mTrue\u001b[0m\u001b[1;33m\u001b[0m\u001b[1;33m\u001b[0m\u001b[0m\n\u001b[1;32m--> 687\u001b[1;33m         \u001b[1;33m>>\u001b[0m\u001b[1;33m>\u001b[0m \u001b[0mDataFrame\u001b[0m\u001b[1;33m(\u001b[0m\u001b[1;33m{\u001b[0m\u001b[1;34m\"A\"\u001b[0m\u001b[1;33m:\u001b[0m \u001b[1;33m[\u001b[0m\u001b[1;36m1\u001b[0m\u001b[1;33m,\u001b[0m \u001b[1;36m2\u001b[0m\u001b[1;33m]\u001b[0m\u001b[1;33m,\u001b[0m \u001b[1;34m\"B\"\u001b[0m\u001b[1;33m:\u001b[0m \u001b[1;33m[\u001b[0m\u001b[1;36m3.0\u001b[0m\u001b[1;33m,\u001b[0m \u001b[1;36m4.0\u001b[0m\u001b[1;33m]\u001b[0m\u001b[1;33m}\u001b[0m\u001b[1;33m)\u001b[0m\u001b[1;33m.\u001b[0m\u001b[0m_is_homogeneous_type\u001b[0m\u001b[1;33m\u001b[0m\u001b[1;33m\u001b[0m\u001b[0m\n\u001b[0m\u001b[0;32m    688\u001b[0m         \u001b[1;32mFalse\u001b[0m\u001b[1;33m\u001b[0m\u001b[1;33m\u001b[0m\u001b[0m\n\u001b[0;32m    689\u001b[0m \u001b[1;33m\u001b[0m\u001b[0m\n",
      "\u001b[1;32m~\\Anaconda3\\lib\\site-packages\\pandas\\io\\formats\\format.py\u001b[0m in \u001b[0;36mto_html\u001b[1;34m(self, classes, notebook, border)\u001b[0m\n\u001b[0;32m    835\u001b[0m             \u001b[1;32mdef\u001b[0m \u001b[0mspace_format\u001b[0m\u001b[1;33m(\u001b[0m\u001b[0mx\u001b[0m\u001b[1;33m,\u001b[0m \u001b[0my\u001b[0m\u001b[1;33m)\u001b[0m\u001b[1;33m:\u001b[0m\u001b[1;33m\u001b[0m\u001b[1;33m\u001b[0m\u001b[0m\n\u001b[0;32m    836\u001b[0m                 if (\n\u001b[1;32m--> 837\u001b[1;33m                     \u001b[0my\u001b[0m \u001b[1;32mnot\u001b[0m \u001b[1;32min\u001b[0m \u001b[0mself\u001b[0m\u001b[1;33m.\u001b[0m\u001b[0mformatters\u001b[0m\u001b[1;33m\u001b[0m\u001b[1;33m\u001b[0m\u001b[0m\n\u001b[0m\u001b[0;32m    838\u001b[0m                     \u001b[1;32mand\u001b[0m \u001b[0mneed_leadsp\u001b[0m\u001b[1;33m[\u001b[0m\u001b[0mx\u001b[0m\u001b[1;33m]\u001b[0m\u001b[1;33m\u001b[0m\u001b[1;33m\u001b[0m\u001b[0m\n\u001b[0;32m    839\u001b[0m                     \u001b[1;32mand\u001b[0m \u001b[1;32mnot\u001b[0m \u001b[0mrestrict_formatting\u001b[0m\u001b[1;33m\u001b[0m\u001b[1;33m\u001b[0m\u001b[0m\n",
      "\u001b[1;32m~\\Anaconda3\\lib\\site-packages\\pandas\\io\\formats\\html.py\u001b[0m in \u001b[0;36m<module>\u001b[1;34m\u001b[0m\n\u001b[0;32m     12\u001b[0m \u001b[1;32mfrom\u001b[0m \u001b[0mpandas\u001b[0m \u001b[1;32mimport\u001b[0m \u001b[0mMultiIndex\u001b[0m\u001b[1;33m,\u001b[0m \u001b[0moption_context\u001b[0m\u001b[1;33m\u001b[0m\u001b[1;33m\u001b[0m\u001b[0m\n\u001b[0;32m     13\u001b[0m \u001b[1;33m\u001b[0m\u001b[0m\n\u001b[1;32m---> 14\u001b[1;33m \u001b[1;32mfrom\u001b[0m \u001b[0mpandas\u001b[0m\u001b[1;33m.\u001b[0m\u001b[0mio\u001b[0m\u001b[1;33m.\u001b[0m\u001b[0mcommon\u001b[0m \u001b[1;32mimport\u001b[0m \u001b[0mis_url\u001b[0m\u001b[1;33m\u001b[0m\u001b[1;33m\u001b[0m\u001b[0m\n\u001b[0m\u001b[0;32m     15\u001b[0m \u001b[1;32mfrom\u001b[0m \u001b[0mpandas\u001b[0m\u001b[1;33m.\u001b[0m\u001b[0mio\u001b[0m\u001b[1;33m.\u001b[0m\u001b[0mformats\u001b[0m\u001b[1;33m.\u001b[0m\u001b[0mformat\u001b[0m \u001b[1;32mimport\u001b[0m \u001b[0mDataFrameFormatter\u001b[0m\u001b[1;33m,\u001b[0m \u001b[0mget_level_lengths\u001b[0m\u001b[1;33m\u001b[0m\u001b[1;33m\u001b[0m\u001b[0m\n\u001b[0;32m     16\u001b[0m \u001b[1;32mfrom\u001b[0m \u001b[0mpandas\u001b[0m\u001b[1;33m.\u001b[0m\u001b[0mio\u001b[0m\u001b[1;33m.\u001b[0m\u001b[0mformats\u001b[0m\u001b[1;33m.\u001b[0m\u001b[0mprinting\u001b[0m \u001b[1;32mimport\u001b[0m \u001b[0mpprint_thing\u001b[0m\u001b[1;33m\u001b[0m\u001b[1;33m\u001b[0m\u001b[0m\n",
      "\u001b[1;31mImportError\u001b[0m: cannot import name 'is_url' from 'pandas.io.common' (C:\\Users\\anubh\\Anaconda3\\lib\\site-packages\\pandas\\io\\common.py)"
     ]
    },
    {
     "data": {
      "text/plain": [
       "           HHIncome  DebtToIncomeRatio  CreditDebt\n",
       "4995   $196,000.00                 8.0    7.934080\n",
       "4996    $83,000.00                15.0    3.336600\n",
       "4997   $108,000.00                10.8    3.557520\n",
       "4998   $189,000.00                10.8    5.021352\n",
       "4999    $77,000.00                 6.2    2.267650"
      ]
     },
     "execution_count": 28,
     "metadata": {},
     "output_type": "execute_result"
    }
   ],
   "source": [
    "customer_data_kmeans.head()\n",
    "customer_data_kmeans.tail()"
   ]
  },
  {
   "cell_type": "code",
   "execution_count": 60,
   "metadata": {},
   "outputs": [
    {
     "data": {
      "text/plain": [
       "(5000, 3)"
      ]
     },
     "execution_count": 60,
     "metadata": {},
     "output_type": "execute_result"
    },
    {
     "name": "stdout",
     "output_type": "stream",
     "text": [
      "<class 'pandas.core.frame.DataFrame'>\n",
      "RangeIndex: 5000 entries, 0 to 4999\n",
      "Data columns (total 3 columns):\n",
      " #   Column             Non-Null Count  Dtype  \n",
      "---  ------             --------------  -----  \n",
      " 0   HHIncome           5000 non-null   float64\n",
      " 1   DebtToIncomeRatio  5000 non-null   float64\n",
      " 2   CreditDebt         5000 non-null   float64\n",
      "dtypes: float64(3)\n",
      "memory usage: 117.3 KB\n"
     ]
    }
   ],
   "source": [
    "customer_data_kmeans.shape\n",
    "customer_data_kmeans.info()"
   ]
  },
  {
   "cell_type": "code",
   "execution_count": 61,
   "metadata": {},
   "outputs": [
    {
     "data": {
      "text/html": [
       "<div>\n",
       "<style scoped>\n",
       "    .dataframe tbody tr th:only-of-type {\n",
       "        vertical-align: middle;\n",
       "    }\n",
       "\n",
       "    .dataframe tbody tr th {\n",
       "        vertical-align: top;\n",
       "    }\n",
       "\n",
       "    .dataframe thead th {\n",
       "        text-align: right;\n",
       "    }\n",
       "</style>\n",
       "<table border=\"1\" class=\"dataframe\">\n",
       "  <thead>\n",
       "    <tr style=\"text-align: right;\">\n",
       "      <th></th>\n",
       "      <th>0</th>\n",
       "      <th>1</th>\n",
       "      <th>2</th>\n",
       "    </tr>\n",
       "  </thead>\n",
       "  <tbody>\n",
       "    <tr>\n",
       "      <th>0</th>\n",
       "      <td>-0.429091</td>\n",
       "      <td>0.179061</td>\n",
       "      <td>-0.192194</td>\n",
       "    </tr>\n",
       "    <tr>\n",
       "      <th>1</th>\n",
       "      <td>-0.718046</td>\n",
       "      <td>1.351093</td>\n",
       "      <td>-0.186013</td>\n",
       "    </tr>\n",
       "    <tr>\n",
       "      <th>2</th>\n",
       "      <td>-0.356852</td>\n",
       "      <td>-0.008464</td>\n",
       "      <td>-0.271918</td>\n",
       "    </tr>\n",
       "    <tr>\n",
       "      <th>3</th>\n",
       "      <td>-0.627747</td>\n",
       "      <td>-0.664801</td>\n",
       "      <td>-0.537135</td>\n",
       "    </tr>\n",
       "    <tr>\n",
       "      <th>4</th>\n",
       "      <td>-0.573568</td>\n",
       "      <td>-1.289885</td>\n",
       "      <td>-0.480960</td>\n",
       "    </tr>\n",
       "  </tbody>\n",
       "</table>\n",
       "</div>"
      ],
      "text/plain": [
       "          0         1         2\n",
       "0 -0.429091  0.179061 -0.192194\n",
       "1 -0.718046  1.351093 -0.186013\n",
       "2 -0.356852 -0.008464 -0.271918\n",
       "3 -0.627747 -0.664801 -0.537135\n",
       "4 -0.573568 -1.289885 -0.480960"
      ]
     },
     "execution_count": 61,
     "metadata": {},
     "output_type": "execute_result"
    }
   ],
   "source": [
    "# standardizing the data\n",
    "from sklearn.preprocessing import StandardScaler\n",
    "\n",
    "scaler = StandardScaler()\n",
    "customer_kmeans_scaled = scaler.fit_transform(customer_data_kmeans)\n",
    "\n",
    "#Assign the scaled data to a DataFrame using the index keyword arguments\n",
    "customer_kmeans_scaled_df = pd.DataFrame(customer_kmeans_scaled, index = customer_data_kmeans.index)\n",
    "customer_kmeans_scaled_df.head()"
   ]
  },
  {
   "cell_type": "code",
   "execution_count": 62,
   "metadata": {},
   "outputs": [
    {
     "data": {
      "text/html": [
       "<div>\n",
       "<style scoped>\n",
       "    .dataframe tbody tr th:only-of-type {\n",
       "        vertical-align: middle;\n",
       "    }\n",
       "\n",
       "    .dataframe tbody tr th {\n",
       "        vertical-align: top;\n",
       "    }\n",
       "\n",
       "    .dataframe thead th {\n",
       "        text-align: right;\n",
       "    }\n",
       "</style>\n",
       "<table border=\"1\" class=\"dataframe\">\n",
       "  <thead>\n",
       "    <tr style=\"text-align: right;\">\n",
       "      <th></th>\n",
       "      <th>0</th>\n",
       "      <th>1</th>\n",
       "      <th>2</th>\n",
       "    </tr>\n",
       "  </thead>\n",
       "  <tbody>\n",
       "    <tr>\n",
       "      <th>count</th>\n",
       "      <td>5.000000e+03</td>\n",
       "      <td>5.000000e+03</td>\n",
       "      <td>5.000000e+03</td>\n",
       "    </tr>\n",
       "    <tr>\n",
       "      <th>mean</th>\n",
       "      <td>7.828183e-17</td>\n",
       "      <td>-4.884981e-18</td>\n",
       "      <td>1.103118e-16</td>\n",
       "    </tr>\n",
       "    <tr>\n",
       "      <th>std</th>\n",
       "      <td>1.000100e+00</td>\n",
       "      <td>1.000100e+00</td>\n",
       "      <td>1.000100e+00</td>\n",
       "    </tr>\n",
       "    <tr>\n",
       "      <th>min</th>\n",
       "      <td>-8.264036e-01</td>\n",
       "      <td>-1.555546e+00</td>\n",
       "      <td>-5.438106e-01</td>\n",
       "    </tr>\n",
       "    <tr>\n",
       "      <th>25%</th>\n",
       "      <td>-5.555085e-01</td>\n",
       "      <td>-7.585640e-01</td>\n",
       "      <td>-4.309335e-01</td>\n",
       "    </tr>\n",
       "    <tr>\n",
       "      <th>50%</th>\n",
       "      <td>-3.026730e-01</td>\n",
       "      <td>-1.803616e-01</td>\n",
       "      <td>-2.725570e-01</td>\n",
       "    </tr>\n",
       "    <tr>\n",
       "      <th>75%</th>\n",
       "      <td>2.210577e-01</td>\n",
       "      <td>5.697388e-01</td>\n",
       "      <td>6.045996e-02</td>\n",
       "    </tr>\n",
       "    <tr>\n",
       "      <th>max</th>\n",
       "      <td>1.838909e+01</td>\n",
       "      <td>5.179731e+00</td>\n",
       "      <td>3.139181e+01</td>\n",
       "    </tr>\n",
       "  </tbody>\n",
       "</table>\n",
       "</div>"
      ],
      "text/plain": [
       "                  0             1             2\n",
       "count  5.000000e+03  5.000000e+03  5.000000e+03\n",
       "mean   7.828183e-17 -4.884981e-18  1.103118e-16\n",
       "std    1.000100e+00  1.000100e+00  1.000100e+00\n",
       "min   -8.264036e-01 -1.555546e+00 -5.438106e-01\n",
       "25%   -5.555085e-01 -7.585640e-01 -4.309335e-01\n",
       "50%   -3.026730e-01 -1.803616e-01 -2.725570e-01\n",
       "75%    2.210577e-01  5.697388e-01  6.045996e-02\n",
       "max    1.838909e+01  5.179731e+00  3.139181e+01"
      ]
     },
     "execution_count": 62,
     "metadata": {},
     "output_type": "execute_result"
    }
   ],
   "source": [
    "# statistics of scaled data\n",
    "pd.DataFrame(customer_kmeans_scaled_df).describe()"
   ]
  },
  {
   "cell_type": "code",
   "execution_count": 63,
   "metadata": {},
   "outputs": [
    {
     "data": {
      "text/plain": [
       "KMeans(algorithm='auto', copy_x=True, init='k-means++', max_iter=300,\n",
       "       n_clusters=2, n_init=10, n_jobs=-1, precompute_distances='auto',\n",
       "       random_state=None, tol=0.0001, verbose=0)"
      ]
     },
     "execution_count": 63,
     "metadata": {},
     "output_type": "execute_result"
    },
    {
     "data": {
      "text/plain": [
       "KMeans(algorithm='auto', copy_x=True, init='k-means++', max_iter=300,\n",
       "       n_clusters=3, n_init=10, n_jobs=-1, precompute_distances='auto',\n",
       "       random_state=None, tol=0.0001, verbose=0)"
      ]
     },
     "execution_count": 63,
     "metadata": {},
     "output_type": "execute_result"
    },
    {
     "data": {
      "text/plain": [
       "KMeans(algorithm='auto', copy_x=True, init='k-means++', max_iter=300,\n",
       "       n_clusters=4, n_init=10, n_jobs=-1, precompute_distances='auto',\n",
       "       random_state=None, tol=0.0001, verbose=0)"
      ]
     },
     "execution_count": 63,
     "metadata": {},
     "output_type": "execute_result"
    },
    {
     "data": {
      "text/plain": [
       "KMeans(algorithm='auto', copy_x=True, init='k-means++', max_iter=300,\n",
       "       n_clusters=5, n_init=10, n_jobs=-1, precompute_distances='auto',\n",
       "       random_state=None, tol=0.0001, verbose=0)"
      ]
     },
     "execution_count": 63,
     "metadata": {},
     "output_type": "execute_result"
    },
    {
     "data": {
      "text/plain": [
       "KMeans(algorithm='auto', copy_x=True, init='k-means++', max_iter=300,\n",
       "       n_clusters=6, n_init=10, n_jobs=-1, precompute_distances='auto',\n",
       "       random_state=None, tol=0.0001, verbose=0)"
      ]
     },
     "execution_count": 63,
     "metadata": {},
     "output_type": "execute_result"
    },
    {
     "data": {
      "text/plain": [
       "KMeans(algorithm='auto', copy_x=True, init='k-means++', max_iter=300,\n",
       "       n_clusters=7, n_init=10, n_jobs=-1, precompute_distances='auto',\n",
       "       random_state=None, tol=0.0001, verbose=0)"
      ]
     },
     "execution_count": 63,
     "metadata": {},
     "output_type": "execute_result"
    },
    {
     "data": {
      "text/plain": [
       "KMeans(algorithm='auto', copy_x=True, init='k-means++', max_iter=300,\n",
       "       n_clusters=8, n_init=10, n_jobs=-1, precompute_distances='auto',\n",
       "       random_state=None, tol=0.0001, verbose=0)"
      ]
     },
     "execution_count": 63,
     "metadata": {},
     "output_type": "execute_result"
    },
    {
     "data": {
      "text/plain": [
       "KMeans(algorithm='auto', copy_x=True, init='k-means++', max_iter=300,\n",
       "       n_clusters=9, n_init=10, n_jobs=-1, precompute_distances='auto',\n",
       "       random_state=None, tol=0.0001, verbose=0)"
      ]
     },
     "execution_count": 63,
     "metadata": {},
     "output_type": "execute_result"
    },
    {
     "data": {
      "text/plain": [
       "<Figure size 864x432 with 0 Axes>"
      ]
     },
     "execution_count": 63,
     "metadata": {},
     "output_type": "execute_result"
    },
    {
     "data": {
      "text/plain": [
       "[<matplotlib.lines.Line2D at 0x2a8436a36c8>]"
      ]
     },
     "execution_count": 63,
     "metadata": {},
     "output_type": "execute_result"
    },
    {
     "data": {
      "text/plain": [
       "Text(0.5, 0, 'Number of clusters')"
      ]
     },
     "execution_count": 63,
     "metadata": {},
     "output_type": "execute_result"
    },
    {
     "data": {
      "text/plain": [
       "Text(0, 0.5, 'Inertia')"
      ]
     },
     "execution_count": 63,
     "metadata": {},
     "output_type": "execute_result"
    },
    {
     "data": {
      "image/png": "[encoded data removed]",
      "text/plain": [
       "<Figure size 864x432 with 1 Axes>"
      ]
     },
     "metadata": {},
     "output_type": "display_data"
    }
   ],
   "source": [
    "# Plot inertia for multiple cluster solutions against the number of clusters\n",
    "# fitting multiple k-means algorithms and storing the values in an empty list\n",
    "SSE = []\n",
    "for cluster in range(2,10):\n",
    "    kmeans = KMeans(n_jobs = -1, n_clusters = cluster, init='k-means++')\n",
    "    kmeans.fit(customer_kmeans_scaled_df)\n",
    "    SSE.append(kmeans.inertia_)\n",
    "\n",
    "# converting the results into a dataframe and plotting them\n",
    "customer_df_frame = pd.DataFrame({'Cluster':range(2,10), 'SSE':SSE})\n",
    "plt.figure(figsize=(12,6))\n",
    "plt.plot(customer_df_frame['Cluster'], customer_df_frame['SSE'], marker='o')\n",
    "plt.xlabel('Number of clusters')\n",
    "plt.ylabel('Inertia')"
   ]
  },
  {
   "cell_type": "code",
   "execution_count": 64,
   "metadata": {},
   "outputs": [
    {
     "data": {
      "text/plain": [
       "KMeans(algorithm='auto', copy_x=True, init='k-means++', max_iter=300,\n",
       "       n_clusters=5, n_init=10, n_jobs=None, precompute_distances='auto',\n",
       "       random_state=None, tol=0.0001, verbose=0)"
      ]
     },
     "execution_count": 64,
     "metadata": {},
     "output_type": "execute_result"
    }
   ],
   "source": [
    "# Defining the kmeans function with initialization as k-means++; # You want to cluster into 5 segments\n",
    "kmeans_5 = KMeans(n_clusters = 5, init='k-means++')\n",
    "\n",
    "# fitting the k means algorithm on scaled data\n",
    "kmeans_5.fit(customer_kmeans_scaled_df)"
   ]
  },
  {
   "cell_type": "code",
   "execution_count": 65,
   "metadata": {},
   "outputs": [
    {
     "data": {
      "text/plain": [
       "5033.863074051401"
      ]
     },
     "execution_count": 65,
     "metadata": {},
     "output_type": "execute_result"
    }
   ],
   "source": [
    "# Inertia calculates the sum of all the points within a cluster from the centroid of that cluster.\n",
    "# Determine inertia on the fitted data\n",
    "kmeans_5.inertia_"
   ]
  },
  {
   "cell_type": "code",
   "execution_count": 66,
   "metadata": {},
   "outputs": [],
   "source": [
    "pred_clus5 = kmeans_5.predict(customer_kmeans_scaled_df)"
   ]
  },
  {
   "cell_type": "code",
   "execution_count": 67,
   "metadata": {},
   "outputs": [
    {
     "data": {
      "text/plain": [
       "0    2986\n",
       "2    1332\n",
       "4     562\n",
       "1     118\n",
       "3       2\n",
       "Name: cluster, dtype: int64"
      ]
     },
     "execution_count": 67,
     "metadata": {},
     "output_type": "execute_result"
    }
   ],
   "source": [
    "cust_df_frame_2 = pd.DataFrame(customer_kmeans_scaled_df)\n",
    "cust_df_frame_2['cluster'] = pred_clus5\n",
    "cust_df_frame_2['cluster'].value_counts()"
   ]
  },
  {
   "cell_type": "code",
   "execution_count": 68,
   "metadata": {},
   "outputs": [
    {
     "data": {
      "text/html": [
       "<div>\n",
       "<style scoped>\n",
       "    .dataframe tbody tr th:only-of-type {\n",
       "        vertical-align: middle;\n",
       "    }\n",
       "\n",
       "    .dataframe tbody tr th {\n",
       "        vertical-align: top;\n",
       "    }\n",
       "\n",
       "    .dataframe thead th {\n",
       "        text-align: right;\n",
       "    }\n",
       "</style>\n",
       "<table border=\"1\" class=\"dataframe\">\n",
       "  <thead>\n",
       "    <tr style=\"text-align: right;\">\n",
       "      <th></th>\n",
       "      <th>0</th>\n",
       "      <th>1</th>\n",
       "      <th>2</th>\n",
       "      <th>cluster</th>\n",
       "    </tr>\n",
       "  </thead>\n",
       "  <tbody>\n",
       "    <tr>\n",
       "      <th>0</th>\n",
       "      <td>-0.429091</td>\n",
       "      <td>0.179061</td>\n",
       "      <td>-0.192194</td>\n",
       "      <td>0</td>\n",
       "    </tr>\n",
       "    <tr>\n",
       "      <th>1</th>\n",
       "      <td>-0.718046</td>\n",
       "      <td>1.351093</td>\n",
       "      <td>-0.186013</td>\n",
       "      <td>2</td>\n",
       "    </tr>\n",
       "    <tr>\n",
       "      <th>2</th>\n",
       "      <td>-0.356852</td>\n",
       "      <td>-0.008464</td>\n",
       "      <td>-0.271918</td>\n",
       "      <td>0</td>\n",
       "    </tr>\n",
       "    <tr>\n",
       "      <th>3</th>\n",
       "      <td>-0.627747</td>\n",
       "      <td>-0.664801</td>\n",
       "      <td>-0.537135</td>\n",
       "      <td>0</td>\n",
       "    </tr>\n",
       "    <tr>\n",
       "      <th>4</th>\n",
       "      <td>-0.573568</td>\n",
       "      <td>-1.289885</td>\n",
       "      <td>-0.480960</td>\n",
       "      <td>0</td>\n",
       "    </tr>\n",
       "  </tbody>\n",
       "</table>\n",
       "</div>"
      ],
      "text/plain": [
       "          0         1         2  cluster\n",
       "0 -0.429091  0.179061 -0.192194        0\n",
       "1 -0.718046  1.351093 -0.186013        2\n",
       "2 -0.356852 -0.008464 -0.271918        0\n",
       "3 -0.627747 -0.664801 -0.537135        0\n",
       "4 -0.573568 -1.289885 -0.480960        0"
      ]
     },
     "execution_count": 68,
     "metadata": {},
     "output_type": "execute_result"
    }
   ],
   "source": [
    "# Using head shows the data structure of the resulting data frame\n",
    "# There are 10 variables used for clustering and their scaled values are shown\n",
    "# The last column is the cluster solution and shows the cluster to which obsevation belongs\n",
    "# There are five segments starting from 0 to 4\n",
    "cust_df_frame_2.head(5)"
   ]
  },
  {
   "cell_type": "code",
   "execution_count": 69,
   "metadata": {},
   "outputs": [
    {
     "name": "stdout",
     "output_type": "stream",
     "text": [
      "[[-0.31380988 -0.53598654 -0.32444304]\n",
      " [ 2.95480316  1.22846042  3.92473179]\n",
      " [-0.22097056  1.23162589  0.16836559]\n",
      " [17.68476622  1.62456747 25.30439796]\n",
      " [ 1.51095649 -0.3346548   0.41198085]]\n"
     ]
    }
   ],
   "source": [
    "# Get the cluster centroids\n",
    "print(kmeans_5.cluster_centers_)"
   ]
  },
  {
   "cell_type": "code",
   "execution_count": 70,
   "metadata": {},
   "outputs": [
    {
     "data": {
      "text/html": [
       "<div>\n",
       "<style scoped>\n",
       "    .dataframe tbody tr th:only-of-type {\n",
       "        vertical-align: middle;\n",
       "    }\n",
       "\n",
       "    .dataframe tbody tr th {\n",
       "        vertical-align: top;\n",
       "    }\n",
       "\n",
       "    .dataframe thead th {\n",
       "        text-align: right;\n",
       "    }\n",
       "</style>\n",
       "<table border=\"1\" class=\"dataframe\">\n",
       "  <thead>\n",
       "    <tr style=\"text-align: right;\">\n",
       "      <th></th>\n",
       "      <th>0</th>\n",
       "      <th>1</th>\n",
       "      <th>2</th>\n",
       "      <th>cluster</th>\n",
       "      <th>cluster5_2</th>\n",
       "    </tr>\n",
       "  </thead>\n",
       "  <tbody>\n",
       "    <tr>\n",
       "      <th>0</th>\n",
       "      <td>-0.429091</td>\n",
       "      <td>0.179061</td>\n",
       "      <td>-0.192194</td>\n",
       "      <td>0</td>\n",
       "      <td>1</td>\n",
       "    </tr>\n",
       "    <tr>\n",
       "      <th>1</th>\n",
       "      <td>-0.718046</td>\n",
       "      <td>1.351093</td>\n",
       "      <td>-0.186013</td>\n",
       "      <td>2</td>\n",
       "      <td>3</td>\n",
       "    </tr>\n",
       "    <tr>\n",
       "      <th>2</th>\n",
       "      <td>-0.356852</td>\n",
       "      <td>-0.008464</td>\n",
       "      <td>-0.271918</td>\n",
       "      <td>0</td>\n",
       "      <td>1</td>\n",
       "    </tr>\n",
       "    <tr>\n",
       "      <th>3</th>\n",
       "      <td>-0.627747</td>\n",
       "      <td>-0.664801</td>\n",
       "      <td>-0.537135</td>\n",
       "      <td>0</td>\n",
       "      <td>1</td>\n",
       "    </tr>\n",
       "    <tr>\n",
       "      <th>4</th>\n",
       "      <td>-0.573568</td>\n",
       "      <td>-1.289885</td>\n",
       "      <td>-0.480960</td>\n",
       "      <td>0</td>\n",
       "      <td>1</td>\n",
       "    </tr>\n",
       "  </tbody>\n",
       "</table>\n",
       "</div>"
      ],
      "text/plain": [
       "          0         1         2  cluster  cluster5_2\n",
       "0 -0.429091  0.179061 -0.192194        0           1\n",
       "1 -0.718046  1.351093 -0.186013        2           3\n",
       "2 -0.356852 -0.008464 -0.271918        0           1\n",
       "3 -0.627747 -0.664801 -0.537135        0           1\n",
       "4 -0.573568 -1.289885 -0.480960        0           1"
      ]
     },
     "execution_count": 70,
     "metadata": {},
     "output_type": "execute_result"
    }
   ],
   "source": [
    "# Create a new data column cluster5_2 to incorporate a cluster indicator variable running from 1 to 5\n",
    "cust_df_frame_2['cluster5_2'] = cust_df_frame_2['cluster'] + 1\n",
    "cust_df_frame_2.head(5)"
   ]
  },
  {
   "cell_type": "code",
   "execution_count": 71,
   "metadata": {},
   "outputs": [
    {
     "name": "stdout",
     "output_type": "stream",
     "text": [
      "[0 2 0 ... 4 4 0]\n"
     ]
    }
   ],
   "source": [
    "# Get the cluster labels\n",
    "print(kmeans_5.labels_)"
   ]
  },
  {
   "cell_type": "code",
   "execution_count": 72,
   "metadata": {},
   "outputs": [
    {
     "data": {
      "text/plain": [
       "1    2986\n",
       "3    1332\n",
       "5     562\n",
       "2     118\n",
       "4       2\n",
       "Name: cluster5_2, dtype: int64"
      ]
     },
     "execution_count": 72,
     "metadata": {},
     "output_type": "execute_result"
    }
   ],
   "source": [
    "cust_df_frame_2['cluster5_2'].value_counts()"
   ]
  },
  {
   "cell_type": "code",
   "execution_count": 73,
   "metadata": {},
   "outputs": [],
   "source": [
    "# Plotting the cluster centers and the data points on a 2D plane; Need to think through this\n",
    "#plt.scatter(customer_kmeans_scaled_df[:, 0], customer_kmeans_scaled_df[:, -1])"
   ]
  },
  {
   "cell_type": "code",
   "execution_count": 74,
   "metadata": {},
   "outputs": [
    {
     "data": {
      "text/plain": [
       "<matplotlib.collections.PathCollection at 0x2a845922f08>"
      ]
     },
     "execution_count": 74,
     "metadata": {},
     "output_type": "execute_result"
    },
    {
     "data": {
      "image/png": "[encoded data removed]",
      "text/plain": [
       "<Figure size 432x288 with 1 Axes>"
      ]
     },
     "metadata": {},
     "output_type": "display_data"
    }
   ],
   "source": [
    "plt.scatter(kmeans_5.cluster_centers_[:, 0], kmeans_5.cluster_centers_[:, 1], c='red', marker='x')"
   ]
  },
  {
   "cell_type": "code",
   "execution_count": 75,
   "metadata": {},
   "outputs": [
    {
     "name": "stdout",
     "output_type": "stream",
     "text": [
      "0.18602205775679964\n"
     ]
    }
   ],
   "source": [
    "# Calculate silhouette_score\n",
    "from sklearn.metrics import silhouette_score\n",
    "print(silhouette_score(cust_df_frame_2, kmeans.labels_))"
   ]
  },
  {
   "cell_type": "code",
   "execution_count": 76,
   "metadata": {},
   "outputs": [
    {
     "name": "stderr",
     "output_type": "stream",
     "text": [
      "C:\\Users\\priya\\Anaconda3\\lib\\site-packages\\yellowbrick\\utils\\kneed.py:155: YellowbrickWarning: No 'knee' or 'elbow point' detected This could be due to bad clustering, no actual clusters being formed etc.\n",
      "  warnings.warn(warning_message, YellowbrickWarning)\n",
      "C:\\Users\\priya\\Anaconda3\\lib\\site-packages\\yellowbrick\\cluster\\elbow.py:343: YellowbrickWarning: No 'knee' or 'elbow' point detected, pass `locate_elbow=False` to remove the warning\n",
      "  warnings.warn(warning_message, YellowbrickWarning)\n",
      "C:\\Users\\priya\\Anaconda3\\lib\\site-packages\\sklearn\\base.py:197: FutureWarning: From version 0.24, get_params will raise an AttributeError if a parameter cannot be retrieved as an instance attribute. Previously it would return None.\n",
      "  FutureWarning)\n"
     ]
    },
    {
     "data": {
      "text/plain": [
       "KElbowVisualizer(ax=<AxesSubplot:>,\n",
       "                 estimator=KMeans(algorithm='auto', copy_x=True,\n",
       "                                  init='k-means++', max_iter=300, n_clusters=5,\n",
       "                                  n_init=10, n_jobs=None,\n",
       "                                  precompute_distances='auto', random_state=0,\n",
       "                                  tol=0.0001, verbose=0),\n",
       "                 k=None, locate_elbow=True, metric='silhouette', timings=False)"
      ]
     },
     "execution_count": 76,
     "metadata": {},
     "output_type": "execute_result"
    },
    {
     "data": {
      "image/png": "[encoded data removed]",
      "text/plain": [
       "<Figure size 576x396 with 1 Axes>"
      ]
     },
     "metadata": {},
     "output_type": "display_data"
    },
    {
     "data": {
      "text/plain": [
       "<AxesSubplot:title={'center':'Silhouette Score Elbow for KMeans Clustering'}, xlabel='k', ylabel='silhouette score'>"
      ]
     },
     "execution_count": 76,
     "metadata": {},
     "output_type": "execute_result"
    }
   ],
   "source": [
    "#install yellowbrick \n",
    "# Import the KElbowVisualizer method \n",
    "from yellowbrick.cluster import KElbowVisualizer\n",
    "from sklearn.cluster import KMeans\n",
    "from sklearn.datasets import make_blobs\n",
    "\n",
    "# Instantiate a scikit-learn K-Means model\n",
    "model = KMeans(random_state=0)\n",
    "\n",
    "# Instantiate the KElbowVisualizer with the number of clusters and the metric \n",
    "visualizer = KElbowVisualizer(model, k=(2,6), metric='silhouette', timings=False)\n",
    "\n",
    "# Fit the data and visualize\n",
    "visualizer.fit(cust_df_frame_2)    \n",
    "visualizer.poof()  "
   ]
  },
  {
   "cell_type": "code",
   "execution_count": 77,
   "metadata": {},
   "outputs": [
    {
     "data": {
      "text/plain": [
       "(5000, 72)"
      ]
     },
     "execution_count": 77,
     "metadata": {},
     "output_type": "execute_result"
    }
   ],
   "source": [
    "# Joining the clusters from kmeans to the original data used for clustering\n",
    "cust_df_clus5_ALL = pd.DataFrame(pd.concat([cust_df_frame_2, customer_data], axis = 1))\n",
    "cust_df_clus5_ALL.shape"
   ]
  },
  {
   "cell_type": "code",
   "execution_count": 78,
   "metadata": {},
   "outputs": [
    {
     "data": {
      "text/plain": [
       "<bound method DataFrame.info of              0         1         2  cluster  cluster5_2       CustomerID  \\\n",
       "0    -0.429091  0.179061 -0.192194        0           1  3964-QJWTRG-NPN   \n",
       "1    -0.718046  1.351093 -0.186013        2           3  0648-AIPJSP-UVM   \n",
       "2    -0.356852 -0.008464 -0.271918        0           1  5195-TLUDJE-HVO   \n",
       "3    -0.627747 -0.664801 -0.537135        0           1  4459-VLPQUH-3OL   \n",
       "4    -0.573568 -1.289885 -0.480960        0           1  8158-SMTQFB-CNO   \n",
       "...        ...       ...       ...      ...         ...              ...   \n",
       "4995  2.550756 -0.305378  1.779227        4           5  3675-GZFGOT-QJN   \n",
       "4996  0.510013  0.788518  0.433120        2           3  4699-LEPCCE-3UD   \n",
       "4997  0.961504  0.132180  0.497804        4           5  8485-LLUICH-CVV   \n",
       "4998  2.424338  0.132180  0.926403        4           5  9325-URAAUT-7FA   \n",
       "4999  0.401654 -0.586666  0.120140        0           1  8027-EXDZBF-OGR   \n",
       "\n",
       "      Region TownSize  Gender  Age  ...  OwnsFax NewsSubscriber  \\\n",
       "0          1        2  Female   20  ...       No             No   \n",
       "1          5        5    Male   22  ...      Yes            Yes   \n",
       "2          3        4  Female   67  ...       No            Yes   \n",
       "3          4        3    Male   23  ...       No            Yes   \n",
       "4          2        2    Male   26  ...       No             No   \n",
       "...      ...      ...     ...  ...  ...      ...            ...   \n",
       "4995       2        2    Male   68  ...       No            Yes   \n",
       "4996       3        3    Male   51  ...       No             No   \n",
       "4997       4        5    Male   75  ...       No            Yes   \n",
       "4998       1        1    Male   47  ...       No            Yes   \n",
       "4999       3        5  Female   41  ...       No             No   \n",
       "\n",
       "     LoanDefault_Num  Gender_Num DebtToIncomeRatio_Recoded  Age_Recoded  \\\n",
       "0                  1         2.0                         3        18-31   \n",
       "1                  1         1.0                         4        18-31   \n",
       "2                  2         2.0                         2          >62   \n",
       "3                  1         1.0                         2        18-31   \n",
       "4                  2         1.0                         1        18-31   \n",
       "...              ...         ...                       ...          ...   \n",
       "4995               2         1.0                         2          >62   \n",
       "4996               1         1.0                         3       >47-62   \n",
       "4997               2         1.0                         3          >62   \n",
       "4998               1         1.0                         3       >31-47   \n",
       "4999               2         2.0                         2       >31-47   \n",
       "\n",
       "      PhoneCoTenure_Coded  OwnsMobileDevice_Coded  HomeOwner2  \\\n",
       "0                    0-18                       2         1.0   \n",
       "1                  >38-59                       2         2.0   \n",
       "2                     >59                       1         2.0   \n",
       "3                  >18-38                       2         2.0   \n",
       "4                  >18-38                       1         1.0   \n",
       "...                   ...                     ...         ...   \n",
       "4995                  >59                       1         2.0   \n",
       "4996               >18-38                       1         2.0   \n",
       "4997                  >59                       1         2.0   \n",
       "4998               >18-38                       2         2.0   \n",
       "4999               >18-38                       1         2.0   \n",
       "\n",
       "     VoiceLastMonth_Coded  \n",
       "0                   19.50  \n",
       "1                   26.70  \n",
       "2                   85.20  \n",
       "3                   18.00  \n",
       "4                    9.15  \n",
       "...                   ...  \n",
       "4995               102.30  \n",
       "4996                31.20  \n",
       "4997                88.20  \n",
       "4998                23.85  \n",
       "4999                24.15  \n",
       "\n",
       "[5000 rows x 72 columns]>"
      ]
     },
     "execution_count": 78,
     "metadata": {},
     "output_type": "execute_result"
    }
   ],
   "source": [
    "cust_df_clus5_ALL.info"
   ]
  },
  {
   "cell_type": "code",
   "execution_count": 79,
   "metadata": {},
   "outputs": [
    {
     "data": {
      "text/html": [
       "<div>\n",
       "<style scoped>\n",
       "    .dataframe tbody tr th:only-of-type {\n",
       "        vertical-align: middle;\n",
       "    }\n",
       "\n",
       "    .dataframe tbody tr th {\n",
       "        vertical-align: top;\n",
       "    }\n",
       "\n",
       "    .dataframe thead th {\n",
       "        text-align: right;\n",
       "    }\n",
       "</style>\n",
       "<table border=\"1\" class=\"dataframe\">\n",
       "  <thead>\n",
       "    <tr style=\"text-align: right;\">\n",
       "      <th>LoanDefault</th>\n",
       "      <th>No</th>\n",
       "      <th>Yes</th>\n",
       "      <th>All</th>\n",
       "    </tr>\n",
       "    <tr>\n",
       "      <th>cluster5_2</th>\n",
       "      <th></th>\n",
       "      <th></th>\n",
       "      <th></th>\n",
       "    </tr>\n",
       "  </thead>\n",
       "  <tbody>\n",
       "    <tr>\n",
       "      <th>1</th>\n",
       "      <td>0.637503</td>\n",
       "      <td>0.465414</td>\n",
       "      <td>0.5972</td>\n",
       "    </tr>\n",
       "    <tr>\n",
       "      <th>2</th>\n",
       "      <td>0.009141</td>\n",
       "      <td>0.070880</td>\n",
       "      <td>0.0236</td>\n",
       "    </tr>\n",
       "    <tr>\n",
       "      <th>3</th>\n",
       "      <td>0.223035</td>\n",
       "      <td>0.408198</td>\n",
       "      <td>0.2664</td>\n",
       "    </tr>\n",
       "    <tr>\n",
       "      <th>4</th>\n",
       "      <td>0.000000</td>\n",
       "      <td>0.001708</td>\n",
       "      <td>0.0004</td>\n",
       "    </tr>\n",
       "    <tr>\n",
       "      <th>5</th>\n",
       "      <td>0.130321</td>\n",
       "      <td>0.053800</td>\n",
       "      <td>0.1124</td>\n",
       "    </tr>\n",
       "  </tbody>\n",
       "</table>\n",
       "</div>"
      ],
      "text/plain": [
       "LoanDefault        No       Yes     All\n",
       "cluster5_2                             \n",
       "1            0.637503  0.465414  0.5972\n",
       "2            0.009141  0.070880  0.0236\n",
       "3            0.223035  0.408198  0.2664\n",
       "4            0.000000  0.001708  0.0004\n",
       "5            0.130321  0.053800  0.1124"
      ]
     },
     "execution_count": 79,
     "metadata": {},
     "output_type": "execute_result"
    }
   ],
   "source": [
    "# Using pandas crosstabs to create a cross tab of clusters by loan defaults\n",
    "pd.crosstab(cust_df_clus5_ALL['cluster5_2'],cust_df_clus5_ALL['LoanDefault'],margins=True, normalize = 'columns')"
   ]
  },
  {
   "cell_type": "code",
   "execution_count": 80,
   "metadata": {},
   "outputs": [
    {
     "name": "stdout",
     "output_type": "stream",
     "text": [
      "                                    DebtToIncomeRatio\n",
      "cluster5_2 LoanDefault Age_Recoded                   \n",
      "1          No          18-31                 6.078302\n",
      "                       >31-47                6.164151\n",
      "                       >47-62                6.173774\n",
      "                       >62                   6.710838\n",
      "           Yes         18-31                 7.298945\n",
      "                       >31-47                7.886614\n",
      "                       >47-62                8.371429\n",
      "                       >62                   9.009091\n",
      "2          No          >31-47               13.700000\n",
      "                       >47-62               13.126667\n",
      "                       >62                  16.326316\n",
      "           Yes         18-31                20.633333\n",
      "                       >31-47               19.605882\n",
      "                       >47-62               18.115556\n",
      "                       >62                  20.611111\n",
      "3          No          18-31                16.239785\n",
      "                       >31-47               16.230288\n",
      "                       >47-62               17.315226\n",
      "                       >62                  17.474194\n",
      "           Yes         18-31                19.149351\n",
      "                       >31-47               18.895455\n",
      "                       >47-62               20.581538\n",
      "                       >62                  20.532143\n",
      "4          Yes         >47-62               20.350000\n",
      "5          No          18-31                 4.955556\n",
      "                       >31-47                7.702020\n",
      "                       >47-62                7.501702\n",
      "                       >62                   7.269231\n",
      "           Yes         18-31                10.075000\n",
      "                       >31-47                9.314815\n",
      "                       >47-62               12.750000\n",
      "                       >62                  10.725000\n"
     ]
    }
   ],
   "source": [
    "# Using pandas pivot tables to create a cross tab of DebtToIncomeRatio by clusters by loan defaults by Age\n",
    "\n",
    "Cluster_Grps = cust_df_clus5_ALL.pivot_table(values=[\"DebtToIncomeRatio\"], index=['cluster5_2','LoanDefault','Age_Recoded'], aggfunc=np.mean)\n",
    "print (Cluster_Grps)"
   ]
  },
  {
   "cell_type": "code",
   "execution_count": 81,
   "metadata": {},
   "outputs": [
    {
     "data": {
      "text/html": [
       "<div>\n",
       "<style scoped>\n",
       "    .dataframe tbody tr th:only-of-type {\n",
       "        vertical-align: middle;\n",
       "    }\n",
       "\n",
       "    .dataframe tbody tr th {\n",
       "        vertical-align: top;\n",
       "    }\n",
       "\n",
       "    .dataframe thead th {\n",
       "        text-align: right;\n",
       "    }\n",
       "</style>\n",
       "<table border=\"1\" class=\"dataframe\">\n",
       "  <thead>\n",
       "    <tr style=\"text-align: right;\">\n",
       "      <th></th>\n",
       "      <th>cluster5_2</th>\n",
       "    </tr>\n",
       "  </thead>\n",
       "  <tbody>\n",
       "    <tr>\n",
       "      <th>0</th>\n",
       "      <td>1</td>\n",
       "    </tr>\n",
       "    <tr>\n",
       "      <th>1</th>\n",
       "      <td>3</td>\n",
       "    </tr>\n",
       "    <tr>\n",
       "      <th>2</th>\n",
       "      <td>1</td>\n",
       "    </tr>\n",
       "    <tr>\n",
       "      <th>3</th>\n",
       "      <td>1</td>\n",
       "    </tr>\n",
       "    <tr>\n",
       "      <th>4</th>\n",
       "      <td>1</td>\n",
       "    </tr>\n",
       "  </tbody>\n",
       "</table>\n",
       "</div>"
      ],
      "text/plain": [
       "   cluster5_2\n",
       "0           1\n",
       "1           3\n",
       "2           1\n",
       "3           1\n",
       "4           1"
      ]
     },
     "execution_count": 81,
     "metadata": {},
     "output_type": "execute_result"
    }
   ],
   "source": [
    "#Extracting the cluster data from the original cluster solution and saving it as a DataFrame with an index\n",
    "cust_df_kmeans_cluster5_2 = pd.DataFrame(cust_df_frame_2['cluster5_2'])\n",
    "cust_df_kmeans_cluster5_2.head()"
   ]
  },
  {
   "cell_type": "code",
   "execution_count": 82,
   "metadata": {},
   "outputs": [
    {
     "data": {
      "text/plain": [
       "(5000, 1)"
      ]
     },
     "execution_count": 82,
     "metadata": {},
     "output_type": "execute_result"
    }
   ],
   "source": [
    "# Checking on the size and shape of the DataFrame\n",
    "cust_df_kmeans_cluster5_2.shape"
   ]
  },
  {
   "cell_type": "code",
   "execution_count": 83,
   "metadata": {},
   "outputs": [
    {
     "data": {
      "text/html": [
       "<div>\n",
       "<style scoped>\n",
       "    .dataframe tbody tr th:only-of-type {\n",
       "        vertical-align: middle;\n",
       "    }\n",
       "\n",
       "    .dataframe tbody tr th {\n",
       "        vertical-align: top;\n",
       "    }\n",
       "\n",
       "    .dataframe thead th {\n",
       "        text-align: right;\n",
       "    }\n",
       "</style>\n",
       "<table border=\"1\" class=\"dataframe\">\n",
       "  <thead>\n",
       "    <tr style=\"text-align: right;\">\n",
       "      <th></th>\n",
       "      <th>HHIncome</th>\n",
       "      <th>DebtToIncomeRatio</th>\n",
       "      <th>CreditDebt</th>\n",
       "    </tr>\n",
       "  </thead>\n",
       "  <tbody>\n",
       "    <tr>\n",
       "      <th>0</th>\n",
       "      <td>31000.0</td>\n",
       "      <td>11.1</td>\n",
       "      <td>1.200909</td>\n",
       "    </tr>\n",
       "    <tr>\n",
       "      <th>1</th>\n",
       "      <td>15000.0</td>\n",
       "      <td>18.6</td>\n",
       "      <td>1.222020</td>\n",
       "    </tr>\n",
       "    <tr>\n",
       "      <th>2</th>\n",
       "      <td>35000.0</td>\n",
       "      <td>9.9</td>\n",
       "      <td>0.928620</td>\n",
       "    </tr>\n",
       "    <tr>\n",
       "      <th>3</th>\n",
       "      <td>20000.0</td>\n",
       "      <td>5.7</td>\n",
       "      <td>0.022800</td>\n",
       "    </tr>\n",
       "    <tr>\n",
       "      <th>4</th>\n",
       "      <td>23000.0</td>\n",
       "      <td>1.7</td>\n",
       "      <td>0.214659</td>\n",
       "    </tr>\n",
       "  </tbody>\n",
       "</table>\n",
       "</div>"
      ],
      "text/plain": [
       "   HHIncome  DebtToIncomeRatio  CreditDebt\n",
       "0   31000.0               11.1    1.200909\n",
       "1   15000.0               18.6    1.222020\n",
       "2   35000.0                9.9    0.928620\n",
       "3   20000.0                5.7    0.022800\n",
       "4   23000.0                1.7    0.214659"
      ]
     },
     "execution_count": 83,
     "metadata": {},
     "output_type": "execute_result"
    }
   ],
   "source": [
    "customer_data_kmeans.head(5)"
   ]
  },
  {
   "cell_type": "code",
   "execution_count": 84,
   "metadata": {},
   "outputs": [],
   "source": [
    "# Joining the clusters from kmeans to the original data used for clustering\n",
    "cust_df_clus5_rf = pd.DataFrame(pd.concat([cust_df_kmeans_cluster5_2, customer_data_kmeans], axis = 1))"
   ]
  },
  {
   "cell_type": "code",
   "execution_count": 85,
   "metadata": {},
   "outputs": [
    {
     "data": {
      "text/html": [
       "<div>\n",
       "<style scoped>\n",
       "    .dataframe tbody tr th:only-of-type {\n",
       "        vertical-align: middle;\n",
       "    }\n",
       "\n",
       "    .dataframe tbody tr th {\n",
       "        vertical-align: top;\n",
       "    }\n",
       "\n",
       "    .dataframe thead th {\n",
       "        text-align: right;\n",
       "    }\n",
       "</style>\n",
       "<table border=\"1\" class=\"dataframe\">\n",
       "  <thead>\n",
       "    <tr style=\"text-align: right;\">\n",
       "      <th></th>\n",
       "      <th>cluster5_2</th>\n",
       "      <th>HHIncome</th>\n",
       "      <th>DebtToIncomeRatio</th>\n",
       "      <th>CreditDebt</th>\n",
       "    </tr>\n",
       "  </thead>\n",
       "  <tbody>\n",
       "    <tr>\n",
       "      <th>0</th>\n",
       "      <td>1</td>\n",
       "      <td>31000.0</td>\n",
       "      <td>11.1</td>\n",
       "      <td>1.200909</td>\n",
       "    </tr>\n",
       "    <tr>\n",
       "      <th>1</th>\n",
       "      <td>3</td>\n",
       "      <td>15000.0</td>\n",
       "      <td>18.6</td>\n",
       "      <td>1.222020</td>\n",
       "    </tr>\n",
       "    <tr>\n",
       "      <th>2</th>\n",
       "      <td>1</td>\n",
       "      <td>35000.0</td>\n",
       "      <td>9.9</td>\n",
       "      <td>0.928620</td>\n",
       "    </tr>\n",
       "    <tr>\n",
       "      <th>3</th>\n",
       "      <td>1</td>\n",
       "      <td>20000.0</td>\n",
       "      <td>5.7</td>\n",
       "      <td>0.022800</td>\n",
       "    </tr>\n",
       "    <tr>\n",
       "      <th>4</th>\n",
       "      <td>1</td>\n",
       "      <td>23000.0</td>\n",
       "      <td>1.7</td>\n",
       "      <td>0.214659</td>\n",
       "    </tr>\n",
       "  </tbody>\n",
       "</table>\n",
       "</div>"
      ],
      "text/plain": [
       "   cluster5_2  HHIncome  DebtToIncomeRatio  CreditDebt\n",
       "0           1   31000.0               11.1    1.200909\n",
       "1           3   15000.0               18.6    1.222020\n",
       "2           1   35000.0                9.9    0.928620\n",
       "3           1   20000.0                5.7    0.022800\n",
       "4           1   23000.0                1.7    0.214659"
      ]
     },
     "execution_count": 85,
     "metadata": {},
     "output_type": "execute_result"
    }
   ],
   "source": [
    "cust_df_clus5_rf.head()"
   ]
  },
  {
   "cell_type": "code",
   "execution_count": 86,
   "metadata": {},
   "outputs": [
    {
     "data": {
      "text/plain": [
       "(5000, 4)"
      ]
     },
     "execution_count": 86,
     "metadata": {},
     "output_type": "execute_result"
    }
   ],
   "source": [
    "cust_df_clus5_rf.shape"
   ]
  },
  {
   "cell_type": "code",
   "execution_count": 87,
   "metadata": {},
   "outputs": [
    {
     "data": {
      "text/plain": [
       "1    2986\n",
       "3    1332\n",
       "5     562\n",
       "2     118\n",
       "4       2\n",
       "Name: cluster5_2, dtype: int64"
      ]
     },
     "execution_count": 87,
     "metadata": {},
     "output_type": "execute_result"
    }
   ],
   "source": [
    "# Check on the cluster distribution after extraction and concatenating\n",
    "cust_df_clus5_rf['cluster5_2'].value_counts()"
   ]
  },
  {
   "cell_type": "markdown",
   "metadata": {},
   "source": [
    "TVWatchingHours,Retired,HHIncome\n",
    "\n",
    "DataLastMonth,Age,DataOverTenure\n",
    "\n",
    "\n",
    "LoanDefault, VoiceLastMonth,DebtToIncomeRatio "
   ]
  },
  {
   "cell_type": "code",
   "execution_count": 109,
   "metadata": {},
   "outputs": [
    {
     "data": {
      "text/html": [
       "<div>\n",
       "<style scoped>\n",
       "    .dataframe tbody tr th:only-of-type {\n",
       "        vertical-align: middle;\n",
       "    }\n",
       "\n",
       "    .dataframe tbody tr th {\n",
       "        vertical-align: top;\n",
       "    }\n",
       "\n",
       "    .dataframe thead th {\n",
       "        text-align: right;\n",
       "    }\n",
       "</style>\n",
       "<table border=\"1\" class=\"dataframe\">\n",
       "  <thead>\n",
       "    <tr style=\"text-align: right;\">\n",
       "      <th></th>\n",
       "      <th>TVWatchingHours</th>\n",
       "      <th>VoiceLastMonth_Coded</th>\n",
       "      <th>HHIncome</th>\n",
       "    </tr>\n",
       "  </thead>\n",
       "  <tbody>\n",
       "    <tr>\n",
       "      <th>0</th>\n",
       "      <td>13</td>\n",
       "      <td>19.50</td>\n",
       "      <td>31000.0</td>\n",
       "    </tr>\n",
       "    <tr>\n",
       "      <th>1</th>\n",
       "      <td>18</td>\n",
       "      <td>26.70</td>\n",
       "      <td>15000.0</td>\n",
       "    </tr>\n",
       "    <tr>\n",
       "      <th>2</th>\n",
       "      <td>21</td>\n",
       "      <td>85.20</td>\n",
       "      <td>35000.0</td>\n",
       "    </tr>\n",
       "    <tr>\n",
       "      <th>3</th>\n",
       "      <td>26</td>\n",
       "      <td>18.00</td>\n",
       "      <td>20000.0</td>\n",
       "    </tr>\n",
       "    <tr>\n",
       "      <th>4</th>\n",
       "      <td>27</td>\n",
       "      <td>9.15</td>\n",
       "      <td>23000.0</td>\n",
       "    </tr>\n",
       "  </tbody>\n",
       "</table>\n",
       "</div>"
      ],
      "text/plain": [
       "   TVWatchingHours  VoiceLastMonth_Coded  HHIncome\n",
       "0               13                 19.50   31000.0\n",
       "1               18                 26.70   15000.0\n",
       "2               21                 85.20   35000.0\n",
       "3               26                 18.00   20000.0\n",
       "4               27                  9.15   23000.0"
      ]
     },
     "execution_count": 109,
     "metadata": {},
     "output_type": "execute_result"
    },
    {
     "name": "stdout",
     "output_type": "stream",
     "text": [
      "shape of second Attempt on customer segmentation: (5000, 3)\n",
      "<class 'pandas.core.frame.DataFrame'>\n",
      "RangeIndex: 5000 entries, 0 to 4999\n",
      "Data columns (total 3 columns):\n",
      " #   Column                Non-Null Count  Dtype  \n",
      "---  ------                --------------  -----  \n",
      " 0   TVWatchingHours       5000 non-null   int64  \n",
      " 1   VoiceLastMonth_Coded  5000 non-null   float64\n",
      " 2   HHIncome              5000 non-null   float64\n",
      "dtypes: float64(2), int64(1)\n",
      "memory usage: 117.3 KB\n"
     ]
    }
   ],
   "source": [
    "#Selecting the columns or variables that you want to use for clustering\n",
    "cust_df_kmeans_2 = customer_data[['TVWatchingHours','VoiceLastMonth_Coded', 'HHIncome']]\n",
    "\n",
    "cust_df_kmeans_2.head(5)\n",
    "print('shape of second Attempt on customer segmentation:',cust_df_kmeans_2.shape)\n",
    "cust_df_kmeans_2.info()"
   ]
  },
  {
   "cell_type": "code",
   "execution_count": 110,
   "metadata": {},
   "outputs": [
    {
     "data": {
      "text/html": [
       "<div>\n",
       "<style scoped>\n",
       "    .dataframe tbody tr th:only-of-type {\n",
       "        vertical-align: middle;\n",
       "    }\n",
       "\n",
       "    .dataframe tbody tr th {\n",
       "        vertical-align: top;\n",
       "    }\n",
       "\n",
       "    .dataframe thead th {\n",
       "        text-align: right;\n",
       "    }\n",
       "</style>\n",
       "<table border=\"1\" class=\"dataframe\">\n",
       "  <thead>\n",
       "    <tr style=\"text-align: right;\">\n",
       "      <th></th>\n",
       "      <th>0</th>\n",
       "      <th>1</th>\n",
       "      <th>2</th>\n",
       "    </tr>\n",
       "  </thead>\n",
       "  <tbody>\n",
       "    <tr>\n",
       "      <th>0</th>\n",
       "      <td>-1.286521</td>\n",
       "      <td>-0.545834</td>\n",
       "      <td>-0.429091</td>\n",
       "    </tr>\n",
       "    <tr>\n",
       "      <th>1</th>\n",
       "      <td>-0.318484</td>\n",
       "      <td>-0.357925</td>\n",
       "      <td>-0.718046</td>\n",
       "    </tr>\n",
       "    <tr>\n",
       "      <th>2</th>\n",
       "      <td>0.262338</td>\n",
       "      <td>1.168840</td>\n",
       "      <td>-0.356852</td>\n",
       "    </tr>\n",
       "    <tr>\n",
       "      <th>3</th>\n",
       "      <td>1.230375</td>\n",
       "      <td>-0.584982</td>\n",
       "      <td>-0.627747</td>\n",
       "    </tr>\n",
       "    <tr>\n",
       "      <th>4</th>\n",
       "      <td>1.423982</td>\n",
       "      <td>-0.815954</td>\n",
       "      <td>-0.573568</td>\n",
       "    </tr>\n",
       "  </tbody>\n",
       "</table>\n",
       "</div>"
      ],
      "text/plain": [
       "          0         1         2\n",
       "0 -1.286521 -0.545834 -0.429091\n",
       "1 -0.318484 -0.357925 -0.718046\n",
       "2  0.262338  1.168840 -0.356852\n",
       "3  1.230375 -0.584982 -0.627747\n",
       "4  1.423982 -0.815954 -0.573568"
      ]
     },
     "execution_count": 110,
     "metadata": {},
     "output_type": "execute_result"
    }
   ],
   "source": [
    "# standardizing the data\n",
    "scaler_2 = StandardScaler()\n",
    "cust_kmeans_scaled_2 = scaler_2.fit_transform(cust_df_kmeans_2)\n",
    "#Assign the scaled data to a DataFrame using the index keyword arguments\n",
    "cust_kmeans_scaled_df_2 = pd.DataFrame(cust_kmeans_scaled_2, index = cust_df_kmeans_2.index)\n",
    "cust_kmeans_scaled_df_2.head()"
   ]
  },
  {
   "cell_type": "code",
   "execution_count": 111,
   "metadata": {},
   "outputs": [
    {
     "data": {
      "text/html": [
       "<div>\n",
       "<style scoped>\n",
       "    .dataframe tbody tr th:only-of-type {\n",
       "        vertical-align: middle;\n",
       "    }\n",
       "\n",
       "    .dataframe tbody tr th {\n",
       "        vertical-align: top;\n",
       "    }\n",
       "\n",
       "    .dataframe thead th {\n",
       "        text-align: right;\n",
       "    }\n",
       "</style>\n",
       "<table border=\"1\" class=\"dataframe\">\n",
       "  <thead>\n",
       "    <tr style=\"text-align: right;\">\n",
       "      <th></th>\n",
       "      <th>0</th>\n",
       "      <th>1</th>\n",
       "      <th>2</th>\n",
       "    </tr>\n",
       "  </thead>\n",
       "  <tbody>\n",
       "    <tr>\n",
       "      <th>count</th>\n",
       "      <td>5.000000e+03</td>\n",
       "      <td>5.000000e+03</td>\n",
       "      <td>5.000000e+03</td>\n",
       "    </tr>\n",
       "    <tr>\n",
       "      <th>mean</th>\n",
       "      <td>1.211198e-16</td>\n",
       "      <td>4.963807e-17</td>\n",
       "      <td>7.828183e-17</td>\n",
       "    </tr>\n",
       "    <tr>\n",
       "      <th>std</th>\n",
       "      <td>1.000100e+00</td>\n",
       "      <td>1.000100e+00</td>\n",
       "      <td>1.000100e+00</td>\n",
       "    </tr>\n",
       "    <tr>\n",
       "      <th>min</th>\n",
       "      <td>-3.803417e+00</td>\n",
       "      <td>-9.842897e-01</td>\n",
       "      <td>-8.264036e-01</td>\n",
       "    </tr>\n",
       "    <tr>\n",
       "      <th>25%</th>\n",
       "      <td>-5.120916e-01</td>\n",
       "      <td>-6.084706e-01</td>\n",
       "      <td>-5.555085e-01</td>\n",
       "    </tr>\n",
       "    <tr>\n",
       "      <th>50%</th>\n",
       "      <td>6.873063e-02</td>\n",
       "      <td>-3.070324e-01</td>\n",
       "      <td>-3.026730e-01</td>\n",
       "    </tr>\n",
       "    <tr>\n",
       "      <th>75%</th>\n",
       "      <td>6.495528e-01</td>\n",
       "      <td>2.410370e-01</td>\n",
       "      <td>2.210577e-01</td>\n",
       "    </tr>\n",
       "    <tr>\n",
       "      <th>max</th>\n",
       "      <td>3.166449e+00</td>\n",
       "      <td>1.302671e+01</td>\n",
       "      <td>1.838909e+01</td>\n",
       "    </tr>\n",
       "  </tbody>\n",
       "</table>\n",
       "</div>"
      ],
      "text/plain": [
       "                  0             1             2\n",
       "count  5.000000e+03  5.000000e+03  5.000000e+03\n",
       "mean   1.211198e-16  4.963807e-17  7.828183e-17\n",
       "std    1.000100e+00  1.000100e+00  1.000100e+00\n",
       "min   -3.803417e+00 -9.842897e-01 -8.264036e-01\n",
       "25%   -5.120916e-01 -6.084706e-01 -5.555085e-01\n",
       "50%    6.873063e-02 -3.070324e-01 -3.026730e-01\n",
       "75%    6.495528e-01  2.410370e-01  2.210577e-01\n",
       "max    3.166449e+00  1.302671e+01  1.838909e+01"
      ]
     },
     "execution_count": 111,
     "metadata": {},
     "output_type": "execute_result"
    }
   ],
   "source": [
    "# statistics of scaled data\n",
    "pd.DataFrame(cust_kmeans_scaled_df_2).describe()"
   ]
  },
  {
   "cell_type": "code",
   "execution_count": 112,
   "metadata": {},
   "outputs": [
    {
     "data": {
      "text/plain": [
       "KMeans(algorithm='auto', copy_x=True, init='k-means++', max_iter=300,\n",
       "       n_clusters=2, n_init=10, n_jobs=-1, precompute_distances='auto',\n",
       "       random_state=None, tol=0.0001, verbose=0)"
      ]
     },
     "execution_count": 112,
     "metadata": {},
     "output_type": "execute_result"
    },
    {
     "data": {
      "text/plain": [
       "KMeans(algorithm='auto', copy_x=True, init='k-means++', max_iter=300,\n",
       "       n_clusters=3, n_init=10, n_jobs=-1, precompute_distances='auto',\n",
       "       random_state=None, tol=0.0001, verbose=0)"
      ]
     },
     "execution_count": 112,
     "metadata": {},
     "output_type": "execute_result"
    },
    {
     "data": {
      "text/plain": [
       "KMeans(algorithm='auto', copy_x=True, init='k-means++', max_iter=300,\n",
       "       n_clusters=4, n_init=10, n_jobs=-1, precompute_distances='auto',\n",
       "       random_state=None, tol=0.0001, verbose=0)"
      ]
     },
     "execution_count": 112,
     "metadata": {},
     "output_type": "execute_result"
    },
    {
     "data": {
      "text/plain": [
       "KMeans(algorithm='auto', copy_x=True, init='k-means++', max_iter=300,\n",
       "       n_clusters=5, n_init=10, n_jobs=-1, precompute_distances='auto',\n",
       "       random_state=None, tol=0.0001, verbose=0)"
      ]
     },
     "execution_count": 112,
     "metadata": {},
     "output_type": "execute_result"
    },
    {
     "data": {
      "text/plain": [
       "KMeans(algorithm='auto', copy_x=True, init='k-means++', max_iter=300,\n",
       "       n_clusters=6, n_init=10, n_jobs=-1, precompute_distances='auto',\n",
       "       random_state=None, tol=0.0001, verbose=0)"
      ]
     },
     "execution_count": 112,
     "metadata": {},
     "output_type": "execute_result"
    },
    {
     "data": {
      "text/plain": [
       "KMeans(algorithm='auto', copy_x=True, init='k-means++', max_iter=300,\n",
       "       n_clusters=7, n_init=10, n_jobs=-1, precompute_distances='auto',\n",
       "       random_state=None, tol=0.0001, verbose=0)"
      ]
     },
     "execution_count": 112,
     "metadata": {},
     "output_type": "execute_result"
    },
    {
     "data": {
      "text/plain": [
       "KMeans(algorithm='auto', copy_x=True, init='k-means++', max_iter=300,\n",
       "       n_clusters=8, n_init=10, n_jobs=-1, precompute_distances='auto',\n",
       "       random_state=None, tol=0.0001, verbose=0)"
      ]
     },
     "execution_count": 112,
     "metadata": {},
     "output_type": "execute_result"
    },
    {
     "data": {
      "text/plain": [
       "KMeans(algorithm='auto', copy_x=True, init='k-means++', max_iter=300,\n",
       "       n_clusters=9, n_init=10, n_jobs=-1, precompute_distances='auto',\n",
       "       random_state=None, tol=0.0001, verbose=0)"
      ]
     },
     "execution_count": 112,
     "metadata": {},
     "output_type": "execute_result"
    },
    {
     "data": {
      "text/plain": [
       "<Figure size 864x432 with 0 Axes>"
      ]
     },
     "execution_count": 112,
     "metadata": {},
     "output_type": "execute_result"
    },
    {
     "data": {
      "text/plain": [
       "[<matplotlib.lines.Line2D at 0x2a845db9588>]"
      ]
     },
     "execution_count": 112,
     "metadata": {},
     "output_type": "execute_result"
    },
    {
     "data": {
      "text/plain": [
       "Text(0.5, 0, 'Number of clusters')"
      ]
     },
     "execution_count": 112,
     "metadata": {},
     "output_type": "execute_result"
    },
    {
     "data": {
      "text/plain": [
       "Text(0, 0.5, 'Inertia')"
      ]
     },
     "execution_count": 112,
     "metadata": {},
     "output_type": "execute_result"
    },
    {
     "data": {
      "image/png": "[encoded data removed]",
      "text/plain": [
       "<Figure size 864x432 with 1 Axes>"
      ]
     },
     "metadata": {},
     "output_type": "display_data"
    }
   ],
   "source": [
    "# Plot inertia for multiple cluster solutions against the number of clusters\n",
    "# fitting multiple k-means algorithms and storing the values in an empty list\n",
    "SSE = []\n",
    "for cluster in range(2,10):\n",
    "    kmeans = KMeans(n_jobs = -1, n_clusters = cluster, init='k-means++')\n",
    "    kmeans.fit(cust_kmeans_scaled_df_2)\n",
    "    SSE.append(kmeans.inertia_)\n",
    "\n",
    "# converting the results into a dataframe and plotting them\n",
    "cust_df_frame_2 = pd.DataFrame({'Cluster':range(2,10), 'SSE':SSE})\n",
    "plt.figure(figsize=(12,6))\n",
    "plt.plot(cust_df_frame_2['Cluster'], cust_df_frame_2['SSE'], marker='o')\n",
    "plt.xlabel('Number of clusters')\n",
    "plt.ylabel('Inertia')"
   ]
  },
  {
   "cell_type": "code",
   "execution_count": 114,
   "metadata": {},
   "outputs": [
    {
     "data": {
      "text/plain": [
       "KMeans(algorithm='auto', copy_x=True, init='k-means++', max_iter=300,\n",
       "       n_clusters=5, n_init=10, n_jobs=None, precompute_distances='auto',\n",
       "       random_state=None, tol=0.0001, verbose=0)"
      ]
     },
     "execution_count": 114,
     "metadata": {},
     "output_type": "execute_result"
    },
    {
     "data": {
      "text/plain": [
       "6254.286636888376"
      ]
     },
     "execution_count": 114,
     "metadata": {},
     "output_type": "execute_result"
    }
   ],
   "source": [
    "# Defining the kmeans function with initialization as k-means++; # You want to cluster into 5 segments\n",
    "kmeans_5_2 = KMeans(n_clusters = 5, init='k-means++')\n",
    "\n",
    "# fitting the k means algorithm on scaled data\n",
    "kmeans_5_2.fit(cust_kmeans_scaled_df_2)\n",
    "\n",
    "# Inertia calculates the sum of all the points within a cluster from the centroid of that cluster.\n",
    "# Determine inertia on the fitted data\n",
    "kmeans_5_2.inertia_\n",
    "\n"
   ]
  },
  {
   "cell_type": "code",
   "execution_count": 115,
   "metadata": {},
   "outputs": [
    {
     "data": {
      "text/plain": [
       "1    2363\n",
       "2    1180\n",
       "3     784\n",
       "4     351\n",
       "0     322\n",
       "Name: cluster, dtype: int64"
      ]
     },
     "execution_count": 115,
     "metadata": {},
     "output_type": "execute_result"
    }
   ],
   "source": [
    "pred_clus5_2 = kmeans_5_2.predict(cust_kmeans_scaled_df_2)\n",
    "\n",
    "cust_df_frame_2_2 = pd.DataFrame(cust_kmeans_scaled_df_2)\n",
    "cust_df_frame_2_2['cluster'] = pred_clus5_2\n",
    "cust_df_frame_2_2['cluster'].value_counts()"
   ]
  },
  {
   "cell_type": "code",
   "execution_count": 116,
   "metadata": {},
   "outputs": [
    {
     "data": {
      "text/html": [
       "<div>\n",
       "<style scoped>\n",
       "    .dataframe tbody tr th:only-of-type {\n",
       "        vertical-align: middle;\n",
       "    }\n",
       "\n",
       "    .dataframe tbody tr th {\n",
       "        vertical-align: top;\n",
       "    }\n",
       "\n",
       "    .dataframe thead th {\n",
       "        text-align: right;\n",
       "    }\n",
       "</style>\n",
       "<table border=\"1\" class=\"dataframe\">\n",
       "  <thead>\n",
       "    <tr style=\"text-align: right;\">\n",
       "      <th></th>\n",
       "      <th>0</th>\n",
       "      <th>1</th>\n",
       "      <th>2</th>\n",
       "      <th>cluster</th>\n",
       "    </tr>\n",
       "  </thead>\n",
       "  <tbody>\n",
       "    <tr>\n",
       "      <th>0</th>\n",
       "      <td>-1.286521</td>\n",
       "      <td>-0.545834</td>\n",
       "      <td>-0.429091</td>\n",
       "      <td>3</td>\n",
       "    </tr>\n",
       "    <tr>\n",
       "      <th>1</th>\n",
       "      <td>-0.318484</td>\n",
       "      <td>-0.357925</td>\n",
       "      <td>-0.718046</td>\n",
       "      <td>1</td>\n",
       "    </tr>\n",
       "    <tr>\n",
       "      <th>2</th>\n",
       "      <td>0.262338</td>\n",
       "      <td>1.168840</td>\n",
       "      <td>-0.356852</td>\n",
       "      <td>1</td>\n",
       "    </tr>\n",
       "    <tr>\n",
       "      <th>3</th>\n",
       "      <td>1.230375</td>\n",
       "      <td>-0.584982</td>\n",
       "      <td>-0.627747</td>\n",
       "      <td>2</td>\n",
       "    </tr>\n",
       "    <tr>\n",
       "      <th>4</th>\n",
       "      <td>1.423982</td>\n",
       "      <td>-0.815954</td>\n",
       "      <td>-0.573568</td>\n",
       "      <td>2</td>\n",
       "    </tr>\n",
       "  </tbody>\n",
       "</table>\n",
       "</div>"
      ],
      "text/plain": [
       "          0         1         2  cluster\n",
       "0 -1.286521 -0.545834 -0.429091        3\n",
       "1 -0.318484 -0.357925 -0.718046        1\n",
       "2  0.262338  1.168840 -0.356852        1\n",
       "3  1.230375 -0.584982 -0.627747        2\n",
       "4  1.423982 -0.815954 -0.573568        2"
      ]
     },
     "execution_count": 116,
     "metadata": {},
     "output_type": "execute_result"
    }
   ],
   "source": [
    "cust_df_frame_2_2.head(5)"
   ]
  },
  {
   "cell_type": "code",
   "execution_count": 117,
   "metadata": {},
   "outputs": [
    {
     "name": "stdout",
     "output_type": "stream",
     "text": [
      "[[ 0.02002814  0.34268763  2.70168344]\n",
      " [-0.0955448  -0.2533802  -0.21731177]\n",
      " [ 1.16950352 -0.22660356 -0.17613279]\n",
      " [-1.4984027  -0.234579   -0.22474455]\n",
      " [ 0.04004805  2.67719128  0.07863834]]\n"
     ]
    },
    {
     "data": {
      "text/html": [
       "<div>\n",
       "<style scoped>\n",
       "    .dataframe tbody tr th:only-of-type {\n",
       "        vertical-align: middle;\n",
       "    }\n",
       "\n",
       "    .dataframe tbody tr th {\n",
       "        vertical-align: top;\n",
       "    }\n",
       "\n",
       "    .dataframe thead th {\n",
       "        text-align: right;\n",
       "    }\n",
       "</style>\n",
       "<table border=\"1\" class=\"dataframe\">\n",
       "  <thead>\n",
       "    <tr style=\"text-align: right;\">\n",
       "      <th></th>\n",
       "      <th>0</th>\n",
       "      <th>1</th>\n",
       "      <th>2</th>\n",
       "      <th>cluster</th>\n",
       "      <th>cluster5_2_2</th>\n",
       "    </tr>\n",
       "  </thead>\n",
       "  <tbody>\n",
       "    <tr>\n",
       "      <th>0</th>\n",
       "      <td>-1.286521</td>\n",
       "      <td>-0.545834</td>\n",
       "      <td>-0.429091</td>\n",
       "      <td>3</td>\n",
       "      <td>4</td>\n",
       "    </tr>\n",
       "    <tr>\n",
       "      <th>1</th>\n",
       "      <td>-0.318484</td>\n",
       "      <td>-0.357925</td>\n",
       "      <td>-0.718046</td>\n",
       "      <td>1</td>\n",
       "      <td>2</td>\n",
       "    </tr>\n",
       "    <tr>\n",
       "      <th>2</th>\n",
       "      <td>0.262338</td>\n",
       "      <td>1.168840</td>\n",
       "      <td>-0.356852</td>\n",
       "      <td>1</td>\n",
       "      <td>2</td>\n",
       "    </tr>\n",
       "    <tr>\n",
       "      <th>3</th>\n",
       "      <td>1.230375</td>\n",
       "      <td>-0.584982</td>\n",
       "      <td>-0.627747</td>\n",
       "      <td>2</td>\n",
       "      <td>3</td>\n",
       "    </tr>\n",
       "    <tr>\n",
       "      <th>4</th>\n",
       "      <td>1.423982</td>\n",
       "      <td>-0.815954</td>\n",
       "      <td>-0.573568</td>\n",
       "      <td>2</td>\n",
       "      <td>3</td>\n",
       "    </tr>\n",
       "  </tbody>\n",
       "</table>\n",
       "</div>"
      ],
      "text/plain": [
       "          0         1         2  cluster  cluster5_2_2\n",
       "0 -1.286521 -0.545834 -0.429091        3             4\n",
       "1 -0.318484 -0.357925 -0.718046        1             2\n",
       "2  0.262338  1.168840 -0.356852        1             2\n",
       "3  1.230375 -0.584982 -0.627747        2             3\n",
       "4  1.423982 -0.815954 -0.573568        2             3"
      ]
     },
     "execution_count": 117,
     "metadata": {},
     "output_type": "execute_result"
    },
    {
     "name": "stdout",
     "output_type": "stream",
     "text": [
      "[3 1 1 ... 4 0 1]\n"
     ]
    },
    {
     "data": {
      "text/plain": [
       "2    2363\n",
       "3    1180\n",
       "4     784\n",
       "5     351\n",
       "1     322\n",
       "Name: cluster5_2_2, dtype: int64"
      ]
     },
     "execution_count": 117,
     "metadata": {},
     "output_type": "execute_result"
    }
   ],
   "source": [
    "# Get the cluster centroids\n",
    "print(kmeans_5_2.cluster_centers_)\n",
    "\n",
    "# Create a new data column cluster5_2 to incorporate a cluster indicator variable running from 1 to 5\n",
    "cust_df_frame_2_2['cluster5_2_2'] = cust_df_frame_2_2['cluster'] + 1\n",
    "cust_df_frame_2_2.head(5)\n",
    "\n",
    "# Get the cluster labels\n",
    "print(kmeans_5_2.labels_)\n",
    "\n",
    "cust_df_frame_2_2['cluster5_2_2'].value_counts()"
   ]
  },
  {
   "cell_type": "code",
   "execution_count": 118,
   "metadata": {},
   "outputs": [
    {
     "data": {
      "text/plain": [
       "<matplotlib.collections.PathCollection at 0x2a8477934c8>"
      ]
     },
     "execution_count": 118,
     "metadata": {},
     "output_type": "execute_result"
    },
    {
     "data": {
      "image/png": "[encoded data removed]",
      "text/plain": [
       "<Figure size 576x396 with 1 Axes>"
      ]
     },
     "metadata": {},
     "output_type": "display_data"
    }
   ],
   "source": [
    "plt.scatter(kmeans_5_2.cluster_centers_[:, 0], kmeans_5_2.cluster_centers_[:, 1], c='red', marker='x')"
   ]
  },
  {
   "cell_type": "code",
   "execution_count": 119,
   "metadata": {},
   "outputs": [
    {
     "name": "stdout",
     "output_type": "stream",
     "text": [
      "0.23877052259387838\n"
     ]
    }
   ],
   "source": [
    "print(silhouette_score(cust_df_frame_2_2, kmeans.labels_))"
   ]
  },
  {
   "cell_type": "code",
   "execution_count": 120,
   "metadata": {},
   "outputs": [
    {
     "name": "stderr",
     "output_type": "stream",
     "text": [
      "C:\\Users\\priya\\Anaconda3\\lib\\site-packages\\sklearn\\base.py:197: FutureWarning: From version 0.24, get_params will raise an AttributeError if a parameter cannot be retrieved as an instance attribute. Previously it would return None.\n",
      "  FutureWarning)\n"
     ]
    },
    {
     "data": {
      "text/plain": [
       "KElbowVisualizer(ax=<AxesSubplot:>,\n",
       "                 estimator=KMeans(algorithm='auto', copy_x=True,\n",
       "                                  init='k-means++', max_iter=300, n_clusters=5,\n",
       "                                  n_init=10, n_jobs=None,\n",
       "                                  precompute_distances='auto', random_state=0,\n",
       "                                  tol=0.0001, verbose=0),\n",
       "                 k=None, locate_elbow=True, metric='silhouette', timings=False)"
      ]
     },
     "execution_count": 120,
     "metadata": {},
     "output_type": "execute_result"
    },
    {
     "data": {
      "image/png": "[encoded data removed]",
      "text/plain": [
       "<Figure size 576x396 with 1 Axes>"
      ]
     },
     "metadata": {},
     "output_type": "display_data"
    },
    {
     "data": {
      "text/plain": [
       "<AxesSubplot:title={'center':'Silhouette Score Elbow for KMeans Clustering'}, xlabel='k', ylabel='silhouette score'>"
      ]
     },
     "execution_count": 120,
     "metadata": {},
     "output_type": "execute_result"
    }
   ],
   "source": [
    "\n",
    "# Instantiate a scikit-learn K-Means model\n",
    "model_2 = KMeans(random_state=0)\n",
    "\n",
    "# Instantiate the KElbowVisualizer with the number of clusters and the metric \n",
    "visualizer_2 = KElbowVisualizer(model, k=(2,6), metric='silhouette', timings=False)\n",
    "\n",
    "# Fit the data and visualize\n",
    "visualizer_2.fit(cust_df_frame_2_2)    \n",
    "visualizer_2.poof()  "
   ]
  },
  {
   "cell_type": "code",
   "execution_count": 123,
   "metadata": {},
   "outputs": [],
   "source": [
    "# Joining the clusters from kmeans to the original data used for clustering\n",
    "cust_df_clus5_ALL_2 = pd.DataFrame(pd.concat([cust_df_frame_2_2, customer_data], axis = 1))\n"
   ]
  },
  {
   "cell_type": "code",
   "execution_count": 125,
   "metadata": {},
   "outputs": [
    {
     "data": {
      "text/plain": [
       "(5000, 72)"
      ]
     },
     "execution_count": 125,
     "metadata": {},
     "output_type": "execute_result"
    }
   ],
   "source": [
    "cust_df_clus5_ALL_2.shape\n"
   ]
  },
  {
   "cell_type": "code",
   "execution_count": 127,
   "metadata": {},
   "outputs": [
    {
     "data": {
      "text/plain": [
       "<bound method DataFrame.info of              0         1         2  cluster  cluster5_2_2       CustomerID  \\\n",
       "0    -1.286521 -0.545834 -0.429091        3             4  3964-QJWTRG-NPN   \n",
       "1    -0.318484 -0.357925 -0.718046        1             2  0648-AIPJSP-UVM   \n",
       "2     0.262338  1.168840 -0.356852        1             2  5195-TLUDJE-HVO   \n",
       "3     1.230375 -0.584982 -0.627747        2             3  4459-VLPQUH-3OL   \n",
       "4     1.423982 -0.815954 -0.573568        2             3  8158-SMTQFB-CNO   \n",
       "...        ...       ...       ...      ...           ...              ...   \n",
       "4995 -0.124877  1.615125  2.550756        0             1  3675-GZFGOT-QJN   \n",
       "4996 -1.092914 -0.240481  0.510013        3             4  4699-LEPCCE-3UD   \n",
       "4997 -0.705699  1.247136  0.961504        4             5  8485-LLUICH-CVV   \n",
       "4998  0.843160 -0.432305  2.424338        0             1  9325-URAAUT-7FA   \n",
       "4999 -0.124877 -0.424476  0.401654        1             2  8027-EXDZBF-OGR   \n",
       "\n",
       "      Region TownSize  Gender  Age  ...  OwnsFax NewsSubscriber  \\\n",
       "0          1        2  Female   20  ...       No             No   \n",
       "1          5        5    Male   22  ...      Yes            Yes   \n",
       "2          3        4  Female   67  ...       No            Yes   \n",
       "3          4        3    Male   23  ...       No            Yes   \n",
       "4          2        2    Male   26  ...       No             No   \n",
       "...      ...      ...     ...  ...  ...      ...            ...   \n",
       "4995       2        2    Male   68  ...       No            Yes   \n",
       "4996       3        3    Male   51  ...       No             No   \n",
       "4997       4        5    Male   75  ...       No            Yes   \n",
       "4998       1        1    Male   47  ...       No            Yes   \n",
       "4999       3        5  Female   41  ...       No             No   \n",
       "\n",
       "     LoanDefault_Num  Gender_Num DebtToIncomeRatio_Recoded  Age_Recoded  \\\n",
       "0                  1         2.0                         3        18-31   \n",
       "1                  1         1.0                         4        18-31   \n",
       "2                  2         2.0                         2          >62   \n",
       "3                  1         1.0                         2        18-31   \n",
       "4                  2         1.0                         1        18-31   \n",
       "...              ...         ...                       ...          ...   \n",
       "4995               2         1.0                         2          >62   \n",
       "4996               1         1.0                         3       >47-62   \n",
       "4997               2         1.0                         3          >62   \n",
       "4998               1         1.0                         3       >31-47   \n",
       "4999               2         2.0                         2       >31-47   \n",
       "\n",
       "      PhoneCoTenure_Coded  OwnsMobileDevice_Coded  HomeOwner2  \\\n",
       "0                    0-18                       2         1.0   \n",
       "1                  >38-59                       2         2.0   \n",
       "2                     >59                       1         2.0   \n",
       "3                  >18-38                       2         2.0   \n",
       "4                  >18-38                       1         1.0   \n",
       "...                   ...                     ...         ...   \n",
       "4995                  >59                       1         2.0   \n",
       "4996               >18-38                       1         2.0   \n",
       "4997                  >59                       1         2.0   \n",
       "4998               >18-38                       2         2.0   \n",
       "4999               >18-38                       1         2.0   \n",
       "\n",
       "     VoiceLastMonth_Coded  \n",
       "0                   19.50  \n",
       "1                   26.70  \n",
       "2                   85.20  \n",
       "3                   18.00  \n",
       "4                    9.15  \n",
       "...                   ...  \n",
       "4995               102.30  \n",
       "4996                31.20  \n",
       "4997                88.20  \n",
       "4998                23.85  \n",
       "4999                24.15  \n",
       "\n",
       "[5000 rows x 72 columns]>"
      ]
     },
     "execution_count": 127,
     "metadata": {},
     "output_type": "execute_result"
    }
   ],
   "source": [
    "cust_df_clus5_ALL_2.info"
   ]
  },
  {
   "cell_type": "code",
   "execution_count": 129,
   "metadata": {},
   "outputs": [
    {
     "data": {
      "text/html": [
       "<div>\n",
       "<style scoped>\n",
       "    .dataframe tbody tr th:only-of-type {\n",
       "        vertical-align: middle;\n",
       "    }\n",
       "\n",
       "    .dataframe tbody tr th {\n",
       "        vertical-align: top;\n",
       "    }\n",
       "\n",
       "    .dataframe thead th {\n",
       "        text-align: right;\n",
       "    }\n",
       "</style>\n",
       "<table border=\"1\" class=\"dataframe\">\n",
       "  <thead>\n",
       "    <tr style=\"text-align: right;\">\n",
       "      <th>LoanDefault</th>\n",
       "      <th>No</th>\n",
       "      <th>Yes</th>\n",
       "      <th>All</th>\n",
       "    </tr>\n",
       "    <tr>\n",
       "      <th>cluster5_2_2</th>\n",
       "      <th></th>\n",
       "      <th></th>\n",
       "      <th></th>\n",
       "    </tr>\n",
       "  </thead>\n",
       "  <tbody>\n",
       "    <tr>\n",
       "      <th>1</th>\n",
       "      <td>0.061896</td>\n",
       "      <td>0.072588</td>\n",
       "      <td>0.0644</td>\n",
       "    </tr>\n",
       "    <tr>\n",
       "      <th>2</th>\n",
       "      <td>0.468530</td>\n",
       "      <td>0.485909</td>\n",
       "      <td>0.4726</td>\n",
       "    </tr>\n",
       "    <tr>\n",
       "      <th>3</th>\n",
       "      <td>0.228780</td>\n",
       "      <td>0.259607</td>\n",
       "      <td>0.2360</td>\n",
       "    </tr>\n",
       "    <tr>\n",
       "      <th>4</th>\n",
       "      <td>0.154348</td>\n",
       "      <td>0.164816</td>\n",
       "      <td>0.1568</td>\n",
       "    </tr>\n",
       "    <tr>\n",
       "      <th>5</th>\n",
       "      <td>0.086446</td>\n",
       "      <td>0.017079</td>\n",
       "      <td>0.0702</td>\n",
       "    </tr>\n",
       "  </tbody>\n",
       "</table>\n",
       "</div>"
      ],
      "text/plain": [
       "LoanDefault         No       Yes     All\n",
       "cluster5_2_2                            \n",
       "1             0.061896  0.072588  0.0644\n",
       "2             0.468530  0.485909  0.4726\n",
       "3             0.228780  0.259607  0.2360\n",
       "4             0.154348  0.164816  0.1568\n",
       "5             0.086446  0.017079  0.0702"
      ]
     },
     "execution_count": 129,
     "metadata": {},
     "output_type": "execute_result"
    }
   ],
   "source": [
    "# Using pandas crosstabs to create a cross tab of clusters by loan defaults\n",
    "pd.crosstab(cust_df_clus5_ALL_2['cluster5_2_2'],cust_df_clus5_ALL_2['LoanDefault'],margins=True, normalize = 'columns')"
   ]
  },
  {
   "cell_type": "code",
   "execution_count": 131,
   "metadata": {},
   "outputs": [
    {
     "data": {
      "text/html": [
       "<div>\n",
       "<style scoped>\n",
       "    .dataframe tbody tr th:only-of-type {\n",
       "        vertical-align: middle;\n",
       "    }\n",
       "\n",
       "    .dataframe tbody tr th {\n",
       "        vertical-align: top;\n",
       "    }\n",
       "\n",
       "    .dataframe thead th {\n",
       "        text-align: right;\n",
       "    }\n",
       "</style>\n",
       "<table border=\"1\" class=\"dataframe\">\n",
       "  <thead>\n",
       "    <tr style=\"text-align: right;\">\n",
       "      <th></th>\n",
       "      <th>cluster5_2_2</th>\n",
       "    </tr>\n",
       "  </thead>\n",
       "  <tbody>\n",
       "    <tr>\n",
       "      <th>0</th>\n",
       "      <td>4</td>\n",
       "    </tr>\n",
       "    <tr>\n",
       "      <th>1</th>\n",
       "      <td>2</td>\n",
       "    </tr>\n",
       "    <tr>\n",
       "      <th>2</th>\n",
       "      <td>2</td>\n",
       "    </tr>\n",
       "    <tr>\n",
       "      <th>3</th>\n",
       "      <td>3</td>\n",
       "    </tr>\n",
       "    <tr>\n",
       "      <th>4</th>\n",
       "      <td>3</td>\n",
       "    </tr>\n",
       "  </tbody>\n",
       "</table>\n",
       "</div>"
      ],
      "text/plain": [
       "   cluster5_2_2\n",
       "0             4\n",
       "1             2\n",
       "2             2\n",
       "3             3\n",
       "4             3"
      ]
     },
     "execution_count": 131,
     "metadata": {},
     "output_type": "execute_result"
    },
    {
     "data": {
      "text/plain": [
       "(5000, 1)"
      ]
     },
     "execution_count": 131,
     "metadata": {},
     "output_type": "execute_result"
    },
    {
     "data": {
      "text/html": [
       "<div>\n",
       "<style scoped>\n",
       "    .dataframe tbody tr th:only-of-type {\n",
       "        vertical-align: middle;\n",
       "    }\n",
       "\n",
       "    .dataframe tbody tr th {\n",
       "        vertical-align: top;\n",
       "    }\n",
       "\n",
       "    .dataframe thead th {\n",
       "        text-align: right;\n",
       "    }\n",
       "</style>\n",
       "<table border=\"1\" class=\"dataframe\">\n",
       "  <thead>\n",
       "    <tr style=\"text-align: right;\">\n",
       "      <th></th>\n",
       "      <th>TVWatchingHours</th>\n",
       "      <th>VoiceLastMonth_Coded</th>\n",
       "      <th>HHIncome</th>\n",
       "    </tr>\n",
       "  </thead>\n",
       "  <tbody>\n",
       "    <tr>\n",
       "      <th>0</th>\n",
       "      <td>13</td>\n",
       "      <td>19.50</td>\n",
       "      <td>31000.0</td>\n",
       "    </tr>\n",
       "    <tr>\n",
       "      <th>1</th>\n",
       "      <td>18</td>\n",
       "      <td>26.70</td>\n",
       "      <td>15000.0</td>\n",
       "    </tr>\n",
       "    <tr>\n",
       "      <th>2</th>\n",
       "      <td>21</td>\n",
       "      <td>85.20</td>\n",
       "      <td>35000.0</td>\n",
       "    </tr>\n",
       "    <tr>\n",
       "      <th>3</th>\n",
       "      <td>26</td>\n",
       "      <td>18.00</td>\n",
       "      <td>20000.0</td>\n",
       "    </tr>\n",
       "    <tr>\n",
       "      <th>4</th>\n",
       "      <td>27</td>\n",
       "      <td>9.15</td>\n",
       "      <td>23000.0</td>\n",
       "    </tr>\n",
       "  </tbody>\n",
       "</table>\n",
       "</div>"
      ],
      "text/plain": [
       "   TVWatchingHours  VoiceLastMonth_Coded  HHIncome\n",
       "0               13                 19.50   31000.0\n",
       "1               18                 26.70   15000.0\n",
       "2               21                 85.20   35000.0\n",
       "3               26                 18.00   20000.0\n",
       "4               27                  9.15   23000.0"
      ]
     },
     "execution_count": 131,
     "metadata": {},
     "output_type": "execute_result"
    }
   ],
   "source": [
    "#Extracting the cluster data from the original cluster solution and saving it as a DataFrame with an index\n",
    "cust_df_kmeans_cluster5_2_2 = pd.DataFrame(cust_df_frame_2_2['cluster5_2_2'])\n",
    "cust_df_kmeans_cluster5_2_2.head()\n",
    "\n",
    "# Checking on the size and shape of the DataFrame\n",
    "cust_df_kmeans_cluster5_2_2.shape\n",
    "\n",
    "cust_df_kmeans_2.head(5)\n",
    "\n",
    "\n",
    "\n"
   ]
  },
  {
   "cell_type": "code",
   "execution_count": 132,
   "metadata": {},
   "outputs": [
    {
     "data": {
      "text/html": [
       "<div>\n",
       "<style scoped>\n",
       "    .dataframe tbody tr th:only-of-type {\n",
       "        vertical-align: middle;\n",
       "    }\n",
       "\n",
       "    .dataframe tbody tr th {\n",
       "        vertical-align: top;\n",
       "    }\n",
       "\n",
       "    .dataframe thead th {\n",
       "        text-align: right;\n",
       "    }\n",
       "</style>\n",
       "<table border=\"1\" class=\"dataframe\">\n",
       "  <thead>\n",
       "    <tr style=\"text-align: right;\">\n",
       "      <th></th>\n",
       "      <th>cluster5_2_2</th>\n",
       "      <th>TVWatchingHours</th>\n",
       "      <th>VoiceLastMonth_Coded</th>\n",
       "      <th>HHIncome</th>\n",
       "    </tr>\n",
       "  </thead>\n",
       "  <tbody>\n",
       "    <tr>\n",
       "      <th>0</th>\n",
       "      <td>4</td>\n",
       "      <td>13</td>\n",
       "      <td>19.50</td>\n",
       "      <td>31000.0</td>\n",
       "    </tr>\n",
       "    <tr>\n",
       "      <th>1</th>\n",
       "      <td>2</td>\n",
       "      <td>18</td>\n",
       "      <td>26.70</td>\n",
       "      <td>15000.0</td>\n",
       "    </tr>\n",
       "    <tr>\n",
       "      <th>2</th>\n",
       "      <td>2</td>\n",
       "      <td>21</td>\n",
       "      <td>85.20</td>\n",
       "      <td>35000.0</td>\n",
       "    </tr>\n",
       "    <tr>\n",
       "      <th>3</th>\n",
       "      <td>3</td>\n",
       "      <td>26</td>\n",
       "      <td>18.00</td>\n",
       "      <td>20000.0</td>\n",
       "    </tr>\n",
       "    <tr>\n",
       "      <th>4</th>\n",
       "      <td>3</td>\n",
       "      <td>27</td>\n",
       "      <td>9.15</td>\n",
       "      <td>23000.0</td>\n",
       "    </tr>\n",
       "  </tbody>\n",
       "</table>\n",
       "</div>"
      ],
      "text/plain": [
       "   cluster5_2_2  TVWatchingHours  VoiceLastMonth_Coded  HHIncome\n",
       "0             4               13                 19.50   31000.0\n",
       "1             2               18                 26.70   15000.0\n",
       "2             2               21                 85.20   35000.0\n",
       "3             3               26                 18.00   20000.0\n",
       "4             3               27                  9.15   23000.0"
      ]
     },
     "execution_count": 132,
     "metadata": {},
     "output_type": "execute_result"
    },
    {
     "data": {
      "text/plain": [
       "(5000, 4)"
      ]
     },
     "execution_count": 132,
     "metadata": {},
     "output_type": "execute_result"
    },
    {
     "data": {
      "text/plain": [
       "2    2363\n",
       "3    1180\n",
       "4     784\n",
       "5     351\n",
       "1     322\n",
       "Name: cluster5_2_2, dtype: int64"
      ]
     },
     "execution_count": 132,
     "metadata": {},
     "output_type": "execute_result"
    }
   ],
   "source": [
    "# Joining the clusters from kmeans to the original data used for clustering\n",
    "cust_df_clus5_rf_2 = pd.DataFrame(pd.concat([cust_df_kmeans_cluster5_2_2, cust_df_kmeans_2], axis = 1))\n",
    "\n",
    "cust_df_clus5_rf_2.head()\n",
    "\n",
    "cust_df_clus5_rf_2.shape\n",
    "\n",
    "# Check on the cluster distribution after extraction and concatenating\n",
    "cust_df_clus5_rf_2['cluster5_2_2'].value_counts()"
   ]
  },
  {
   "cell_type": "code",
   "execution_count": null,
   "metadata": {},
   "outputs": [],
   "source": []
  }
 ],
 "metadata": {
  "kernelspec": {
   "display_name": "Python 3",
   "language": "python",
   "name": "python3"
  },
  "language_info": {
   "codemirror_mode": {
    "name": "ipython",
    "version": 3
   },
   "file_extension": ".py",
   "mimetype": "text/x-python",
   "name": "python",
   "nbconvert_exporter": "python",
   "pygments_lexer": "ipython3",
   "version": "3.7.4"
  }
 },
 "nbformat": 4,
 "nbformat_minor": 4
}
